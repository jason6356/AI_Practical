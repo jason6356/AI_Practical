{
 "cells": [
  {
   "cell_type": "markdown",
   "id": "ad61560f",
   "metadata": {},
   "source": [
    "### 1"
   ]
  },
  {
   "cell_type": "code",
   "execution_count": 13,
   "id": "076ed3e2",
   "metadata": {},
   "outputs": [
    {
     "name": "stdout",
     "output_type": "stream",
     "text": [
      "Enter radius : 3\n",
      "Enter height : 4\n",
      "The volume for the radius of 3 and height of 4 is 113.09733552923255\n"
     ]
    }
   ],
   "source": [
    "import math\n",
    "\n",
    "def calculateVolume(r, h):\n",
    "    return math.pi * r**2 * h\n",
    "\n",
    "r = int(input(\"Enter radius : \"))\n",
    "h = int(input(\"Enter height : \"))\n",
    "volume = calculateVolume(r, h)\n",
    "\n",
    "print(f\"The volume for the radius of {r} and height of {h} is {volume}\")"
   ]
  },
  {
   "cell_type": "markdown",
   "id": "a3a08b01",
   "metadata": {},
   "source": [
    "### 2"
   ]
  },
  {
   "cell_type": "code",
   "execution_count": 33,
   "id": "53dca954",
   "metadata": {
    "scrolled": true
   },
   "outputs": [
    {
     "name": "stdout",
     "output_type": "stream",
     "text": [
      "First\n",
      " x : 798\n",
      " y : 477\n",
      "Second\n",
      " x : 544\n",
      " y : 167\n",
      "Speed : 400.76926029824193\n"
     ]
    }
   ],
   "source": [
    "import time as t\n",
    "import random \n",
    "\n",
    "### Define a function named calculateMouseSpeed \n",
    "### Params @Tuple first - First Coordinate\n",
    "###        @Tuple second - Second Coordinate\n",
    "### Returns @Number speed - speed of the mouse\n",
    "\n",
    "def calculateMouseSpeed(first, second, currTime):\n",
    "    distance = math.sqrt(pow(second[0] - first[0], 2)+pow(second[1] - first[1], 2))\n",
    "    speed = distance / currTime\n",
    "    return speed\n",
    "\n",
    "### Constants for the Screen Resolution\n",
    "SCREEN_WIDTH = 1280\n",
    "SCREEN_HEIGHT = 800\n",
    "\n",
    "start = t.time()\n",
    "\n",
    "### Randomly Generate Two Coordinates of a mouse pointer (within the screen resolution)\n",
    "first = (random.randint(1, SCREEN_WIDTH), random.randint(1,SCREEN_HEIGHT))\n",
    "second = (random.randint(1,SCREEN_WIDTH),random.randint(1,SCREEN_HEIGHT))\n",
    "\n",
    "### Assuming the end time is 1 second after start time\n",
    "end = start + 1\n",
    "\n",
    "speed = calculateMouseSpeed(first,second,end-start)\n",
    "\n",
    "print(f\"First\\n x : {first[0]}\\n y : {first[1]}\")\n",
    "print(f\"Second\\n x : {second[0]}\\n y : {second[1]}\")\n",
    "print(f\"Speed : {speed}\")\n",
    "\n",
    "\n",
    "    \n",
    "\n",
    "    \n",
    "\n",
    "\n"
   ]
  },
  {
   "cell_type": "markdown",
   "id": "f2a7a638",
   "metadata": {},
   "source": [
    "### 3 (Modify 2)"
   ]
  },
  {
   "cell_type": "code",
   "execution_count": 12,
   "id": "9a948acf",
   "metadata": {
    "scrolled": true
   },
   "outputs": [
    {
     "name": "stdout",
     "output_type": "stream",
     "text": [
      "Sleeping for 1 second\n",
      "Sleeping for 1 second\n",
      "Sleeping for 1 second\n",
      "Sleeping for 1 second\n",
      "Sleeping for 1 second\n",
      "Sleeping for 1 second\n",
      "Sleeping for 1 second\n",
      "Sleeping for 1 second\n",
      "Sleeping for 1 second\n",
      "Sleeping for 1 second\n",
      "[(859, 318), (1172, 510), (301, 390), (609, 722), (655, 141), (406, 119), (715, 67), (33, 581), (882, 179), (644, 466)] 1676567094.0530205 1676567083.949023\n",
      "C1\n",
      " x : 859\n",
      " y : 318\n",
      "C2\n",
      " x : 1172\n",
      " y : 510\n",
      "C3\n",
      " x : 301\n",
      " y : 390\n",
      "C4\n",
      " x : 609\n",
      " y : 722\n",
      "C5\n",
      " x : 655\n",
      " y : 141\n",
      "C6\n",
      " x : 406\n",
      " y : 119\n",
      "C7\n",
      " x : 715\n",
      " y : 67\n",
      "C8\n",
      " x : 33\n",
      " y : 581\n",
      "C9\n",
      " x : 882\n",
      " y : 179\n",
      "C10\n",
      " x : 644\n",
      " y : 466\n",
      "Average Speed : 496.00507582329027\n"
     ]
    }
   ],
   "source": [
    "import time as t\n",
    "import random \n",
    "import math\n",
    "\n",
    "### Define a function named calculateMouseSpeed \n",
    "### Params @Tuple first - First Coordinate\n",
    "###        @Tuple second - Second Coordinate\n",
    "### Returns @Number speed - speed of the mouse\n",
    "\n",
    "def calculateMouseSpeed(first, second, currTime):\n",
    "    distance = calculateDistance(first,second)\n",
    "    speed = distance / currTime\n",
    "    return speed\n",
    "\n",
    "### Function for calculation Distance (lazy method for reusing)\n",
    "### Params @Tuple first - First Coordinate\n",
    "### Params @Tuple Second - Second Coordinate\n",
    "### Returns @Number distance - distance between the coordinate\n",
    "def calculateDistance(first, second):\n",
    "    return math.sqrt(pow(second[0] - first[0], 2)+pow(second[1] - first[1], 2))\n",
    "\n",
    "### Overloading Function for the params to accept list of coordinates to return average time\n",
    "### Params @List coordinatesList - List of Tuple of Coordinates\n",
    "### Returns @Number speed - Average Speed of the mouse\n",
    "def calculateMouseSpeed(coordinatesList, totalTime):\n",
    "    totalDistance = 0\n",
    "    prev = None\n",
    "    for cord in coordinatesList:\n",
    "        if prev is None:\n",
    "            prev = cord\n",
    "            continue\n",
    "        \n",
    "        totalDistance += calculateDistance(prev, cord)\n",
    "        prev = cord\n",
    "    \n",
    "    return totalDistance / totalTime\n",
    "    \n",
    "### Constants for the Screen Resolution\n",
    "SCREEN_WIDTH = 1280\n",
    "SCREEN_HEIGHT = 800\n",
    "\n",
    "start = t.time()\n",
    "coordinatesList = []\n",
    "\n",
    "for i in range(10):\n",
    "    newCord = (random.randint(1, SCREEN_WIDTH), random.randint(1,SCREEN_HEIGHT))\n",
    "    coordinatesList.append(newCord)\n",
    "    print(\"Sleeping for 1 second\")\n",
    "    t.sleep(1)\n",
    "\n",
    "end = t.time()\n",
    "\n",
    "print(coordinatesList, end, start)\n",
    "### Get Average Speed\n",
    "averageSpeed = calculateMouseSpeed(coordinatesList, end - start)\n",
    "\n",
    "i = 1\n",
    "for cord in coordinatesList:\n",
    "    print(f\"C{i}\\n x : {cord[0]}\\n y : {cord[1]}\")\n",
    "    i+=1\n",
    "\n",
    "print(f\"Average Speed : {averageSpeed}\")\n",
    "\n",
    "\n",
    "    \n",
    "\n",
    "    \n",
    "\n",
    "\n"
   ]
  },
  {
   "cell_type": "markdown",
   "id": "903a4ac4",
   "metadata": {},
   "source": [
    "### Question 4 "
   ]
  },
  {
   "cell_type": "code",
   "execution_count": 25,
   "id": "5431bd34",
   "metadata": {},
   "outputs": [
    {
     "name": "stderr",
     "output_type": "stream",
     "text": [
      "C:\\Users\\Jason\\AppData\\Local\\Temp\\ipykernel_23148\\1282742187.py:7: DeprecationWarning: Sampling from a set deprecated\n",
      "since Python 3.9 and will be removed in a subsequent version.\n",
      "  answer = random.sample(CODES, 4)\n"
     ]
    },
    {
     "name": "stdout",
     "output_type": "stream",
     "text": [
      "Given the set of colors -  {'blue', 'green', 'purple', 'orange', 'red', 'cyan'}\n",
      "Enter ordered list of 4 colours - blue green purple orange\n",
      "white\n",
      "white\n",
      "white\n",
      "Enter ordered list of 4 colours - blue green purple red\n",
      "white\n",
      "white\n",
      "white\n",
      "white\n",
      "Enter ordered list of 4 colours - green blue purple red\n",
      "black\n",
      "black\n",
      "white\n",
      "white\n",
      "Enter ordered list of 4 colours - blue green red purple\n",
      "white\n",
      "white\n",
      "black\n",
      "black\n",
      "Enter ordered list of 4 colours - green blue red purple\n",
      "black\n",
      "black\n",
      "black\n",
      "black\n",
      "Congratulation\n",
      "Would you like for another round ? n\n"
     ]
    }
   ],
   "source": [
    "import random\n",
    "\n",
    "CODES = set(['green', 'cyan', 'red', 'purple', 'blue', 'orange'])\n",
    "\n",
    "def mastermind():\n",
    "    num_of_trials = 10\n",
    "    answer = random.sample(CODES, 4)\n",
    "    allMatch = True\n",
    "    print(\"Given the set of colors - \", CODES)\n",
    "    \n",
    "    while num_of_trials > 0:\n",
    "        allMatch = True\n",
    "        guess = input(\"Enter ordered list of 4 colours - \").split(\" \")\n",
    "        for i in range(len(answer)):\n",
    "            if guess[i] == answer[i]:\n",
    "                print(\"black\")\n",
    "            elif guess[i] in answer:\n",
    "                print(\"white\")\n",
    "                allMatch = False\n",
    "            else:\n",
    "                allMatch = False\n",
    "        \n",
    "        if allMatch:\n",
    "            break\n",
    "        num_of_trials -= 1\n",
    "    \n",
    "    if allMatch:\n",
    "        print(\"Congratulation\")\n",
    "    else:\n",
    "        print(\"You lose\")\n",
    "        \n",
    "### Main code\n",
    "gameLoop = True\n",
    "\n",
    "while gameLoop:\n",
    "    mastermind()\n",
    "    result = input(\"Would you like for another round ? \")\n",
    "    gameLoop = result.upper() == 'Y'\n",
    "\n",
    "\n",
    "\n",
    "    \n",
    "\n",
    "\n",
    "\n"
   ]
  }
 ],
 "metadata": {
  "kernelspec": {
   "display_name": "Python 3 (ipykernel)",
   "language": "python",
   "name": "python3"
  },
  "language_info": {
   "codemirror_mode": {
    "name": "ipython",
    "version": 3
   },
   "file_extension": ".py",
   "mimetype": "text/x-python",
   "name": "python",
   "nbconvert_exporter": "python",
   "pygments_lexer": "ipython3",
   "version": "3.9.13"
  }
 },
 "nbformat": 4,
 "nbformat_minor": 5
}
