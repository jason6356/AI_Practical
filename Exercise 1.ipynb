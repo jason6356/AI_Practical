{
 "cells": [
  {
   "cell_type": "markdown",
   "id": "ad61560f",
   "metadata": {},
   "source": [
    "### 1"
   ]
  },
  {
   "cell_type": "code",
   "execution_count": 13,
   "id": "076ed3e2",
   "metadata": {},
   "outputs": [
    {
     "name": "stdout",
     "output_type": "stream",
     "text": [
      "Enter radius : 3\n",
      "Enter height : 4\n",
      "The volume for the radius of 3 and height of 4 is 113.09733552923255\n"
     ]
    }
   ],
   "source": [
    "import math\n",
    "\n",
    "def calculateVolume(r, h):\n",
    "    return math.pi * r**2 * h\n",
    "\n",
    "r = int(input(\"Enter radius : \"))\n",
    "h = int(input(\"Enter height : \"))\n",
    "volume = calculateVolume(r, h)\n",
    "\n",
    "print(f\"The volume for the radius of {r} and height of {h} is {volume}\")"
   ]
  },
  {
   "cell_type": "markdown",
   "id": "a3a08b01",
   "metadata": {},
   "source": [
    "### 2"
   ]
  },
  {
   "cell_type": "code",
   "execution_count": 33,
   "id": "53dca954",
   "metadata": {
    "scrolled": true
   },
   "outputs": [
    {
     "name": "stdout",
     "output_type": "stream",
     "text": [
      "First\n",
      " x : 798\n",
      " y : 477\n",
      "Second\n",
      " x : 544\n",
      " y : 167\n",
      "Speed : 400.76926029824193\n"
     ]
    }
   ],
   "source": [
    "import time as t\n",
    "import random \n",
    "\n",
    "### Define a function named calculateMouseSpeed \n",
    "### Params @Tuple first - First Coordinate\n",
    "###        @Tuple second - Second Coordinate\n",
    "### Returns @Number speed - speed of the mouse\n",
    "\n",
    "def calculateMouseSpeed(first, second, currTime):\n",
    "    distance = math.sqrt(pow(second[0] - first[0], 2)+pow(second[1] - first[1], 2))\n",
    "    speed = distance / currTime\n",
    "    return speed\n",
    "\n",
    "### Constants for the Screen Resolution\n",
    "SCREEN_WIDTH = 1280\n",
    "SCREEN_HEIGHT = 800\n",
    "\n",
    "start = t.time()\n",
    "\n",
    "### Randomly Generate Two Coordinates of a mouse pointer (within the screen resolution)\n",
    "first = (random.randint(1, SCREEN_WIDTH), random.randint(1,SCREEN_HEIGHT))\n",
    "second = (random.randint(1,SCREEN_WIDTH),random.randint(1,SCREEN_HEIGHT))\n",
    "\n",
    "### Assuming the end time is 1 second after start time\n",
    "end = start + 1\n",
    "\n",
    "speed = calculateMouseSpeed(first,second,end-start)\n",
    "\n",
    "print(f\"First\\n x : {first[0]}\\n y : {first[1]}\")\n",
    "print(f\"Second\\n x : {second[0]}\\n y : {second[1]}\")\n",
    "print(f\"Speed : {speed}\")\n",
    "\n",
    "\n",
    "    \n",
    "\n",
    "    \n",
    "\n",
    "\n"
   ]
  },
  {
   "cell_type": "markdown",
   "id": "f2a7a638",
   "metadata": {},
   "source": [
    "### 3 (Modify 2)"
   ]
  },
  {
   "cell_type": "code",
   "execution_count": 12,
   "id": "9a948acf",
   "metadata": {
    "scrolled": true
   },
   "outputs": [
    {
     "name": "stdout",
     "output_type": "stream",
     "text": [
      "Sleeping for 1 second\n",
      "Sleeping for 1 second\n",
      "Sleeping for 1 second\n",
      "Sleeping for 1 second\n",
      "Sleeping for 1 second\n",
      "Sleeping for 1 second\n",
      "Sleeping for 1 second\n",
      "Sleeping for 1 second\n",
      "Sleeping for 1 second\n",
      "Sleeping for 1 second\n",
      "[(859, 318), (1172, 510), (301, 390), (609, 722), (655, 141), (406, 119), (715, 67), (33, 581), (882, 179), (644, 466)] 1676567094.0530205 1676567083.949023\n",
      "C1\n",
      " x : 859\n",
      " y : 318\n",
      "C2\n",
      " x : 1172\n",
      " y : 510\n",
      "C3\n",
      " x : 301\n",
      " y : 390\n",
      "C4\n",
      " x : 609\n",
      " y : 722\n",
      "C5\n",
      " x : 655\n",
      " y : 141\n",
      "C6\n",
      " x : 406\n",
      " y : 119\n",
      "C7\n",
      " x : 715\n",
      " y : 67\n",
      "C8\n",
      " x : 33\n",
      " y : 581\n",
      "C9\n",
      " x : 882\n",
      " y : 179\n",
      "C10\n",
      " x : 644\n",
      " y : 466\n",
      "Average Speed : 496.00507582329027\n"
     ]
    }
   ],
   "source": [
    "import time as t\n",
    "import random \n",
    "import math\n",
    "\n",
    "### Define a function named calculateMouseSpeed \n",
    "### Params @Tuple first - First Coordinate\n",
    "###        @Tuple second - Second Coordinate\n",
    "### Returns @Number speed - speed of the mouse\n",
    "\n",
    "def calculateMouseSpeed(first, second, currTime):\n",
    "    distance = calculateDistance(first,second)\n",
    "    speed = distance / currTime\n",
    "    return speed\n",
    "\n",
    "### Function for calculation Distance (lazy method for reusing)\n",
    "### Params @Tuple first - First Coordinate\n",
    "### Params @Tuple Second - Second Coordinate\n",
    "### Returns @Number distance - distance between the coordinate\n",
    "def calculateDistance(first, second):\n",
    "    return math.sqrt(pow(second[0] - first[0], 2)+pow(second[1] - first[1], 2))\n",
    "\n",
    "### Overloading Function for the params to accept list of coordinates to return average time\n",
    "### Params @List coordinatesList - List of Tuple of Coordinates\n",
    "### Returns @Number speed - Average Speed of the mouse\n",
    "def calculateMouseSpeed(coordinatesList, totalTime):\n",
    "    totalDistance = 0\n",
    "    prev = None\n",
    "    for cord in coordinatesList:\n",
    "        if prev is None:\n",
    "            prev = cord\n",
    "            continue\n",
    "        \n",
    "        totalDistance += calculateDistance(prev, cord)\n",
    "        prev = cord\n",
    "    \n",
    "    return totalDistance / totalTime\n",
    "    \n",
    "### Constants for the Screen Resolution\n",
    "SCREEN_WIDTH = 1280\n",
    "SCREEN_HEIGHT = 800\n",
    "\n",
    "start = t.time()\n",
    "coordinatesList = []\n",
    "\n",
    "for i in range(10):\n",
    "    newCord = (random.randint(1, SCREEN_WIDTH), random.randint(1,SCREEN_HEIGHT))\n",
    "    coordinatesList.append(newCord)\n",
    "    print(\"Sleeping for 1 second\")\n",
    "    t.sleep(1)\n",
    "\n",
    "end = t.time()\n",
    "\n",
    "print(coordinatesList, end, start)\n",
    "### Get Average Speed\n",
    "averageSpeed = calculateMouseSpeed(coordinatesList, end - start)\n",
    "\n",
    "i = 1\n",
    "for cord in coordinatesList:\n",
    "    print(f\"C{i}\\n x : {cord[0]}\\n y : {cord[1]}\")\n",
    "    i+=1\n",
    "\n",
    "print(f\"Average Speed : {averageSpeed}\")\n",
    "\n",
    "\n",
    "    \n",
    "\n",
    "    \n",
    "\n",
    "\n"
   ]
  },
  {
   "cell_type": "markdown",
   "id": "903a4ac4",
   "metadata": {},
   "source": [
    "### Question 4 "
   ]
  },
  {
   "cell_type": "code",
   "execution_count": 1,
   "id": "5431bd34",
   "metadata": {},
   "outputs": [
    {
     "name": "stderr",
     "output_type": "stream",
     "text": [
      "C:\\Users\\StudentPC4\\AppData\\Local\\Temp\\ipykernel_336\\1282742187.py:7: DeprecationWarning: Sampling from a set deprecated\n",
      "since Python 3.9 and will be removed in a subsequent version.\n",
      "  answer = random.sample(CODES, 4)\n"
     ]
    },
    {
     "name": "stdout",
     "output_type": "stream",
     "text": [
      "Given the set of colors -  {'green', 'blue', 'orange', 'purple', 'red', 'cyan'}\n",
      "Enter ordered list of 4 colours - a\n"
     ]
    },
    {
     "ename": "IndexError",
     "evalue": "list index out of range",
     "output_type": "error",
     "traceback": [
      "\u001b[1;31m---------------------------------------------------------------------------\u001b[0m",
      "\u001b[1;31mIndexError\u001b[0m                                Traceback (most recent call last)",
      "Input \u001b[1;32mIn [1]\u001b[0m, in \u001b[0;36m<cell line: 35>\u001b[1;34m()\u001b[0m\n\u001b[0;32m     33\u001b[0m gameLoop \u001b[38;5;241m=\u001b[39m \u001b[38;5;28;01mTrue\u001b[39;00m\n\u001b[0;32m     35\u001b[0m \u001b[38;5;28;01mwhile\u001b[39;00m gameLoop:\n\u001b[1;32m---> 36\u001b[0m     \u001b[43mmastermind\u001b[49m\u001b[43m(\u001b[49m\u001b[43m)\u001b[49m\n\u001b[0;32m     37\u001b[0m     result \u001b[38;5;241m=\u001b[39m \u001b[38;5;28minput\u001b[39m(\u001b[38;5;124m\"\u001b[39m\u001b[38;5;124mWould you like for another round ? \u001b[39m\u001b[38;5;124m\"\u001b[39m)\n\u001b[0;32m     38\u001b[0m     gameLoop \u001b[38;5;241m=\u001b[39m result\u001b[38;5;241m.\u001b[39mupper() \u001b[38;5;241m==\u001b[39m \u001b[38;5;124m'\u001b[39m\u001b[38;5;124mY\u001b[39m\u001b[38;5;124m'\u001b[39m\n",
      "Input \u001b[1;32mIn [1]\u001b[0m, in \u001b[0;36mmastermind\u001b[1;34m()\u001b[0m\n\u001b[0;32m     13\u001b[0m guess \u001b[38;5;241m=\u001b[39m \u001b[38;5;28minput\u001b[39m(\u001b[38;5;124m\"\u001b[39m\u001b[38;5;124mEnter ordered list of 4 colours - \u001b[39m\u001b[38;5;124m\"\u001b[39m)\u001b[38;5;241m.\u001b[39msplit(\u001b[38;5;124m\"\u001b[39m\u001b[38;5;124m \u001b[39m\u001b[38;5;124m\"\u001b[39m)\n\u001b[0;32m     14\u001b[0m \u001b[38;5;28;01mfor\u001b[39;00m i \u001b[38;5;129;01min\u001b[39;00m \u001b[38;5;28mrange\u001b[39m(\u001b[38;5;28mlen\u001b[39m(answer)):\n\u001b[1;32m---> 15\u001b[0m     \u001b[38;5;28;01mif\u001b[39;00m \u001b[43mguess\u001b[49m\u001b[43m[\u001b[49m\u001b[43mi\u001b[49m\u001b[43m]\u001b[49m \u001b[38;5;241m==\u001b[39m answer[i]:\n\u001b[0;32m     16\u001b[0m         \u001b[38;5;28mprint\u001b[39m(\u001b[38;5;124m\"\u001b[39m\u001b[38;5;124mblack\u001b[39m\u001b[38;5;124m\"\u001b[39m)\n\u001b[0;32m     17\u001b[0m     \u001b[38;5;28;01melif\u001b[39;00m guess[i] \u001b[38;5;129;01min\u001b[39;00m answer:\n",
      "\u001b[1;31mIndexError\u001b[0m: list index out of range"
     ]
    }
   ],
   "source": [
    "import random\n",
    "\n",
    "CODES = set(['green', 'cyan', 'red', 'purple', 'blue', 'orange'])\n",
    "\n",
    "def mastermind():\n",
    "    num_of_trials = 10\n",
    "    answer = random.sample(CODES, 4)\n",
    "    allMatch = True\n",
    "    print(\"Given the set of colors - \", CODES)\n",
    "    \n",
    "    while num_of_trials > 0:\n",
    "        allMatch = True\n",
    "        guess = input(\"Enter ordered list of 4 colours - \").split(\" \")\n",
    "        for i in range(len(answer)):\n",
    "            if guess[i] == answer[i]:\n",
    "                print(\"black\")\n",
    "            elif guess[i] in answer:\n",
    "                print(\"white\")\n",
    "                allMatch = False\n",
    "            else:\n",
    "                allMatch = False\n",
    "        \n",
    "        if allMatch:\n",
    "            break\n",
    "        num_of_trials -= 1\n",
    "    \n",
    "    if allMatch:\n",
    "        print(\"Congratulation\")\n",
    "    else:\n",
    "        print(\"You lose\")\n",
    "        \n",
    "### Main code\n",
    "gameLoop = True\n",
    "\n",
    "while gameLoop:\n",
    "    mastermind()\n",
    "    result = input(\"Would you like for another round ? \")\n",
    "    gameLoop = result.upper() == 'Y'\n",
    "\n",
    "\n",
    "\n",
    "    \n",
    "\n",
    "\n",
    "\n"
   ]
  },
  {
   "cell_type": "markdown",
   "id": "c780480e",
   "metadata": {},
   "source": [
    "#### Part 3\n"
   ]
  },
  {
   "cell_type": "code",
   "execution_count": 4,
   "id": "e58f55a5",
   "metadata": {},
   "outputs": [
    {
     "name": "stdout",
     "output_type": "stream",
     "text": [
      "How old are you?10\n",
      "How tall are you?180.1\n",
      "What is your CGPA3.9\n",
      "<class 'int'>\n",
      "<class 'float'>\n",
      "<class 'float'>\n"
     ]
    }
   ],
   "source": [
    "# Default return type for input() is str, therefore we need to cast it\n",
    "\n",
    "age = int(input(\"How old are you? \"))\n",
    "height = float(input(\"How tall are you? \"))\n",
    "result = float(input(\"What is your CGPA \"))\n",
    "\n",
    "print(type(age))\n",
    "print(type(height))\n",
    "print(type(result))"
   ]
  },
  {
   "cell_type": "markdown",
   "id": "fab08061",
   "metadata": {},
   "source": [
    "#### 2."
   ]
  },
  {
   "cell_type": "code",
   "execution_count": 10,
   "id": "2bb219bb",
   "metadata": {},
   "outputs": [
    {
     "name": "stdout",
     "output_type": "stream",
     "text": [
      "colourless\n"
     ]
    }
   ],
   "source": [
    "s = 'color'\n",
    "\n",
    "print(s[0:4] + 'urless')"
   ]
  },
  {
   "cell_type": "markdown",
   "id": "ba8f5b2a",
   "metadata": {},
   "source": [
    "#### 3. "
   ]
  },
  {
   "cell_type": "code",
   "execution_count": null,
   "id": "041bb999",
   "metadata": {},
   "outputs": [],
   "source": [
    "with open('pg2554.txt', 'r') as file:\n",
    "    lines = fp.readlines()\n",
    "    while True:\n",
    "        searchPhrase = input(\"Enter keyword or Keyphrase: \")\n",
    "        \n",
    "        if(searchPhrase == 'quit'):\n",
    "            break\n",
    "        \n",
    "        for row in lines:\n",
    "            if row.find(searchPhrase) != -1:\n",
    "                print(f'{searchPhrase} found at index {lines.index(line)}')\n",
    "                print(f'{searchPhrase} appears {lines.count(searchPhrase)} times(s)')\n",
    "            else:\n",
    "                print(f'${searchPhrase} not found')\n",
    "                \n",
    "        \n",
    "            \n",
    "            \n",
    "\n",
    "\n",
    "\n"
   ]
  },
  {
   "cell_type": "markdown",
   "id": "7f0ac114",
   "metadata": {},
   "source": [
    "#### 4. "
   ]
  },
  {
   "cell_type": "code",
   "execution_count": 13,
   "id": "450f54e1",
   "metadata": {},
   "outputs": [
    {
     "name": "stdout",
     "output_type": "stream",
     "text": [
      "Python World\n"
     ]
    }
   ],
   "source": [
    "s = 'Hello World'\n",
    "\n",
    "print(s.replace('Hello', 'Python'))\n",
    "\n",
    "\n",
    "\n"
   ]
  },
  {
   "cell_type": "markdown",
   "id": "abae4b19",
   "metadata": {},
   "source": [
    "#### 5."
   ]
  },
  {
   "cell_type": "code",
   "execution_count": null,
   "id": "759b3263",
   "metadata": {},
   "outputs": [],
   "source": [
    "def password_check(password):\n",
    "    if len(password) < 8 || password.isalpha() || password.isupper():\n",
    "        return False\n",
    "    \n",
    "    return True\n",
    "\n",
    "password = input(\"Enter your password\")\n",
    "\n",
    "\n"
   ]
  }
 ],
 "metadata": {
  "kernelspec": {
   "display_name": "Python 3 (ipykernel)",
   "language": "python",
   "name": "python3"
  },
  "language_info": {
   "codemirror_mode": {
    "name": "ipython",
    "version": 3
   },
   "file_extension": ".py",
   "mimetype": "text/x-python",
   "name": "python",
   "nbconvert_exporter": "python",
   "pygments_lexer": "ipython3",
   "version": "3.9.13"
  }
 },
 "nbformat": 4,
 "nbformat_minor": 5
}
