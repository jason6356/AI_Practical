{
 "cells": [
  {
   "cell_type": "markdown",
   "id": "ad61560f",
   "metadata": {},
   "source": [
    "### 1"
   ]
  },
  {
   "cell_type": "code",
   "execution_count": 13,
   "id": "076ed3e2",
   "metadata": {},
   "outputs": [
    {
     "name": "stdout",
     "output_type": "stream",
     "text": [
      "Enter radius : 3\n",
      "Enter height : 4\n",
      "The volume for the radius of 3 and height of 4 is 113.09733552923255\n"
     ]
    }
   ],
   "source": [
    "import math\n",
    "\n",
    "def calculateVolume(r, h):\n",
    "    return math.pi * r**2 * h\n",
    "\n",
    "r = int(input(\"Enter radius : \"))\n",
    "h = int(input(\"Enter height : \"))\n",
    "volume = calculateVolume(r, h)\n",
    "\n",
    "print(f\"The volume for the radius of {r} and height of {h} is {volume}\")"
   ]
  },
  {
   "cell_type": "markdown",
   "id": "a3a08b01",
   "metadata": {},
   "source": [
    "### 2"
   ]
  },
  {
   "cell_type": "code",
   "execution_count": 33,
   "id": "53dca954",
   "metadata": {
    "scrolled": true
   },
   "outputs": [
    {
     "name": "stdout",
     "output_type": "stream",
     "text": [
      "First\n",
      " x : 798\n",
      " y : 477\n",
      "Second\n",
      " x : 544\n",
      " y : 167\n",
      "Speed : 400.76926029824193\n"
     ]
    }
   ],
   "source": [
    "import time as t\n",
    "import random \n",
    "\n",
    "### Define a function named calculateMouseSpeed \n",
    "### Params @Tuple first - First Coordinate\n",
    "###        @Tuple second - Second Coordinate\n",
    "### Returns @Number speed - speed of the mouse\n",
    "\n",
    "def calculateMouseSpeed(first, second, currTime):\n",
    "    distance = math.sqrt(pow(second[0] - first[0], 2)+pow(second[1] - first[1], 2))\n",
    "    speed = distance / currTime\n",
    "    return speed\n",
    "\n",
    "### Constants for the Screen Resolution\n",
    "SCREEN_WIDTH = 1280\n",
    "SCREEN_HEIGHT = 800\n",
    "\n",
    "start = t.time()\n",
    "\n",
    "### Randomly Generate Two Coordinates of a mouse pointer (within the screen resolution)\n",
    "first = (random.randint(1, SCREEN_WIDTH), random.randint(1,SCREEN_HEIGHT))\n",
    "second = (random.randint(1,SCREEN_WIDTH),random.randint(1,SCREEN_HEIGHT))\n",
    "\n",
    "### Assuming the end time is 1 second after start time\n",
    "end = start + 1\n",
    "\n",
    "speed = calculateMouseSpeed(first,second,end-start)\n",
    "\n",
    "print(f\"First\\n x : {first[0]}\\n y : {first[1]}\")\n",
    "print(f\"Second\\n x : {second[0]}\\n y : {second[1]}\")\n",
    "print(f\"Speed : {speed}\")\n",
    "\n",
    "\n",
    "    \n",
    "\n",
    "    \n",
    "\n",
    "\n"
   ]
  },
  {
   "cell_type": "markdown",
   "id": "f2a7a638",
   "metadata": {},
   "source": [
    "### 3 (Modify 2)"
   ]
  },
  {
   "cell_type": "code",
   "execution_count": 9,
   "id": "9a948acf",
   "metadata": {
    "scrolled": true
   },
   "outputs": [
    {
     "name": "stdout",
     "output_type": "stream",
     "text": [
      "Sleeping for 1 second\n",
      "Sleeping for 1 second\n",
      "Sleeping for 1 second\n",
      "Sleeping for 1 second\n",
      "Sleeping for 1 second\n",
      "Sleeping for 1 second\n",
      "Sleeping for 1 second\n",
      "Sleeping for 1 second\n",
      "Sleeping for 1 second\n",
      "Sleeping for 1 second\n"
     ]
    },
    {
     "ename": "NameError",
     "evalue": "name 'coordiantesList' is not defined",
     "output_type": "error",
     "traceback": [
      "\u001b[1;31m---------------------------------------------------------------------------\u001b[0m",
      "\u001b[1;31mNameError\u001b[0m                                 Traceback (most recent call last)",
      "\u001b[1;32m~\\AppData\\Local\\Temp\\ipykernel_23148\\3780350954.py\u001b[0m in \u001b[0;36m<module>\u001b[1;34m\u001b[0m\n\u001b[0;32m     50\u001b[0m \u001b[0mend\u001b[0m \u001b[1;33m=\u001b[0m \u001b[0mt\u001b[0m\u001b[1;33m.\u001b[0m\u001b[0mtime\u001b[0m\u001b[1;33m(\u001b[0m\u001b[1;33m)\u001b[0m\u001b[1;33m\u001b[0m\u001b[1;33m\u001b[0m\u001b[0m\n\u001b[0;32m     51\u001b[0m \u001b[1;33m\u001b[0m\u001b[0m\n\u001b[1;32m---> 52\u001b[1;33m \u001b[0mprint\u001b[0m\u001b[1;33m(\u001b[0m\u001b[0mcoordiantesList\u001b[0m\u001b[1;33m,\u001b[0m \u001b[0mend\u001b[0m\u001b[1;33m,\u001b[0m \u001b[0mstart\u001b[0m\u001b[1;33m)\u001b[0m\u001b[1;33m\u001b[0m\u001b[1;33m\u001b[0m\u001b[0m\n\u001b[0m\u001b[0;32m     53\u001b[0m \u001b[1;31m### Get Average Speed\u001b[0m\u001b[1;33m\u001b[0m\u001b[1;33m\u001b[0m\u001b[0m\n\u001b[0;32m     54\u001b[0m \u001b[0maverageSpeed\u001b[0m \u001b[1;33m=\u001b[0m \u001b[0mcalculateMouseSpeed\u001b[0m\u001b[1;33m(\u001b[0m\u001b[0mcoordinatesList\u001b[0m\u001b[1;33m,\u001b[0m \u001b[0mend\u001b[0m \u001b[1;33m-\u001b[0m \u001b[0mstart\u001b[0m\u001b[1;33m)\u001b[0m\u001b[1;33m\u001b[0m\u001b[1;33m\u001b[0m\u001b[0m\n",
      "\u001b[1;31mNameError\u001b[0m: name 'coordiantesList' is not defined"
     ]
    }
   ],
   "source": [
    "import time as t\n",
    "import random \n",
    "\n",
    "### Define a function named calculateMouseSpeed \n",
    "### Params @Tuple first - First Coordinate\n",
    "###        @Tuple second - Second Coordinate\n",
    "### Returns @Number speed - speed of the mouse\n",
    "\n",
    "def calculateMouseSpeed(first, second, currTime):\n",
    "    distance = calculateDistance(first,second)\n",
    "    speed = distance / currTime\n",
    "    return speed\n",
    "\n",
    "### Function for calculation Distance (lazy method for reusing)\n",
    "### Params @Tuple first - First Coordinate\n",
    "### Params @Tuple Second - Second Coordinate\n",
    "### Returns @Number distance - distance between the coordinate\n",
    "def calculateDistance(first, second):\n",
    "    return math.sqrt(pow(second[0] - first[0], 2)+pow(second[1] - first[1], 2))\n",
    "\n",
    "### Overloading Function for the params to accept list of coordinates to return average time\n",
    "### Params @List coordinatesList - List of Tuple of Coordinates\n",
    "### Returns @Number speed - Average Speed of the mouse\n",
    "def calculateMouseSpeed(coordinatesList, totalTime):\n",
    "    totalDistance = 0\n",
    "    prev = None\n",
    "    for cord in coordinatesList:\n",
    "        if prev is None:\n",
    "            prev = cord\n",
    "            continue\n",
    "        \n",
    "        totalDistance += calculateDistance(prev, cord)\n",
    "        prev = cord\n",
    "    \n",
    "    return totalDistance / totalTime\n",
    "    \n",
    "### Constants for the Screen Resolution\n",
    "SCREEN_WIDTH = 1280\n",
    "SCREEN_HEIGHT = 800\n",
    "\n",
    "start = t.time()\n",
    "coordinatesList = []\n",
    "\n",
    "for i in range(10):\n",
    "    newCord = (random.randint(1, SCREEN_WIDTH), random.randint(1,SCREEN_HEIGHT))\n",
    "    coordinatesList.append(newCord)\n",
    "    print(\"Sleeping for 1 second\")\n",
    "    t.sleep(1)\n",
    "\n",
    "end = t.time()\n",
    "\n",
    "print(coordinatesList, end, start)\n",
    "### Get Average Speed\n",
    "averageSpeed = calculateMouseSpeed(coordinatesList, end - start)\n",
    "\n",
    "i = 1\n",
    "for cord in coordinatesList:\n",
    "    print(f\"C{i}\\n x : {cord[0]}\\n y : {cord[1]}\")\n",
    "    i+=1\n",
    "\n",
    "print(f\"Average Speed : {averageSpeed}\")\n",
    "\n",
    "\n",
    "    \n",
    "\n",
    "    \n",
    "\n",
    "\n"
   ]
  },
  {
   "cell_type": "markdown",
   "id": "903a4ac4",
   "metadata": {},
   "source": [
    "### Question 4 "
   ]
  },
  {
   "cell_type": "code",
   "execution_count": 1,
   "id": "5431bd34",
   "metadata": {},
   "outputs": [],
   "source": [
    "import random\n",
    "\n",
    "CODES = set(['green', 'cyan', 'red', 'purple', 'blue', 'orange'])\n",
    "\n",
    "def mastermind():\n",
    "    answer = random.sample(CODES, 4)\n",
    "    guess = []\n",
    "    for i in range(1,4):\n",
    "        guess.append(input(f\"Guess the code {i} :\"))\n",
    "    \n",
    "    \n",
    "\n",
    "\n",
    "def main():\n",
    "    gameLoop = true\n",
    "    while gameLoop:\n",
    "        answer = random.sample(CODES, 4)\n",
    "        guess = []\n",
    "        for i in range(1,4):\n",
    "            guess.append(input(f\"Guess the code {i} :\"))\n",
    "        \n",
    "        \n",
    "        \n",
    "        \n",
    "        \n",
    "        \n",
    "            \n",
    "    \n",
    "\n",
    "\n",
    "\n"
   ]
  }
 ],
 "metadata": {
  "kernelspec": {
   "display_name": "Python 3 (ipykernel)",
   "language": "python",
   "name": "python3"
  },
  "language_info": {
   "codemirror_mode": {
    "name": "ipython",
    "version": 3
   },
   "file_extension": ".py",
   "mimetype": "text/x-python",
   "name": "python",
   "nbconvert_exporter": "python",
   "pygments_lexer": "ipython3",
   "version": "3.9.13"
  }
 },
 "nbformat": 4,
 "nbformat_minor": 5
}
