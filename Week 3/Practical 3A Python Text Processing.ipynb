{
 "cells": [
  {
   "cell_type": "markdown",
   "metadata": {},
   "source": [
    "# Practical 3-1: Strings and Text Processing\n",
    "\n",
    "## Part 1: Strings\n",
    "\n",
    "### 1.1 Comparing Strings Using == and the is Keyword\n",
    "\n",
    "▪ The **==** operator compares the value or equality of two objects.\n",
    "\n",
    "▪ The **is** operator checks whether two variables point to the same object in memory."
   ]
  },
  {
   "cell_type": "code",
   "execution_count": null,
   "metadata": {},
   "outputs": [],
   "source": [
    "string_1 = 'hello world'\n",
    "string_2 = \"hello world\"\n",
    "\n",
    "print(string_1 == string_2)\n",
    "print(string_1 is string_2)"
   ]
  },
  {
   "cell_type": "code",
   "execution_count": null,
   "metadata": {},
   "outputs": [],
   "source": [
    "string_3 = 'hello world'\n",
    "print(string_1 is string_3)"
   ]
  },
  {
   "cell_type": "markdown",
   "metadata": {},
   "source": [
    "### 1.2 id()\n",
    "\n",
    "▪ The **id()** function returns a unique id for the specified object."
   ]
  },
  {
   "cell_type": "code",
   "execution_count": null,
   "metadata": {},
   "outputs": [],
   "source": [
    "print(id(string_1))\n",
    "print(id(string_2))\n",
    "print(id(string_3))"
   ]
  },
  {
   "cell_type": "markdown",
   "metadata": {},
   "source": [
    "### 1.3 Escape Sequence\n",
    "\n",
    "▪ An escape sequence starts with a backslash, which signifies that the next character after it has a different meaning."
   ]
  },
  {
   "cell_type": "code",
   "execution_count": null,
   "metadata": {},
   "outputs": [],
   "source": [
    "print(\"Bobby's World\")"
   ]
  },
  {
   "cell_type": "code",
   "execution_count": null,
   "metadata": {},
   "outputs": [],
   "source": [
    "print('Bobby\\'s World')"
   ]
  },
  {
   "cell_type": "code",
   "execution_count": null,
   "metadata": {},
   "outputs": [],
   "source": [
    "print(\"This is printed\\nin two lines\")"
   ]
  },
  {
   "cell_type": "markdown",
   "metadata": {},
   "source": [
    "### 1.4 Referencing a File\n",
    "\n",
    "<img src=\"properties.png\" width=\"300\">\n",
    "\n",
    "▪ Python allows us to use OS-X/Linux style slashes \"/\" even in Windows. \n",
    "\n",
    "▪ Therefore, we can refer to the file as 'C:/Users/narae/Desktop/alice.txt'.\n",
    "\n",
    "https://sites.pitt.edu/~naraehan/python3/file_path_cwd.html"
   ]
  },
  {
   "cell_type": "code",
   "execution_count": null,
   "metadata": {},
   "outputs": [],
   "source": [
    "print(\"C:/Users/User/Desktop/Files\")"
   ]
  },
  {
   "cell_type": "code",
   "execution_count": null,
   "metadata": {},
   "outputs": [],
   "source": [
    "print(\"C:\\Users\\User\\Desktop\\Files\")"
   ]
  },
  {
   "cell_type": "code",
   "execution_count": null,
   "metadata": {},
   "outputs": [],
   "source": [
    "print(\"C:\\\\Users\\\\User\\\\Desktop\\\\Files\")"
   ]
  },
  {
   "cell_type": "markdown",
   "metadata": {},
   "source": [
    "### 1.5 Multiline Strings: Line Continuation Character\n",
    "\n",
    "▪ In Python, a backslash \"\\\\\" can also be used as a line continuation character."
   ]
  },
  {
   "cell_type": "code",
   "execution_count": null,
   "metadata": {},
   "outputs": [],
   "source": [
    "message = \"two lines \"\n",
    "\"of text\"\n",
    "print(message)"
   ]
  },
  {
   "cell_type": "code",
   "execution_count": null,
   "metadata": {},
   "outputs": [],
   "source": [
    "# A string literal can span multiple lines, but there must be a backslash \\ at the end of each line to escape the newline.\n",
    "message = \"two lines \"\\\n",
    "\"of text\"\n",
    "print(message)"
   ]
  },
  {
   "cell_type": "code",
   "execution_count": null,
   "metadata": {},
   "outputs": [],
   "source": [
    "total = 1 + 2\\\n",
    "    + 3\n",
    "    \n",
    "print(total)"
   ]
  },
  {
   "cell_type": "markdown",
   "metadata": {},
   "source": [
    "### 1.6 Multiline Strings: Parentheses\n",
    "\n",
    "▪ Multiline strings can also be achieved with the use of parentheses \"()\"."
   ]
  },
  {
   "cell_type": "code",
   "execution_count": null,
   "metadata": {},
   "outputs": [],
   "source": [
    "print(\"two lines of text \"\n",
    "    'in code cell') "
   ]
  },
  {
   "cell_type": "code",
   "execution_count": null,
   "metadata": {},
   "outputs": [],
   "source": [
    "text = (\"several lines \" \n",
    "        \"of text \"\n",
    "        \"in code cell\")\n",
    "print(text)"
   ]
  },
  {
   "cell_type": "markdown",
   "metadata": {},
   "source": [
    "### 1.7 Multiline Strings: Triple Single Quotes or Triple Double Quotes\n",
    "\n",
    "▪ If we want to make sure the output looks exactly like how we placed it, use triple quotation marks (\"\"\" or ''')."
   ]
  },
  {
   "cell_type": "code",
   "execution_count": null,
   "metadata": {},
   "outputs": [],
   "source": [
    "print(\"\"\"several\n",
    "    lines of\n",
    "        text\"\"\")"
   ]
  },
  {
   "cell_type": "code",
   "execution_count": null,
   "metadata": {},
   "outputs": [],
   "source": [
    "my_string = \"\"\"Hello, welcome to\n",
    "            the world of Python\"\"\"\n",
    "print(my_string)"
   ]
  },
  {
   "cell_type": "markdown",
   "metadata": {},
   "source": [
    "### 1.8 Formatting String: String format()\n",
    "\n",
    "▪ The format() method was introduced for handling complex string formatting more efficiently.\n",
    "\n",
    "▪ Format strings contain curly braces {} as placeholders or replacement fields which get replaced.\n",
    "\n",
    "▪ Float precision with the.format() method: Syntax: {[index]:[width][.precision][type]}"
   ]
  },
  {
   "cell_type": "code",
   "execution_count": null,
   "metadata": {},
   "outputs": [],
   "source": [
    "x = 'looked'\n",
    "\n",
    "print(\"Misha {} and {} around.\".format('walked', x))"
   ]
  },
  {
   "cell_type": "code",
   "execution_count": null,
   "metadata": {},
   "outputs": [],
   "source": [
    "print(\"My name is {} and weight is {} kg!\".format('Zara', 21))"
   ]
  },
  {
   "cell_type": "code",
   "execution_count": null,
   "metadata": {},
   "outputs": [],
   "source": [
    "x = 12.3456789\n",
    "\n",
    "print('The value of x is {0:.2f}.\\n'.format(x))"
   ]
  },
  {
   "cell_type": "code",
   "execution_count": null,
   "metadata": {},
   "outputs": [],
   "source": [
    "height = 180.3152\n",
    "weight = 81.65431\n",
    "\n",
    "y = \"My height and weight are {0:.2f} and {1:.3f} respectively.\".format(height, weight)\n",
    "print(y)"
   ]
  },
  {
   "cell_type": "markdown",
   "metadata": {},
   "source": [
    "### 1.9 Loop Through a String\n",
    "\n",
    "▪ We can iterate through a string using a for loop."
   ]
  },
  {
   "cell_type": "code",
   "execution_count": null,
   "metadata": {},
   "outputs": [],
   "source": [
    "# Write code that count the occurrance of a specific letter in a string, both can be read from user input \n",
    "sentence = input(\"Please enter a sentence:\")\n",
    "letter = input(\"Please enter a letter:\")\n",
    "\n",
    "count = 0\n",
    "for item in sentence:\n",
    "    if(item == letter):\n",
    "        count += 1\n",
    "        \n",
    "message = \"{} {} '{}' found.\".format(count, \"letters\" if count > 1 else \"letter\", letter)\n",
    "print(message)"
   ]
  },
  {
   "cell_type": "markdown",
   "metadata": {},
   "source": [
    "### 1.10 Accessing Character(s) in a String"
   ]
  },
  {
   "cell_type": "code",
   "execution_count": null,
   "metadata": {},
   "outputs": [],
   "source": [
    "#      01234567890123456789012345678901234567890123\n",
    "fox = \"The quick brown fox jumps over the lazy dog.\"\n",
    "\n",
    "print(fox[0])  # The first character\n",
    "print(fox[4])  # The fifth character\n",
    "print(fox[-1]) # The last character"
   ]
  },
  {
   "cell_type": "markdown",
   "metadata": {},
   "source": [
    "### 1.11 String Slicing: Positive Indexing\n",
    "\n",
    "<img src=\"string-slicing.png\" width=\"400\">"
   ]
  },
  {
   "cell_type": "code",
   "execution_count": null,
   "metadata": {},
   "outputs": [],
   "source": [
    "dog = \"the lazy dog\"\n",
    "\n",
    "print(dog[:3]) # From beginning until index 3-1\n",
    "print(dog[9:]) # From 9 until the end\n",
    "print(dog[4:8]) # From index 4 until index 8-1"
   ]
  },
  {
   "cell_type": "markdown",
   "metadata": {},
   "source": [
    "### 1.12 String Slicing: Negative Indexing"
   ]
  },
  {
   "cell_type": "code",
   "execution_count": null,
   "metadata": {},
   "outputs": [],
   "source": [
    "print(dog[-12:3])\n",
    "print(dog[-11:-4])"
   ]
  },
  {
   "cell_type": "markdown",
   "metadata": {},
   "source": [
    "### 1.13 String Membership Test"
   ]
  },
  {
   "cell_type": "code",
   "execution_count": null,
   "metadata": {},
   "outputs": [],
   "source": [
    "string = 'programming'\n",
    "\n",
    "print('a' in string)\n",
    "print('a' not in string)"
   ]
  },
  {
   "cell_type": "code",
   "execution_count": null,
   "metadata": {},
   "outputs": [],
   "source": [
    "# Searching for a substring using the in keyword\n",
    "fox = \"The quick brown fox jumps over the lazy dog\"\n",
    "\n",
    "letter = input(\"Search a letter: \") \n",
    "\n",
    "if letter in fox:\n",
    "    print(letter, 'found')\n",
    "else:\n",
    "    print(letter, 'not found')"
   ]
  },
  {
   "cell_type": "markdown",
   "metadata": {},
   "source": [
    "### 1.14 Modifying a Immutable String"
   ]
  },
  {
   "cell_type": "code",
   "execution_count": null,
   "metadata": {},
   "outputs": [],
   "source": [
    "string[5] = 'a'"
   ]
  },
  {
   "cell_type": "markdown",
   "metadata": {},
   "source": [
    "### 1.15 Deleting a String"
   ]
  },
  {
   "cell_type": "code",
   "execution_count": null,
   "metadata": {},
   "outputs": [],
   "source": [
    "del string"
   ]
  },
  {
   "cell_type": "code",
   "execution_count": null,
   "metadata": {},
   "outputs": [],
   "source": [
    "print(string)"
   ]
  },
  {
   "cell_type": "markdown",
   "metadata": {},
   "source": [
    "### 1.16 dir()\n",
    "\n",
    "▪ The **dir()** function returns all properties and methods of the specified object, without the values."
   ]
  },
  {
   "cell_type": "code",
   "execution_count": null,
   "metadata": {},
   "outputs": [],
   "source": [
    "# To find out all attributes and methods we have access to for variable name\n",
    "string = 'Python Programming'\n",
    "\n",
    "print(type(string))"
   ]
  },
  {
   "cell_type": "code",
   "execution_count": null,
   "metadata": {},
   "outputs": [],
   "source": [
    "print(dir(str))"
   ]
  },
  {
   "cell_type": "code",
   "execution_count": null,
   "metadata": {},
   "outputs": [],
   "source": [
    "print(dir(string))"
   ]
  },
  {
   "cell_type": "code",
   "execution_count": null,
   "metadata": {},
   "outputs": [],
   "source": [
    "# We can use help() to find out more about str's index() method\n",
    "print(help(str.index))"
   ]
  },
  {
   "cell_type": "code",
   "execution_count": null,
   "metadata": {},
   "outputs": [],
   "source": [
    "age_list = [70, 60]\n",
    "\n",
    "print(type(age_list))"
   ]
  },
  {
   "cell_type": "code",
   "execution_count": null,
   "metadata": {},
   "outputs": [],
   "source": [
    "print(dir(age_list))"
   ]
  },
  {
   "cell_type": "code",
   "execution_count": null,
   "metadata": {},
   "outputs": [],
   "source": [
    "print(help(list.sort))"
   ]
  },
  {
   "cell_type": "markdown",
   "metadata": {},
   "source": [
    "### 1.17 String Methods\n",
    "\n",
    "▪ Below are some other useful String methods:\n",
    "\n",
    "Method |\tFunctionality\n",
    "-------|-----------------\n",
    "s.count(t,start,end) |\tCounts how many times string t occurs in string or in a substring of string if starting index start and ending index end are given.\n",
    "s.find(t) |\tindex of first instance of string t inside s (-1 if not found)\n",
    "s.rfind(t) |\tindex of last instance of string t inside s (-1 if not found)\n",
    "s.index(t) |\tlike s.find(t) except it raises ValueError if not found\n",
    "s.rindex(t) |\tlike s.rfind(t) except it raises ValueError if not found\n",
    "s.isalnum() |\tReturns true if string s has at least 1 character and all characters are alphanumeric and false otherwise.\n",
    "s.isalpha() |\tReturns true if string s has at least 1 character and all characters are alphabetic and false otherwise.\n",
    "s.isdigit() |\tReturns true if string s contains only digits and false otherwise.\n",
    "s.join(text) |\tcombine the words of the text into a string using s as the glue\n",
    "s.split(t) |\tsplit s into a list wherever a t is found (whitespace by default)\n",
    "s.splitlines() |\tsplit s into a list of strings, one per line\n",
    "s.lower() |\ta lowercased version of the string s\n",
    "s.upper() |\tan uppercased version of the string s\n",
    "s.title() |\ta title-cased version of the string s\n",
    "s.strip() |\ta copy of s without leading or trailing whitespace\n",
    "s.replace(t, u) |\treplace instances of t with u inside s\n"
   ]
  },
  {
   "cell_type": "markdown",
   "metadata": {},
   "source": [
    "# Part 2: Text Processing\n",
    "\n",
    "## 2.1 Reading Text from The Local Drive\n",
    "\n",
    "### 2.1.1 Opening a Text File in a Local Drive\n",
    "\n",
    "▪ Python has a built-in **open()** function to open a file and returns it as a **file object**, which is used to read or modify the file accordingly.\n",
    "\n",
    "https://www.programiz.com/python-programming/file-operation"
   ]
  },
  {
   "cell_type": "code",
   "execution_count": null,
   "metadata": {},
   "outputs": [],
   "source": [
    "f = open('C:/Users/User/Desktop/pg2554.txt') "
   ]
  },
  {
   "cell_type": "code",
   "execution_count": null,
   "metadata": {},
   "outputs": [],
   "source": [
    "f = open('C:\\\\Users\\\\User\\\\Desktop\\\\pg2554.txt') "
   ]
  },
  {
   "cell_type": "markdown",
   "metadata": {},
   "source": [
    "### 2.1.2 Reading Text File from a Local Drive\n",
    "\n",
    "▪ When reading from a file, we can use the **read(size)** method to read in **size** number of data. "
   ]
  },
  {
   "cell_type": "code",
   "execution_count": null,
   "metadata": {},
   "outputs": [],
   "source": [
    "print(f.read(8)) # read the first 8 data"
   ]
  },
  {
   "cell_type": "code",
   "execution_count": null,
   "metadata": {},
   "outputs": [],
   "source": [
    "print(f.tell())  # get the current file position"
   ]
  },
  {
   "cell_type": "code",
   "execution_count": null,
   "metadata": {},
   "outputs": [],
   "source": [
    "print(f.read(4)) # read the next 4 data"
   ]
  },
  {
   "cell_type": "code",
   "execution_count": null,
   "metadata": {},
   "outputs": [],
   "source": [
    "print(f.seek(0)) # bring file cursor to initial position"
   ]
  },
  {
   "cell_type": "code",
   "execution_count": null,
   "metadata": {},
   "outputs": [],
   "source": [
    "raw_local = f.read() # read in the rest till end of file\n",
    "print(raw_local[:201])"
   ]
  },
  {
   "cell_type": "code",
   "execution_count": null,
   "metadata": {},
   "outputs": [],
   "source": [
    "print(raw_local)"
   ]
  },
  {
   "cell_type": "markdown",
   "metadata": {},
   "source": [
    "### 2.1.3 Closing the File\n",
    "\n",
    "▪ Closing a file can be done using the **close()** method to free up the resources that were tied with the file. "
   ]
  },
  {
   "cell_type": "code",
   "execution_count": null,
   "metadata": {},
   "outputs": [],
   "source": [
    "f.close()"
   ]
  },
  {
   "cell_type": "markdown",
   "metadata": {},
   "source": [
    "### 2.1.4 Opening a Text File with encoding='utf-8' \n",
    "\n",
    "▪ UTF-8 is the most popular character encoding on the internet.\n",
    "\n",
    "▪ It's always good practice to explicitly specify UTF-8 encoding when opening files."
   ]
  },
  {
   "cell_type": "code",
   "execution_count": null,
   "metadata": {},
   "outputs": [],
   "source": [
    "f = open('C:\\\\Users\\\\User\\\\Desktop\\\\pg2554.txt', encoding='utf-8') \n",
    "\n",
    "raw_local = f.read()\n",
    "print(raw_local[:201])\n",
    "\n",
    "f.close()"
   ]
  },
  {
   "cell_type": "markdown",
   "metadata": {},
   "source": [
    "## 2.2 Reading Text from the Web\n",
    "\n",
    "### 2.2.1 urllib.request\n",
    "\n",
    "▪ We can use the **urlopen** function from \"urllib.request\" module to open and read URL contents. "
   ]
  },
  {
   "cell_type": "code",
   "execution_count": null,
   "metadata": {},
   "outputs": [],
   "source": [
    "import urllib.request\n",
    "\n",
    "url = \"http://www.gutenberg.org/files/2554/2554-0.txt\"\n",
    "\n",
    "with urllib.request.urlopen(url) as f:\n",
    "    print(f.read(300))"
   ]
  },
  {
   "cell_type": "code",
   "execution_count": null,
   "metadata": {},
   "outputs": [],
   "source": [
    "import urllib.request\n",
    "\n",
    "f = urllib.request.urlopen(\"http://www.gutenberg.org/files/2554/2554-0.txt\")\n",
    "\n",
    "f.read(300)"
   ]
  },
  {
   "cell_type": "markdown",
   "metadata": {},
   "source": [
    "### 2.2.2 Reading the Content from Web"
   ]
  },
  {
   "cell_type": "code",
   "execution_count": null,
   "metadata": {},
   "outputs": [],
   "source": [
    "import urllib.request\n",
    "\n",
    "with urllib.request.urlopen('http://www.python.org/') as f:\n",
    "    raw_html = f.read()\n",
    "    \n",
    "print(raw_html[:300])"
   ]
  },
  {
   "cell_type": "markdown",
   "metadata": {},
   "source": [
    "### 2.2.3 Preprocessing HTML Text\n",
    "\n",
    "▪ We use a Python library called **BeautifulSoup** (http://www.crummy.com/software/BeautifulSoup/) to get text out of HTML.\n",
    "\n",
    "▪ Beautiful Soup is a Python library that makes it easy to scrape information from web pages or pulling data out of HTML and XML files. \n",
    "\n",
    "▪ Beautiful Soup's **Tag.get_text()** method returns the text within the tag. \n",
    "\n",
    "▪ **Example**: https://www.crummy.com/software/BeautifulSoup/bs4/doc/"
   ]
  },
  {
   "cell_type": "code",
   "execution_count": null,
   "metadata": {},
   "outputs": [],
   "source": [
    "from bs4 import BeautifulSoup\n",
    "\n",
    "html_text = BeautifulSoup(raw_html).get_text()\n",
    "print(html_text[:300])"
   ]
  }
 ],
 "metadata": {
  "kernelspec": {
   "display_name": "Python 3 (ipykernel)",
   "language": "python",
   "name": "python3"
  },
  "language_info": {
   "codemirror_mode": {
    "name": "ipython",
    "version": 3
   },
   "file_extension": ".py",
   "mimetype": "text/x-python",
   "name": "python",
   "nbconvert_exporter": "python",
   "pygments_lexer": "ipython3",
   "version": "3.9.13"
  }
 },
 "nbformat": 4,
 "nbformat_minor": 4
}
