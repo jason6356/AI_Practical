{
 "cells": [
  {
   "cell_type": "markdown",
   "metadata": {},
   "source": [
    "# Practical 3-2: Regular Expression\n",
    "\n",
    "## 1.1 Python Regular Expressions\n",
    "\n",
    "▪ A **RegEx**, or **Regular Expression**, is a sequence of characters that forms a search pattern.\n",
    "\n",
    "▪ A search pattern defined using RegEx can be used to match against a string to check if the string contains the specified search pattern.\n",
    "\n",
    "<img src=\"searchpattern.png\" width=\"500\">\n",
    "\n",
    "https://towardsdatascience.com/easiest-way-to-remember-regular-expressions-regex-178ba518bebd"
   ]
  },
  {
   "cell_type": "markdown",
   "metadata": {},
   "source": [
    "## 1.2 re Module Functions\n",
    "\n",
    "▪ We can use functions defined in the **re module** to work with regular expressions:\n",
    "\n",
    "\\>>> <b>search: </b>\tReturns a Match object if there is a match anywhere in the string\n",
    "\n",
    "\\>>> <b>findall: </b>\tReturns a list containing all matches\n",
    "\n",
    "\\>>> <b>split:</b>\tReturns a list where the string has been split at each match\n",
    "\n",
    "\\>>> <b>sub: </b>\tReplaces one or many matches with a string"
   ]
  },
  {
   "cell_type": "code",
   "execution_count": 1,
   "metadata": {},
   "outputs": [],
   "source": [
    "import re"
   ]
  },
  {
   "cell_type": "markdown",
   "metadata": {},
   "source": [
    "### 1.2.1 search()\n",
    "\n",
    "▪ The **search()** function searches the string for **the first match**, and returns a Match object if there is a match."
   ]
  },
  {
   "cell_type": "code",
   "execution_count": 2,
   "metadata": {},
   "outputs": [
    {
     "name": "stdout",
     "output_type": "stream",
     "text": [
      "<re.Match object; span=(13, 21), match='Malaysia'>\n"
     ]
    }
   ],
   "source": [
    "text = \"She lives in Malaysia.\"\n",
    "result = re.search(\"Malaysia\", text)\n",
    "print(result)"
   ]
  },
  {
   "cell_type": "code",
   "execution_count": 3,
   "metadata": {},
   "outputs": [
    {
     "name": "stdout",
     "output_type": "stream",
     "text": [
      "None\n"
     ]
    }
   ],
   "source": [
    "text = \"She lives in Indonesia.\"\n",
    "result = re.search(\"Malaysia\", text)\n",
    "print(result)"
   ]
  },
  {
   "cell_type": "code",
   "execution_count": 4,
   "metadata": {},
   "outputs": [
    {
     "name": "stdout",
     "output_type": "stream",
     "text": [
      "<re.Match object; span=(7, 13), match='coffee'>\n"
     ]
    }
   ],
   "source": [
    "text = \"I love coffee, yes I love coffee\"\n",
    "result = re.search(\"coffee\", text)\n",
    "print(result)"
   ]
  },
  {
   "cell_type": "markdown",
   "metadata": {},
   "source": [
    "## 1.3 Metacharacters and Special Sequences\n",
    "\n",
    "### 1.3.1 Introduction\n",
    "\n",
    "▪ A RegEx is a **sequence of characters** that forms a search pattern.\n",
    "\n",
    "▪ **Metacharacters** are **special characters** that are interpreted in a special way by a RegEx engine. \n",
    "\n",
    "![metacharacter.png](metacharacter.png)\n",
    "\n",
    "▪ A **special sequence** is a \\ followed by one of the characters in the list below, and has a special meaning.\n",
    "\n",
    "![sequences.png](sequences.png)"
   ]
  },
  {
   "cell_type": "markdown",
   "metadata": {},
   "source": [
    "### 1.3.2 Metacharacter: ^ (Caret)\n",
    "\n",
    "▪ The caret symbol **^** is used to check if **a string starts with a certain character**.\n",
    "\n",
    "![regex2.jpg](regex2.jpg)"
   ]
  },
  {
   "cell_type": "code",
   "execution_count": 5,
   "metadata": {},
   "outputs": [
    {
     "name": "stdout",
     "output_type": "stream",
     "text": [
      "None\n"
     ]
    }
   ],
   "source": [
    "text = \"I love coffee, yes I love coffee\"\n",
    "result = re.search(\"^coffee\", text)\n",
    "print(result)"
   ]
  },
  {
   "cell_type": "code",
   "execution_count": 6,
   "metadata": {},
   "outputs": [
    {
     "name": "stdout",
     "output_type": "stream",
     "text": [
      "<re.Match object; span=(0, 6), match='coffee'>\n"
     ]
    }
   ],
   "source": [
    "text = \"coffee, yes I love coffee\"\n",
    "result = re.search(\"^coffee\", text)\n",
    "print(result)"
   ]
  },
  {
   "cell_type": "markdown",
   "metadata": {},
   "source": [
    "### 1.3.3 Metacharacter: $\n",
    "\n",
    "▪ The dollar symbol **$** is used to check if **a string ends with a certain character**.\n",
    "\n",
    "![regex3.jpg](regex3.jpg)"
   ]
  },
  {
   "cell_type": "code",
   "execution_count": 7,
   "metadata": {},
   "outputs": [
    {
     "name": "stdout",
     "output_type": "stream",
     "text": [
      "<re.Match object; span=(26, 32), match='coffee'>\n"
     ]
    }
   ],
   "source": [
    "text = \"I love coffee, yes I love coffee\"\n",
    "result = re.search(\"coffee$\", text)\n",
    "print(result)"
   ]
  },
  {
   "cell_type": "code",
   "execution_count": 8,
   "metadata": {},
   "outputs": [
    {
     "name": "stdout",
     "output_type": "stream",
     "text": [
      "None\n"
     ]
    }
   ],
   "source": [
    "text = \"I love coffee, yes I love coffee.\"\n",
    "result = re.search(\"coffee$\", text)\n",
    "print(result)"
   ]
  },
  {
   "cell_type": "markdown",
   "metadata": {},
   "source": [
    "### 1.3.4 Metacharacter: .\n",
    "\n",
    "▪ The period symbol **.** matches any single character (except newline '\\n').\n",
    "\n",
    "![regex4.jpg](regex5.jpg)"
   ]
  },
  {
   "cell_type": "markdown",
   "metadata": {},
   "source": [
    "#### 1.3.4.1 Example \\#1"
   ]
  },
  {
   "cell_type": "code",
   "execution_count": 9,
   "metadata": {},
   "outputs": [
    {
     "name": "stdout",
     "output_type": "stream",
     "text": [
      "<re.Match object; span=(0, 4), match='dart'>\n"
     ]
    }
   ],
   "source": [
    "text = \"dart\"\n",
    "result = re.search(\".art\", text)\n",
    "print(result)"
   ]
  },
  {
   "cell_type": "code",
   "execution_count": 10,
   "metadata": {},
   "outputs": [
    {
     "name": "stdout",
     "output_type": "stream",
     "text": [
      "<re.Match object; span=(0, 4), match='cart'>\n"
     ]
    }
   ],
   "source": [
    "text = \"cart\"\n",
    "result = re.search(\".art\", text)\n",
    "print(result)"
   ]
  },
  {
   "cell_type": "code",
   "execution_count": 11,
   "metadata": {},
   "outputs": [
    {
     "name": "stdout",
     "output_type": "stream",
     "text": [
      "None\n"
     ]
    }
   ],
   "source": [
    "text = \"cat\"\n",
    "result = re.search(\".art\", text)\n",
    "print(result)"
   ]
  },
  {
   "cell_type": "markdown",
   "metadata": {},
   "source": [
    "#### 1.3.4.2 Example \\#2"
   ]
  },
  {
   "cell_type": "code",
   "execution_count": 12,
   "metadata": {},
   "outputs": [
    {
     "name": "stdout",
     "output_type": "stream",
     "text": [
      "Search successful.\n"
     ]
    }
   ],
   "source": [
    "pattern = '^a...s$'\n",
    "text = 'abyss'\n",
    "\n",
    "result = re.search(pattern, text)\n",
    "\n",
    "if result:\n",
    "    print(\"Search successful.\")\n",
    "else:\n",
    "    print(\"Search unsuccessful.\")"
   ]
  },
  {
   "cell_type": "code",
   "execution_count": 13,
   "metadata": {},
   "outputs": [
    {
     "name": "stdout",
     "output_type": "stream",
     "text": [
      "Search successful.\n"
     ]
    }
   ],
   "source": [
    "pattern = '^a...s'\n",
    "text = 'abyss amyls'\n",
    "\n",
    "result = re.search(pattern, text)\n",
    "\n",
    "if result:\n",
    "    print(\"Search successful.\")\n",
    "else:\n",
    "    print(\"Search unsuccessful.\")"
   ]
  },
  {
   "cell_type": "code",
   "execution_count": 14,
   "metadata": {},
   "outputs": [
    {
     "name": "stdout",
     "output_type": "stream",
     "text": [
      "Search unsuccessful.\n"
     ]
    }
   ],
   "source": [
    "pattern = '^a...s$'\n",
    "text = 'abyss amyls'\n",
    "\n",
    "result = re.search(pattern, text)\n",
    "\n",
    "if result:\n",
    "    print(\"Search successful.\")\n",
    "else:\n",
    "    print(\"Search unsuccessful.\")"
   ]
  },
  {
   "cell_type": "markdown",
   "metadata": {},
   "source": [
    "### 1.3.5 Metacharacter: *\n",
    "\n",
    "▪ The star symbol **\\*** **matches zero or more occurrences of the pattern left to it**.\n",
    "\n",
    "![regex4.jpg](regex4.jpg)"
   ]
  },
  {
   "cell_type": "markdown",
   "metadata": {},
   "source": [
    "#### 1.3.5.1 Example \\#1"
   ]
  },
  {
   "cell_type": "code",
   "execution_count": 15,
   "metadata": {},
   "outputs": [
    {
     "name": "stdout",
     "output_type": "stream",
     "text": [
      "<re.Match object; span=(0, 3), match='cat'>\n"
     ]
    }
   ],
   "source": [
    "text = \"cat\"\n",
    "result = re.search(\".*cat\", text)\n",
    "print(result)"
   ]
  },
  {
   "cell_type": "code",
   "execution_count": 16,
   "metadata": {},
   "outputs": [
    {
     "name": "stdout",
     "output_type": "stream",
     "text": [
      "<re.Match object; span=(0, 3), match='cat'>\n"
     ]
    }
   ],
   "source": [
    "text = \"catwoman\"\n",
    "result = re.search(\".*cat\", text)\n",
    "print(result)"
   ]
  },
  {
   "cell_type": "code",
   "execution_count": 17,
   "metadata": {},
   "outputs": [
    {
     "name": "stdout",
     "output_type": "stream",
     "text": [
      "<re.Match object; span=(0, 8), match='cute cat'>\n"
     ]
    }
   ],
   "source": [
    "text = \"cute cat\"\n",
    "result = re.search(\".*cat\", text)\n",
    "print(result)"
   ]
  },
  {
   "cell_type": "code",
   "execution_count": 18,
   "metadata": {},
   "outputs": [
    {
     "name": "stdout",
     "output_type": "stream",
     "text": [
      "<re.Match object; span=(0, 7), match='100 cat'>\n"
     ]
    }
   ],
   "source": [
    "text = \"100 cats\"\n",
    "result = re.search(\".*cat\", text)\n",
    "print(result)"
   ]
  },
  {
   "cell_type": "code",
   "execution_count": 19,
   "metadata": {},
   "outputs": [
    {
     "name": "stdout",
     "output_type": "stream",
     "text": [
      "<re.Match object; span=(0, 14), match='c7sb@#puiercat'>\n"
     ]
    }
   ],
   "source": [
    "text = \"c7sb@#puiercat\"\n",
    "result = re.search(\".*cat\", text)\n",
    "print(result)"
   ]
  },
  {
   "cell_type": "markdown",
   "metadata": {},
   "source": [
    "#### 1.3.5.2 Example \\#2"
   ]
  },
  {
   "cell_type": "code",
   "execution_count": 20,
   "metadata": {},
   "outputs": [
    {
     "name": "stdout",
     "output_type": "stream",
     "text": [
      "<re.Match object; span=(0, 7), match='abysdfs'>\n"
     ]
    }
   ],
   "source": [
    "text_1 = \"abysdfs\"\n",
    "result_1 = re.search(\"^a.*s$\", text_1)\n",
    "print(result_1)"
   ]
  },
  {
   "cell_type": "code",
   "execution_count": 21,
   "metadata": {},
   "outputs": [
    {
     "name": "stdout",
     "output_type": "stream",
     "text": [
      "<re.Match object; span=(0, 5), match='a___s'>\n"
     ]
    }
   ],
   "source": [
    "text_2 = \"a___s\"\n",
    "result_2 = re.search(\"^a.*s$\", text_2)\n",
    "print(result_2)"
   ]
  },
  {
   "cell_type": "markdown",
   "metadata": {},
   "source": [
    "#### 1.3.5.3 Example \\#3"
   ]
  },
  {
   "cell_type": "code",
   "execution_count": 22,
   "metadata": {},
   "outputs": [
    {
     "name": "stdout",
     "output_type": "stream",
     "text": [
      "<re.Match object; span=(0, 19), match='The rain in Setapak'>\n"
     ]
    }
   ],
   "source": [
    "text_1 = \"The rain in Setapak\"\n",
    "result_1 = re.search(\"^The.*Setapak$\", text_1)\n",
    "print(result_1)"
   ]
  },
  {
   "cell_type": "code",
   "execution_count": 23,
   "metadata": {},
   "outputs": [
    {
     "name": "stdout",
     "output_type": "stream",
     "text": [
      "None\n"
     ]
    }
   ],
   "source": [
    "text_2 = \"The rain in Kuala Lumpur\"\n",
    "result_2 = re.search(\"^The.*Setapak$\", text_2)\n",
    "print(result_2)"
   ]
  },
  {
   "cell_type": "markdown",
   "metadata": {},
   "source": [
    "### 1.3.6 Special Sequences \\d\n",
    "\n",
    "▪ **\\d** returns a match where the string contains digits (numbers from 0-9).\n",
    "\n",
    "![regex7.jpg](regex7.jpg)"
   ]
  },
  {
   "cell_type": "code",
   "execution_count": 24,
   "metadata": {},
   "outputs": [
    {
     "name": "stdout",
     "output_type": "stream",
     "text": [
      "<re.Match object; span=(19, 20), match='0'>\n"
     ]
    }
   ],
   "source": [
    "pattern = '\\d'\n",
    "text = 'My phone number is 012-3456789.'\n",
    "\n",
    "result = re.search(pattern, text)\n",
    "print(result)"
   ]
  },
  {
   "cell_type": "code",
   "execution_count": 25,
   "metadata": {},
   "outputs": [
    {
     "name": "stdout",
     "output_type": "stream",
     "text": [
      "<re.Match object; span=(19, 30), match='012-3456789'>\n"
     ]
    }
   ],
   "source": [
    "pattern = '\\d\\d\\d-\\d\\d\\d\\d\\d\\d\\d'\n",
    "text = 'My phone number is 012-3456789.'\n",
    "\n",
    "result = re.search(pattern, text)\n",
    "print(result)"
   ]
  },
  {
   "cell_type": "markdown",
   "metadata": {},
   "source": [
    "### 1.3.7 Metacharacter: {} \n",
    "\n",
    "▪ The braces symbol **{}** matches exactly the specified number of occurrences.\n",
    "\n",
    "![regex9.jpg](regex9.jpg)"
   ]
  },
  {
   "cell_type": "markdown",
   "metadata": {},
   "source": [
    "#### 1.3.7.1 Example \\#1"
   ]
  },
  {
   "cell_type": "code",
   "execution_count": 26,
   "metadata": {},
   "outputs": [
    {
     "name": "stdout",
     "output_type": "stream",
     "text": [
      "<re.Match object; span=(19, 30), match='012-3456789'>\n"
     ]
    }
   ],
   "source": [
    "pattern = '\\d{3}-\\d{7}'\n",
    "text = 'My phone number is 012-3456789.'\n",
    "\n",
    "result = re.search(pattern, text)\n",
    "print(result)"
   ]
  },
  {
   "cell_type": "code",
   "execution_count": 27,
   "metadata": {},
   "outputs": [
    {
     "name": "stdout",
     "output_type": "stream",
     "text": [
      "<re.Match object; span=(19, 31), match='011-34567890'>\n"
     ]
    }
   ],
   "source": [
    "pattern = '\\d{3}-\\d{7,8}'\n",
    "text = 'My phone number is 011-34567890.'\n",
    "\n",
    "result = re.search(pattern, text)\n",
    "print(result)"
   ]
  },
  {
   "cell_type": "markdown",
   "metadata": {},
   "source": [
    "#### 1.3.7.2 Example \\#2"
   ]
  },
  {
   "cell_type": "code",
   "execution_count": 28,
   "metadata": {},
   "outputs": [
    {
     "name": "stdout",
     "output_type": "stream",
     "text": [
      "None\n"
     ]
    }
   ],
   "source": [
    "pattern = 'ha{3}'\n",
    "text = 'hahahaha'\n",
    "\n",
    "result = re.search(pattern, text)\n",
    "print(result)"
   ]
  },
  {
   "cell_type": "code",
   "execution_count": 29,
   "metadata": {},
   "outputs": [
    {
     "name": "stdout",
     "output_type": "stream",
     "text": [
      "<re.Match object; span=(0, 4), match='haaa'>\n"
     ]
    }
   ],
   "source": [
    "pattern = 'ha{3}'\n",
    "text = 'haaaa'\n",
    "\n",
    "result = re.search(pattern, text)\n",
    "print(result)"
   ]
  },
  {
   "cell_type": "markdown",
   "metadata": {},
   "source": [
    "### 1.3.8 Metacharacter: ()\n",
    "\n",
    "▪ The paretheses symbol **()** is used to group sub-patterns.\n",
    "\n",
    "#### 1.3.8.1 Example \\#1"
   ]
  },
  {
   "cell_type": "code",
   "execution_count": 30,
   "metadata": {},
   "outputs": [
    {
     "name": "stdout",
     "output_type": "stream",
     "text": [
      "<re.Match object; span=(0, 6), match='hahaha'>\n"
     ]
    }
   ],
   "source": [
    "pattern = '(ha){3}'\n",
    "text = 'hahahaha'\n",
    "\n",
    "result = re.search(pattern, text)\n",
    "print(result)"
   ]
  },
  {
   "cell_type": "markdown",
   "metadata": {},
   "source": [
    "#### 1.3.8.2 Example \\#2"
   ]
  },
  {
   "cell_type": "code",
   "execution_count": 31,
   "metadata": {},
   "outputs": [
    {
     "name": "stdout",
     "output_type": "stream",
     "text": [
      "<re.Match object; span=(19, 30), match='012-3456789'>\n"
     ]
    }
   ],
   "source": [
    "pattern = '(\\d{3})-(\\d{7})'\n",
    "text = 'My phone number is 012-3456789.'\n",
    "\n",
    "result = re.search(pattern, text)\n",
    "print(result)"
   ]
  },
  {
   "cell_type": "markdown",
   "metadata": {},
   "source": [
    "#### 1.3.8.3 Example \\#3"
   ]
  },
  {
   "cell_type": "code",
   "execution_count": 32,
   "metadata": {},
   "outputs": [
    {
     "name": "stdout",
     "output_type": "stream",
     "text": [
      "012-3456789\n",
      "012\n",
      "3456789\n",
      "('012', '3456789')\n"
     ]
    }
   ],
   "source": [
    "# Extract entire matching values\n",
    "print(result.group())\n",
    "\n",
    "# Extract match value for the first parenthesized subgroup\n",
    "print(result.group(1))\n",
    "\n",
    "# Extract match value for the second parenthesized subgroup\n",
    "print(result.group(2))\n",
    "\n",
    "# groups() returns all matching subgroups in a tuple (empty if there weren't any)\n",
    "print(result.groups())"
   ]
  },
  {
   "cell_type": "markdown",
   "metadata": {},
   "source": [
    "### 1.3.9 Metacharacter: |\n",
    "\n",
    "▪ The **|** symbol is used to check either/or condition.\n",
    "\n",
    "![regex8.jpg](regex8.jpg)"
   ]
  },
  {
   "cell_type": "markdown",
   "metadata": {},
   "source": [
    "#### 1.3.9.1 Example \\#1"
   ]
  },
  {
   "cell_type": "code",
   "execution_count": 33,
   "metadata": {},
   "outputs": [
    {
     "name": "stdout",
     "output_type": "stream",
     "text": [
      "<re.Match object; span=(7, 11), match='java'>\n"
     ]
    }
   ],
   "source": [
    "pattern = \"python|java\"\n",
    "text = \"I love java and python programming!\"\n",
    "\n",
    "result = re.search(pattern, text)\n",
    "print(result)"
   ]
  },
  {
   "cell_type": "code",
   "execution_count": 34,
   "metadata": {},
   "outputs": [
    {
     "name": "stdout",
     "output_type": "stream",
     "text": [
      "Yes, there is at least one match!\n"
     ]
    }
   ],
   "source": [
    "if result:\n",
    "    print(\"Yes, there is at least one match!\")\n",
    "else:\n",
    "    print(\"No match\")"
   ]
  },
  {
   "cell_type": "markdown",
   "metadata": {},
   "source": [
    "## 1.2 re Module Functions (cont')\n",
    "\n",
    "### 1.2.2 search() vs. match() \n",
    "\n",
    "▪ **match()** finds match if it occurs at start of the string, but **search()** doesn’t limit us to find matches at the beginning of the string only. "
   ]
  },
  {
   "cell_type": "code",
   "execution_count": 35,
   "metadata": {},
   "outputs": [
    {
     "name": "stdout",
     "output_type": "stream",
     "text": [
      "Search successful.\n",
      "Search successful.\n"
     ]
    }
   ],
   "source": [
    "text_1 = \"It is raining in Setapak\"\n",
    "\n",
    "result_1 = re.search(\"It.*Setapak\", text_1) \n",
    "if result_1:\n",
    "    print(\"Search successful.\") \n",
    "else:\n",
    "    print(\"Sorry, the string is not found. \")\n",
    "    \n",
    "result_1 = re.match(\"It.*Setapak\", text_1) \n",
    "if result_1:\n",
    "    print(\"Search successful.\") \n",
    "else:\n",
    "    print(\"Sorry, the string is not found. \")"
   ]
  },
  {
   "cell_type": "code",
   "execution_count": 36,
   "metadata": {},
   "outputs": [
    {
     "name": "stdout",
     "output_type": "stream",
     "text": [
      "Search successful.\n",
      "Sorry, the string is not found. \n"
     ]
    }
   ],
   "source": [
    "text_2 = \"OMG, It is raining in Setapak\"\n",
    "\n",
    "result_2 = re.search(\"It.*Setapak\", text_2) \n",
    "if result_2:\n",
    "    print(\"Search successful.\") \n",
    "else:\n",
    "    print(\"Sorry, the string is not found. \")\n",
    "\n",
    "result_2 = re.match(\"It.*Setapak\", text_2)\n",
    "if result_2:\n",
    "    print(\"Search successful.\") \n",
    "else:\n",
    "    print(\"Sorry, the string is not found. \")"
   ]
  },
  {
   "cell_type": "markdown",
   "metadata": {},
   "source": [
    "## 1.3 RegEx (cont')\n",
    "\n",
    "### 1.3.10 Special Sequences: \\w\t\n",
    "\n",
    "▪ **\\w** returns a match where the string contains any word characters (characters from a to Z, digits from 0-9, and the underscore _ character).\n",
    "\n",
    "![regex10.jpg](regex10.jpg)"
   ]
  },
  {
   "cell_type": "markdown",
   "metadata": {},
   "source": [
    "### 1.3.11 Metacharacter: +\n",
    "\n",
    "▪ The plus symbol **+** matches one or more occurrences of the pattern left to it.\n",
    "\n",
    "![regex6.jpg](regex6.jpg)"
   ]
  },
  {
   "cell_type": "code",
   "execution_count": 37,
   "metadata": {},
   "outputs": [
    {
     "name": "stdout",
     "output_type": "stream",
     "text": [
      "python\n",
      "python\n"
     ]
    }
   ],
   "source": [
    "text_1 = 'python programming'\n",
    "\n",
    "result = re.match(\"\\w+\", text_1)\n",
    "if result: \n",
    "    print(result.group(0))\n",
    "else:\n",
    "    print('No match')\n",
    "\n",
    "result = re.search(\"\\w+\", text_1)\n",
    "if result: \n",
    "    print(result.group(0))\n",
    "else:\n",
    "    print('No match')"
   ]
  },
  {
   "cell_type": "code",
   "execution_count": 38,
   "metadata": {},
   "outputs": [
    {
     "name": "stdout",
     "output_type": "stream",
     "text": [
      "No match\n",
      "python\n"
     ]
    }
   ],
   "source": [
    "text_2 = '@python programming'\n",
    "    \n",
    "result = re.match(\"\\w+\", text_2)\n",
    "if result: \n",
    "    print(result.group(0))\n",
    "else:\n",
    "    print('No match')\n",
    "    \n",
    "result = re.search(\"\\w+\", text_2)\n",
    "if result: \n",
    "    print(result.group(0))\n",
    "else:\n",
    "    print('No match')"
   ]
  },
  {
   "cell_type": "markdown",
   "metadata": {},
   "source": [
    "## 1.2 re Module Functions (cont')\n",
    "\n",
    "### 1.2.3 findall()\n",
    "\n",
    "▪ The **findall()** method returns a list of strings containing all matches.\n",
    "\n",
    "#### 1.2.3.1 Example \\#1"
   ]
  },
  {
   "cell_type": "code",
   "execution_count": 39,
   "metadata": {},
   "outputs": [
    {
     "name": "stdout",
     "output_type": "stream",
     "text": [
      "['java', 'python']\n",
      "2 matches found\n"
     ]
    }
   ],
   "source": [
    "pattern = \"python|java\"\n",
    "text = \"I love java and python programming!\"\n",
    "\n",
    "result = re.findall(pattern, text)\n",
    "print(result)\n",
    "\n",
    "if result:\n",
    "    print(len(result), \"matches\" if len(result) > 1 else \"match\", \"found\")\n",
    "else:\n",
    "    print(\"No match\")"
   ]
  },
  {
   "cell_type": "markdown",
   "metadata": {},
   "source": [
    "#### 1.2.3.2 Example \\#2"
   ]
  },
  {
   "cell_type": "code",
   "execution_count": 40,
   "metadata": {},
   "outputs": [
    {
     "name": "stdout",
     "output_type": "stream",
     "text": [
      "['ai', 'ai']\n"
     ]
    }
   ],
   "source": [
    "text = \"The rain in Sungai Kapal, Johor\"\n",
    "\n",
    "result_1 = re.findall(\"ai\", text)\n",
    "print(result_1)"
   ]
  },
  {
   "cell_type": "code",
   "execution_count": 41,
   "metadata": {},
   "outputs": [
    {
     "name": "stdout",
     "output_type": "stream",
     "text": [
      "2\n"
     ]
    }
   ],
   "source": [
    "print(len(result_1))"
   ]
  },
  {
   "cell_type": "markdown",
   "metadata": {},
   "source": [
    "#### 1.2.3.3 Example \\#3"
   ]
  },
  {
   "cell_type": "code",
   "execution_count": 42,
   "metadata": {},
   "outputs": [
    {
     "name": "stdout",
     "output_type": "stream",
     "text": [
      "0 match(es) found.\n"
     ]
    }
   ],
   "source": [
    "text = \"bac\" \n",
    "result = re.findall(\"^a\", text) # caret '^' = starting with\n",
    "print(len(result), 'match(es) found.')"
   ]
  },
  {
   "cell_type": "code",
   "execution_count": 43,
   "metadata": {},
   "outputs": [
    {
     "name": "stdout",
     "output_type": "stream",
     "text": [
      "1 match(es) found.\n"
     ]
    }
   ],
   "source": [
    "text = \"ac\" \n",
    "result = re.findall(\"^a\", text) # caret '^' = starting with\n",
    "print(len(result), 'match(es) found.')"
   ]
  },
  {
   "cell_type": "code",
   "execution_count": 44,
   "metadata": {},
   "outputs": [
    {
     "name": "stdout",
     "output_type": "stream",
     "text": [
      "1 match(es) found.\n"
     ]
    }
   ],
   "source": [
    "text = \"abc\" \n",
    "result = re.findall(\"^a\", text) # caret '^' = starting with\n",
    "print(len(result), 'match(es) found.')"
   ]
  },
  {
   "cell_type": "markdown",
   "metadata": {},
   "source": [
    "## 1.3 RegEx (cont')\n",
    "\n",
    "### 1.3.12 Metacharacter: []\n",
    "\n",
    "▪ Square brackets **[]** specifies a set of characters you wish to match.\n",
    "\n",
    "![regex12.jpg](regex12.jpg)"
   ]
  },
  {
   "cell_type": "markdown",
   "metadata": {},
   "source": [
    "#### 1.3.12.1 Example \\#1"
   ]
  },
  {
   "cell_type": "code",
   "execution_count": 45,
   "metadata": {},
   "outputs": [
    {
     "name": "stdout",
     "output_type": "stream",
     "text": [
      "['a', 'b', 'c']\n",
      "You found 3 match(es).\n"
     ]
    }
   ],
   "source": [
    "text = \"I love abc\"\n",
    "result = re.findall(\"[abc]\", text)\n",
    "\n",
    "print(result)\n",
    "print('You found', len(result), 'match(es).')"
   ]
  },
  {
   "cell_type": "code",
   "execution_count": 46,
   "metadata": {},
   "outputs": [
    {
     "name": "stdout",
     "output_type": "stream",
     "text": [
      "['a', 'b', 'c']\n",
      "You found 3 match(es).\n"
     ]
    }
   ],
   "source": [
    "text = \"I love abc\"\n",
    "result = re.findall(\"[a-c]\", text)\n",
    "\n",
    "print(result)\n",
    "print('You found', len(result), 'match(es).')"
   ]
  },
  {
   "cell_type": "code",
   "execution_count": 47,
   "metadata": {},
   "outputs": [
    {
     "name": "stdout",
     "output_type": "stream",
     "text": [
      "['e', 'a', 'b', 'c']\n",
      "You found 4 match(es).\n"
     ]
    }
   ],
   "source": [
    "text = \"I love abc\"\n",
    "result = re.findall(\"[a-e]\", text) #[a-e] = [abcde]\n",
    "\n",
    "print(result)\n",
    "print('You found', len(result), 'match(es).')"
   ]
  },
  {
   "cell_type": "code",
   "execution_count": 48,
   "metadata": {},
   "outputs": [
    {
     "name": "stdout",
     "output_type": "stream",
     "text": [
      "['I', ' ', 'l', 'o', 'v', 'e', ' ']\n",
      "You found 7 match(es).\n"
     ]
    }
   ],
   "source": [
    "text = \"I love abc\"\n",
    "result = re.findall(\"[^abc]\", text) # Excluding letters a, b and c\n",
    "\n",
    "print(result)\n",
    "print('You found', len(result), 'match(es).')"
   ]
  },
  {
   "cell_type": "code",
   "execution_count": 49,
   "metadata": {},
   "outputs": [
    {
     "name": "stdout",
     "output_type": "stream",
     "text": [
      "['abca']\n",
      "You found 1 match(es).\n"
     ]
    }
   ],
   "source": [
    "text = \"I love abca\"\n",
    "\n",
    "# [abc]{4} matches exactly any four letters occurrance sequence created from a, b and c\n",
    "result = re.findall(\"[abc]{4}\", text)\n",
    "\n",
    "print(result)\n",
    "print('You found', len(result), 'match(es).')"
   ]
  },
  {
   "cell_type": "code",
   "execution_count": 50,
   "metadata": {},
   "outputs": [
    {
     "name": "stdout",
     "output_type": "stream",
     "text": [
      "['ba', 'ab', 'ba', 'ab', 'bc', 'ab', 'ac']\n",
      "You found 7 match(es).\n"
     ]
    }
   ],
   "source": [
    "text = \"I love ba abc bac abcd bcab acbde\"\n",
    "\n",
    "# [abc]{2} matches exactly any two letters occurrance sequence created from a, b and c\n",
    "result = re.findall(\"[abc]{2}\", text)\n",
    "\n",
    "print(result)\n",
    "print('You found', len(result), 'match(es).')"
   ]
  },
  {
   "cell_type": "markdown",
   "metadata": {},
   "source": [
    "#### 1.3.12.2 Example \\#2"
   ]
  },
  {
   "cell_type": "code",
   "execution_count": 51,
   "metadata": {},
   "outputs": [
    {
     "name": "stdout",
     "output_type": "stream",
     "text": [
      "You found 3 match(es).\n",
      "You found 1 match(es).\n"
     ]
    }
   ],
   "source": [
    "text = \"You know the song 1234567?\"\n",
    "\n",
    "result_1 = re.findall(\"[1-3]\", text) # [1-3] = [123]\n",
    "print('You found', len(result_1), 'match(es).')\n",
    "\n",
    "result_2 = re.findall(\"123\", text)   # \"123\" != [123]\n",
    "print('You found', len(result_2), 'match(es).')"
   ]
  },
  {
   "cell_type": "code",
   "execution_count": 52,
   "metadata": {},
   "outputs": [
    {
     "name": "stdout",
     "output_type": "stream",
     "text": [
      "You found 3 match(es).\n",
      "You found 4 match(es).\n"
     ]
    }
   ],
   "source": [
    "text = \"You know the song 1234567?\"\n",
    "\n",
    "result_1 = re.findall(\"[1-3]\", text)    # [1-3] = [123]\n",
    "print('You found', len(result_1), 'match(es).')\n",
    "\n",
    "result_2 = re.findall(\"[1-37]\", text)   # [1-3] = [1237]\n",
    "print('You found', len(result_2), 'match(es).')"
   ]
  },
  {
   "cell_type": "markdown",
   "metadata": {},
   "source": [
    "#### 1.3.12.3 Example \\#3"
   ]
  },
  {
   "cell_type": "code",
   "execution_count": 53,
   "metadata": {},
   "outputs": [
    {
     "name": "stdout",
     "output_type": "stream",
     "text": [
      "['h', 't', 't', 'p', 's', ':', '/', '/', 'w', 'w', 'w', '.', 't', 'a', 'r', 'c', '.', 'e', 'd', 'u', '.', 'm', 'y', '/']\n",
      "24 match(es) found.\n"
     ]
    }
   ],
   "source": [
    "text = \"https://www.tarc.edu.my/\"\n",
    "\n",
    "# Any single character except newline '\\n'\n",
    "result = re.findall(\".\", text) \n",
    "\n",
    "print(result)\n",
    "print(len(result), 'match(es) found.')"
   ]
  },
  {
   "cell_type": "code",
   "execution_count": 54,
   "metadata": {},
   "outputs": [
    {
     "name": "stdout",
     "output_type": "stream",
     "text": [
      "['.', '.', '.']\n",
      "3 match(es) found.\n"
     ]
    }
   ],
   "source": [
    "text = \"https://www.tarc.edu.my/\"\n",
    "\n",
    "# Any period character'\n",
    "result = re.findall(\"[.]\", text) \n",
    "\n",
    "print(result)\n",
    "print(len(result), 'match(es) found.')"
   ]
  },
  {
   "cell_type": "code",
   "execution_count": 55,
   "metadata": {},
   "outputs": [
    {
     "name": "stdout",
     "output_type": "stream",
     "text": [
      "['h', 't', 't', 'p', 's', 'w', 'w', 'w', 't', 'a', 'r', 'c', 'e', 'd', 'u', 'm', 'y']\n",
      "17 match(es) found.\n"
     ]
    }
   ],
   "source": [
    "text = \"https://www.tarc.edu.my/\"\n",
    "\n",
    "# Any single character except these 3 symbols : and / and .\n",
    "result = re.findall(\"[^:/.]\", text) \n",
    "\n",
    "print(result)\n",
    "print(len(result), 'match(es) found.')"
   ]
  },
  {
   "cell_type": "code",
   "execution_count": 56,
   "metadata": {},
   "outputs": [
    {
     "name": "stdout",
     "output_type": "stream",
     "text": [
      "['h', 't', 't', 'p', 's', 'w', 'w', 'w', 't', 'a', 'r', 'c', 'e', 'd', 'u', 'm', 'y']\n",
      "17 match(es) found.\n"
     ]
    }
   ],
   "source": [
    "text = \"https://www.tarc.edu.my/\"\n",
    "\n",
    "# Any single alphabet or digit ranges from 0 to 9\n",
    "result = re.findall(\"[a-zA-Z0-9]\", text) \n",
    "\n",
    "print(result)\n",
    "print(len(result), 'match(es) found.')"
   ]
  },
  {
   "cell_type": "code",
   "execution_count": 57,
   "metadata": {},
   "outputs": [
    {
     "name": "stdout",
     "output_type": "stream",
     "text": [
      "<re.Match object; span=(0, 1), match='h'>\n"
     ]
    }
   ],
   "source": [
    "text = \"https://www.tarc.edu.my/\"\n",
    "\n",
    "# Any single alphabet or digit ranges from 0 to 9\n",
    "result = re.search(\"[a-zA-Z0-9]\", text) \n",
    "\n",
    "print(result)"
   ]
  },
  {
   "cell_type": "markdown",
   "metadata": {},
   "source": [
    "#### 1.3.12.4 Example \\#4"
   ]
  },
  {
   "cell_type": "code",
   "execution_count": 58,
   "metadata": {},
   "outputs": [
    {
     "name": "stdout",
     "output_type": "stream",
     "text": [
      "['h', 't', 't', 'p', 's']\n",
      "5 match(es) found.\n"
     ]
    }
   ],
   "source": [
    "text = \"https\"\n",
    "\n",
    "# Matches ANY ONE of the character within the square bracket\n",
    "result = re.findall(\"[a-z]\", text) \n",
    "\n",
    "print(result)\n",
    "print(len(result), 'match(es) found.')"
   ]
  },
  {
   "cell_type": "code",
   "execution_count": 59,
   "metadata": {},
   "outputs": [
    {
     "name": "stdout",
     "output_type": "stream",
     "text": [
      "['https']\n",
      "1 match(es) found.\n"
     ]
    }
   ],
   "source": [
    "text = \"https\"\n",
    "\n",
    "# Matches one or more LOWERCASE LETTERS SEQUENCE such as 'http', 'www'.\n",
    "result = re.findall(\"[a-z]+\", text) \n",
    "\n",
    "print(result)\n",
    "print(len(result), 'match(es) found.')"
   ]
  },
  {
   "cell_type": "code",
   "execution_count": 60,
   "metadata": {},
   "outputs": [
    {
     "name": "stdout",
     "output_type": "stream",
     "text": [
      "['https', '']\n",
      "2 match(es) found.\n"
     ]
    }
   ],
   "source": [
    "text = \"https\"\n",
    "\n",
    "# Matches zero or more LOWERCASE LETTERS SEQUENCE such as 'http', 'www'.\n",
    "# The second last output is a match results of zero occurrance of '.'.\n",
    "result = re.findall(\"[a-z]*\", text) \n",
    "\n",
    "print(result)\n",
    "print(len(result), 'match(es) found.')"
   ]
  },
  {
   "cell_type": "code",
   "execution_count": 61,
   "metadata": {},
   "outputs": [
    {
     "name": "stdout",
     "output_type": "stream",
     "text": [
      "['https', 'www', 'tarc', 'edu', 'my']\n",
      "5 match(es) found.\n"
     ]
    }
   ],
   "source": [
    "text = \"https://www.tarc.edu.my/\"\n",
    "\n",
    "# Any string that contains a single character or digit range from 0 to 9\n",
    "result = re.findall(\"[a-zA-Z0-9]+\", text) \n",
    "\n",
    "print(result)\n",
    "print(len(result), 'match(es) found.')"
   ]
  },
  {
   "cell_type": "code",
   "execution_count": 62,
   "metadata": {},
   "outputs": [
    {
     "name": "stdout",
     "output_type": "stream",
     "text": [
      "['https', '', '', '', 'www', '', 'tarc', '', 'edu', '', 'my', '', '']\n",
      "13 match(es) found.\n"
     ]
    }
   ],
   "source": [
    "text = \"https://www.tarc.edu.my/\"\n",
    "\n",
    "# Any string that contains a single character or digit range from 0 to 9 or not\n",
    "result = re.findall(\"[a-zA-Z0-9]*\", text) \n",
    "\n",
    "print(result)\n",
    "print(len(result), 'match(es) found.')"
   ]
  },
  {
   "cell_type": "markdown",
   "metadata": {},
   "source": [
    "#### 1.3.12.5 Example \\#5"
   ]
  },
  {
   "cell_type": "code",
   "execution_count": 63,
   "metadata": {},
   "outputs": [
    {
     "name": "stdout",
     "output_type": "stream",
     "text": [
      "['BIG', 'LARGE', 'HUGE', 'ENORMOUS']\n",
      "4 match(es) found.\n"
     ]
    }
   ],
   "source": [
    "text = \"BIG small LARGE little HUGE tiny ENORMOUS stingy\"\n",
    "result = re.findall(\"[A-Z]+\", text) \n",
    "\n",
    "print(result)\n",
    "print(len(result), 'match(es) found.')"
   ]
  },
  {
   "cell_type": "code",
   "execution_count": 64,
   "metadata": {},
   "outputs": [
    {
     "name": "stdout",
     "output_type": "stream",
     "text": [
      "['small', 'little', 'tiny', 'stingy']\n",
      "4 match(es) found.\n"
     ]
    }
   ],
   "source": [
    "text = \"BIG small LARGE little HUGE tiny ENORMOUS stingy\"\n",
    "result = re.findall(\"[a-z]+\", text)\n",
    "\n",
    "print(result)\n",
    "print(len(result), 'match(es) found.')"
   ]
  },
  {
   "cell_type": "code",
   "execution_count": 65,
   "metadata": {},
   "outputs": [
    {
     "name": "stdout",
     "output_type": "stream",
     "text": [
      "['', '', '', '', 'small', '', '', '', '', '', '', '', 'little', '', '', '', '', '', '', 'tiny', '', '', '', '', '', '', '', '', '', '', 'stingy', '']\n",
      "32 match(es) found.\n"
     ]
    }
   ],
   "source": [
    "# The last output is a match result of zero occurrance of '.'\n",
    "text = \"BIG small LARGE little HUGE tiny ENORMOUS stingy\"\n",
    "result = re.findall(\"[a-z]*\", text) \n",
    "\n",
    "print(result)\n",
    "print(len(result), 'match(es) found.')"
   ]
  },
  {
   "cell_type": "code",
   "execution_count": 66,
   "metadata": {},
   "outputs": [
    {
     "name": "stdout",
     "output_type": "stream",
     "text": [
      "['BIG small LARGE little HUGE tiny ENORMOUS stingy', '']\n",
      "2 match(es) found.\n"
     ]
    }
   ],
   "source": [
    "# The last output is a match result of zero occurrance of '.'\n",
    "text = \"BIG small LARGE little HUGE tiny ENORMOUS stingy\"\n",
    "result = re.findall(\".*\", text) \n",
    "\n",
    "print(result)\n",
    "print(len(result), 'match(es) found.')"
   ]
  },
  {
   "cell_type": "code",
   "execution_count": 67,
   "metadata": {},
   "outputs": [
    {
     "name": "stdout",
     "output_type": "stream",
     "text": [
      "['A']\n",
      "1 match(es) found.\n"
     ]
    }
   ],
   "source": [
    "text = \"A man is looking at me.\"\n",
    "result = re.findall(\"[A-Z][a-z]*\", text) \n",
    "\n",
    "print(result)\n",
    "print(len(result), 'match(es) found.')"
   ]
  },
  {
   "cell_type": "code",
   "execution_count": 68,
   "metadata": {},
   "outputs": [
    {
     "name": "stdout",
     "output_type": "stream",
     "text": [
      "['A man is looking at me.']\n",
      "1 match(es) found.\n"
     ]
    }
   ],
   "source": [
    "text = \"A man is looking at me.\"\n",
    "result = re.findall(\"^[A-Z].*$\", text) \n",
    "\n",
    "print(result)\n",
    "print(len(result), 'match(es) found.')"
   ]
  },
  {
   "cell_type": "markdown",
   "metadata": {},
   "source": [
    "### 1.3.13 Special Sequences: \\s\t\n",
    "\n",
    "▪ **\\s** returns a match when a string contains any **whitespace character** equivalents to [ \\t\\n\\r\\f\\v]"
   ]
  },
  {
   "cell_type": "markdown",
   "metadata": {},
   "source": [
    "## 1.2 re Module Functions (cont')\n",
    "\n",
    "### 1.2.4 split()\n",
    "\n",
    "▪ The **split()** method splits the string where there is a match and returns a list of strings where the splits have occurred."
   ]
  },
  {
   "cell_type": "markdown",
   "metadata": {},
   "source": [
    "#### 1.2.4.1 Example \\#1"
   ]
  },
  {
   "cell_type": "code",
   "execution_count": 69,
   "metadata": {},
   "outputs": [
    {
     "name": "stdout",
     "output_type": "stream",
     "text": [
      "['The', 'rain', 'in', 'Sungai', 'Kapal']\n"
     ]
    }
   ],
   "source": [
    "text = \"The rain in Sungai Kapal\"\n",
    "result = re.split(\"\\s\", text)\n",
    "print(result)"
   ]
  },
  {
   "cell_type": "code",
   "execution_count": 70,
   "metadata": {},
   "outputs": [
    {
     "name": "stdout",
     "output_type": "stream",
     "text": [
      "['The', 'rain', 'in', 'Sungai', 'Kapal']\n"
     ]
    }
   ],
   "source": [
    "text = \"The rain in Sungai Kapal\"\n",
    "result = re.split(\" \", text)\n",
    "print(result)"
   ]
  },
  {
   "cell_type": "code",
   "execution_count": 71,
   "metadata": {},
   "outputs": [
    {
     "name": "stdout",
     "output_type": "stream",
     "text": [
      "['The', 'rain', 'in', 'Sungai', 'Kapal']\n"
     ]
    }
   ],
   "source": [
    "text = \"The rain in\\tSungai Kapal\"\n",
    "result = re.split(\"\\s\", text)\n",
    "print(result)"
   ]
  },
  {
   "cell_type": "code",
   "execution_count": 72,
   "metadata": {},
   "outputs": [
    {
     "name": "stdout",
     "output_type": "stream",
     "text": [
      "['The', 'rain', 'in\\tSungai', 'Kapal']\n"
     ]
    }
   ],
   "source": [
    "text = \"The rain in\\tSungai Kapal\"\n",
    "result = re.split(\" \", text)\n",
    "print(result)"
   ]
  },
  {
   "cell_type": "markdown",
   "metadata": {},
   "source": [
    "#### 1.2.4.2 Example \\#2"
   ]
  },
  {
   "cell_type": "code",
   "execution_count": 73,
   "metadata": {},
   "outputs": [
    {
     "name": "stdout",
     "output_type": "stream",
     "text": [
      "There are 4 students as follows:\n",
      "1. FuJiang\n",
      "2. TangHua\n",
      "3. WenJie\n",
      "4. EeMin\n"
     ]
    }
   ],
   "source": [
    "text = \"FuJiang#TangHua#WenJie#EeMin\"\n",
    "\n",
    "result = re.split(\"#\", text)\n",
    "\n",
    "print('There are', len(result), 'students as follows:')\n",
    "for index in range(len(result)):\n",
    "    print('{}. {}'.format(str(index + 1), result[index]))"
   ]
  },
  {
   "cell_type": "markdown",
   "metadata": {},
   "source": [
    "#### 1.2.4.3 Example \\#3"
   ]
  },
  {
   "cell_type": "code",
   "execution_count": 74,
   "metadata": {},
   "outputs": [
    {
     "name": "stdout",
     "output_type": "stream",
     "text": [
      "['Twelve:', ' Eighty nine:', '.']\n"
     ]
    }
   ],
   "source": [
    "string = 'Twelve:12 Eighty nine:89.'\n",
    "pattern = '\\d+'\n",
    "\n",
    "result = re.split(pattern, string) \n",
    "print(result)"
   ]
  },
  {
   "cell_type": "markdown",
   "metadata": {},
   "source": [
    "### 1.2.5 sub()\n",
    "\n",
    "▪ The **sub()** function replaces one or many matches with a string."
   ]
  },
  {
   "cell_type": "markdown",
   "metadata": {},
   "source": [
    "#### 1.2.5.1 Example \\#1"
   ]
  },
  {
   "cell_type": "code",
   "execution_count": 75,
   "metadata": {},
   "outputs": [
    {
     "name": "stdout",
     "output_type": "stream",
     "text": [
      "The9rain9in9Sungai9Kapal\n"
     ]
    }
   ],
   "source": [
    "text = \"The rain in Sungai Kapal\"\n",
    "result = re.sub(\"\\s\", \"9\", text)\n",
    "print(result)"
   ]
  },
  {
   "cell_type": "code",
   "execution_count": 76,
   "metadata": {},
   "outputs": [
    {
     "name": "stdout",
     "output_type": "stream",
     "text": [
      "The*rain*in*Sungai*Kapal\n"
     ]
    }
   ],
   "source": [
    "result = re.sub(\"\\s\", \"*\", text)\n",
    "print(result)"
   ]
  },
  {
   "cell_type": "markdown",
   "metadata": {},
   "source": [
    "#### 1.2.5.2 Example \\#2"
   ]
  },
  {
   "cell_type": "code",
   "execution_count": 77,
   "metadata": {},
   "outputs": [
    {
     "name": "stdout",
     "output_type": "stream",
     "text": [
      "i love ***\n"
     ]
    }
   ],
   "source": [
    "text = \"i love apple\"\n",
    "result = re.sub(\"apple\", \"***\", text)\n",
    "print(result)"
   ]
  },
  {
   "cell_type": "markdown",
   "metadata": {},
   "source": [
    "#### 1.2.5.3 Example \\#3"
   ]
  },
  {
   "cell_type": "code",
   "execution_count": 78,
   "metadata": {},
   "outputs": [
    {
     "name": "stdout",
     "output_type": "stream",
     "text": [
      "jolinTsai@***.com\n"
     ]
    }
   ],
   "source": [
    "email = \"jolinTsai@gmail.com\"\n",
    "result = re.sub(\"gmail\", \"***\", email)\n",
    "print(result)"
   ]
  },
  {
   "cell_type": "markdown",
   "metadata": {},
   "source": [
    "## 1.4 Regexr\n",
    "\n",
    "### 1.4.1 Introduction\n",
    "\n",
    "▪ **Regexr** is a regular expression tester (https://regexr.com/) with syntax highlighting that can be used to understand the meaning of a regex.\n",
    "\n",
    "\\>> Press **New** to start an experiment\n",
    "\n",
    "\\>>> **Explain** section: Explains the meaning of regex.\n",
    "\n",
    "\\>>> **Details** section: Show the matching part(s)."
   ]
  },
  {
   "cell_type": "markdown",
   "metadata": {},
   "source": [
    "#### 1.4.1.1 Example \\#1"
   ]
  },
  {
   "cell_type": "code",
   "execution_count": 79,
   "metadata": {},
   "outputs": [
    {
     "name": "stdout",
     "output_type": "stream",
     "text": [
      "<re.Match object; span=(0, 27), match='Cats are smarter than dogs.'>\n"
     ]
    }
   ],
   "source": [
    "text = 'Cats are smarter than dogs.'\n",
    "pattern = '(.*) are (.*?) (.*)'\n",
    "\n",
    "result = re.search(pattern, text)\n",
    "print(result)"
   ]
  },
  {
   "cell_type": "code",
   "execution_count": 80,
   "metadata": {},
   "outputs": [
    {
     "name": "stdout",
     "output_type": "stream",
     "text": [
      "('Cats', 'smarter', 'than dogs.')\n",
      "Cats are smarter than dogs.\n",
      "Cats\n",
      "smarter\n"
     ]
    }
   ],
   "source": [
    "print(result.groups())\n",
    "print(result.group(0))\n",
    "print(result.group(1))\n",
    "print(result.group(2))"
   ]
  },
  {
   "cell_type": "markdown",
   "metadata": {},
   "source": [
    "### 1.4.2 Greedy vs. Non-Greedy (or lazy) Quantifiers\n",
    "\n",
    "▪ Quantifiers allow us to match their preceding elements a number of times. \n",
    "\n",
    "▪ By default, quantifiers work in the greedy mode. \n",
    "\n",
    "▪ **Greedy quantifiers** will match their preceding elements as much as possible to return to the biggest match possible.\n",
    "\n",
    "▪ **Non-greedy quantifiers** will match as little as possible to return the smallest match possible. \n",
    "\n",
    "▪ To turn greedy quantifiers into non-greedy quantifiers, we add an extra question mark (?) to the quantifiers. \n",
    "\n",
    "![](greedyvslazy.png)\n",
    "\n",
    "https://www.pythontutorial.net/python-regex/python-regex-non-greedy/"
   ]
  },
  {
   "cell_type": "markdown",
   "metadata": {},
   "source": [
    "#### 1.4.1.2 Example \\#2"
   ]
  },
  {
   "cell_type": "code",
   "execution_count": 81,
   "metadata": {},
   "outputs": [
    {
     "name": "stdout",
     "output_type": "stream",
     "text": [
      "<re.Match object; span=(0, 28), match='Cats are  smarter than dogs.'>\n"
     ]
    }
   ],
   "source": [
    "text = 'Cats are  smarter than dogs.'\n",
    "pattern = '(.*) are (.*?) (.*)'\n",
    "\n",
    "result = re.search(pattern, text)\n",
    "print(result)"
   ]
  },
  {
   "cell_type": "code",
   "execution_count": 82,
   "metadata": {},
   "outputs": [
    {
     "name": "stdout",
     "output_type": "stream",
     "text": [
      "('Cats', '', 'smarter than dogs.')\n",
      "Cats are  smarter than dogs.\n",
      "Cats\n",
      "\n"
     ]
    }
   ],
   "source": [
    "print(result.groups())\n",
    "print(result.group(0))\n",
    "print(result.group(1))\n",
    "print(result.group(2))"
   ]
  },
  {
   "cell_type": "markdown",
   "metadata": {},
   "source": [
    "#### 1.4.1.3 Example \\#3"
   ]
  },
  {
   "cell_type": "code",
   "execution_count": 83,
   "metadata": {},
   "outputs": [
    {
     "name": "stdout",
     "output_type": "stream",
     "text": [
      "<re.Match object; span=(0, 27), match='Cats are smarter than dogs.'>\n"
     ]
    }
   ],
   "source": [
    "text = 'Cats are smarter than dogs.'\n",
    "pattern = '(.*)are(.*?)(.*)'\n",
    "\n",
    "result = re.search(pattern, text)\n",
    "print(result)"
   ]
  },
  {
   "cell_type": "code",
   "execution_count": 84,
   "metadata": {},
   "outputs": [
    {
     "name": "stdout",
     "output_type": "stream",
     "text": [
      "('Cats ', '', ' smarter than dogs.')\n",
      "Cats are smarter than dogs.\n",
      "Cats \n",
      "\n"
     ]
    }
   ],
   "source": [
    "print(result.groups())\n",
    "print(result.group(0))\n",
    "print(result.group(1))\n",
    "print(result.group(2))"
   ]
  },
  {
   "cell_type": "markdown",
   "metadata": {},
   "source": [
    "#### 1.4.1.4 Example \\#4"
   ]
  },
  {
   "cell_type": "code",
   "execution_count": 85,
   "metadata": {},
   "outputs": [
    {
     "name": "stdout",
     "output_type": "stream",
     "text": [
      "<re.Match object; span=(0, 23), match='abc-regex_2020@xmen.com'>\n",
      "abc-regex_2020@xmen.com\n"
     ]
    }
   ],
   "source": [
    "pattern = '^[a-zA-Z][a-zA-Z0-9._+-]+@[A-Za-z]+.[A-Za-z]+'\n",
    "text = 'abc-regex_2020@xmen.com'\n",
    "result = re.search(pattern, text)\n",
    "\n",
    "print(result)\n",
    "\n",
    "if result:\n",
    "    print(result[0])"
   ]
  },
  {
   "cell_type": "code",
   "execution_count": 86,
   "metadata": {},
   "outputs": [
    {
     "name": "stdout",
     "output_type": "stream",
     "text": [
      "None\n"
     ]
    }
   ],
   "source": [
    "pattern = '^[a-zA-Z][a-zA-Z0-9._+-]+@[A-Za-z]+.[A-Za-z]+'\n",
    "text = 'This is a sample email address: abc-regex_2020@xmen.com'\n",
    "result = re.search(pattern, text)\n",
    "\n",
    "print(result)\n",
    "\n",
    "if result:\n",
    "    print(result[0])"
   ]
  },
  {
   "cell_type": "code",
   "execution_count": 87,
   "metadata": {},
   "outputs": [
    {
     "name": "stdout",
     "output_type": "stream",
     "text": [
      "<re.Match object; span=(32, 55), match='abc-regex_2020@xmen.com'>\n",
      "abc-regex_2020@xmen.com\n"
     ]
    }
   ],
   "source": [
    "pattern = '[a-zA-Z][a-zA-Z0-9._+-]+@[A-Za-z]+.[A-Za-z]+'\n",
    "text = 'This is a sample email address: abc-regex_2020@xmen.com'\n",
    "result = re.search(pattern, text)\n",
    "\n",
    "print(result)\n",
    "\n",
    "if result:\n",
    "    print(result[0])"
   ]
  },
  {
   "cell_type": "code",
   "execution_count": 88,
   "metadata": {},
   "outputs": [
    {
     "name": "stdout",
     "output_type": "stream",
     "text": [
      "<re.Match object; span=(35, 58), match='abc-regex_2020@xmen.com'>\n",
      "abc-regex_2020@xmen.com\n"
     ]
    }
   ],
   "source": [
    "pattern = '[a-zA-Z][a-zA-Z0-9._+-]+@[A-Za-z]+.[A-Za-z]+'\n",
    "text = 'This is a sample email address: 123abc-regex_2020@xmen.com'\n",
    "result = re.search(pattern, text)\n",
    "\n",
    "print(result)\n",
    "\n",
    "if result:\n",
    "    print(result[0])"
   ]
  }
 ],
 "metadata": {
  "kernelspec": {
   "display_name": "Python 3 (ipykernel)",
   "language": "python",
   "name": "python3"
  },
  "language_info": {
   "codemirror_mode": {
    "name": "ipython",
    "version": 3
   },
   "file_extension": ".py",
   "mimetype": "text/x-python",
   "name": "python",
   "nbconvert_exporter": "python",
   "pygments_lexer": "ipython3",
   "version": "3.9.12"
  }
 },
 "nbformat": 4,
 "nbformat_minor": 4
}
