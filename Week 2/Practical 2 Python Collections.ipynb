{
 "cells": [
  {
   "cell_type": "markdown",
   "metadata": {},
   "source": [
    "# Practical 2: Python Collections\n",
    "\n",
    "## 1.1 Introduction\n",
    "\n",
    "### 1.1.1 What are Python Collections?\n",
    "\n",
    "▪ Collections in Python are commonly known as data structures, which refer to ways of organizing and storing data so that it can be used efficiently.\n",
    "\n",
    "▪ List, Tuple, Set, and Dictionary are Python's built-in collections.\n",
    "\n",
    "<img src=\"comparison.png\" width=\"650\">"
   ]
  },
  {
   "cell_type": "markdown",
   "metadata": {},
   "source": [
    "## 1.2 List\n",
    "\n",
    "### 1.2.1 Creating Lists\n",
    "\n",
    "▪ In Python, lists are a collection of **mutable** (can modify the members of the list), **ordered** and **iterable** data, which **can contain heterogeneous** (which can be of any type, including other lists) and **duplicate data**.\n",
    "\n",
    "▪ Lists are enclosed in brackets.\n",
    "\n",
    "▪ To create a list in Python, place a sequence of items separated by commas inside the square bracket [ ], and a list is created."
   ]
  },
  {
   "cell_type": "code",
   "execution_count": null,
   "metadata": {},
   "outputs": [],
   "source": [
    "# Create a list of numbers\n",
    "numbers_list_1 = [1, 2, 3, 4, 5, 6, 7]\n",
    "print(numbers_list_1)"
   ]
  },
  {
   "cell_type": "code",
   "execution_count": null,
   "metadata": {},
   "outputs": [],
   "source": [
    "# Create a list of numbers with list() from another list\n",
    "numbers_list_1 = list([1, 2, 3, 4, 5, 6, 7])\n",
    "print(numbers_list_1)"
   ]
  },
  {
   "cell_type": "code",
   "execution_count": null,
   "metadata": {},
   "outputs": [],
   "source": [
    "# Create a list of numbers with list() from a tuple\n",
    "numbers_list_1 = list((1, 2, 3, 4, 5, 6, 7))\n",
    "print(numbers_list_1)"
   ]
  },
  {
   "cell_type": "markdown",
   "metadata": {},
   "source": [
    "### 1.2.2 Creating An Empty List"
   ]
  },
  {
   "cell_type": "code",
   "execution_count": null,
   "metadata": {},
   "outputs": [],
   "source": [
    "# Create an empty list\n",
    "empty_list_1 = []\n",
    "print(empty_list_1)\n",
    "\n",
    "# Create an empty list with list()\n",
    "empty_list_2 = list()\n",
    "print(empty_list_2)"
   ]
  },
  {
   "cell_type": "markdown",
   "metadata": {},
   "source": [
    "### 1.2.3 List is an Ordered Collection\n",
    "\n",
    "▪ An ordered collection has the same order which is specified initially.\n",
    "\n",
    "https://appdividend.com/2020/10/29/python-create-list-the-complete-guide/"
   ]
  },
  {
   "cell_type": "code",
   "execution_count": null,
   "metadata": {},
   "outputs": [],
   "source": [
    "# Create a list of numbers\n",
    "numbers_list_1 = [7, 5, 2, 4, 3, 6, 1]\n",
    "print(numbers_list_1)"
   ]
  },
  {
   "cell_type": "markdown",
   "metadata": {},
   "source": [
    "### 1.2.4 Lists Can Contain Duplicate Data"
   ]
  },
  {
   "cell_type": "code",
   "execution_count": null,
   "metadata": {},
   "outputs": [],
   "source": [
    "# Create a list of duplicated numbers with list() from a tuple\n",
    "numbers_list_2 = list((1, 2, 3, 3, 5, 6, 7))\n",
    "print(numbers_list_2)"
   ]
  },
  {
   "cell_type": "markdown",
   "metadata": {},
   "source": [
    "### 1.2.5 Creating a List with Mixed Data Types"
   ]
  },
  {
   "cell_type": "code",
   "execution_count": null,
   "metadata": {},
   "outputs": [],
   "source": [
    "# Create a list with mixed data types like boolean, string, integer, etc.\n",
    "mixed_list = [11, 'Eleven', 11.0, True]\n",
    "print(mixed_list)\n",
    "\n",
    "# Create a multi-dimensional list\n",
    "student_list = ['Kevin', 18, 3.85, ['BACS2003', 'BACS2023']]\n",
    "print(student_list)"
   ]
  },
  {
   "cell_type": "code",
   "execution_count": null,
   "metadata": {},
   "outputs": [],
   "source": [
    "# Combine 2 lists\n",
    "print(mixed_list + student_list) "
   ]
  },
  {
   "cell_type": "markdown",
   "metadata": {},
   "source": [
    "### 1.2.6 Accessing An Element with Positive Indexing\n",
    "\n",
    "▪ An item in a list can be accessed using the index operator.\n",
    "\n",
    "<img src=\"indexing-pos.png\" width=\"650\">\n",
    "\n",
    "https://www.programiz.com/python-programming/list"
   ]
  },
  {
   "cell_type": "code",
   "execution_count": null,
   "metadata": {},
   "outputs": [],
   "source": [
    "mixed_list = [11, 'Eleven', 11.0, True]\n",
    "\n",
    "print('The 1st item:', mixed_list[0])\n",
    "print('The 2nd item:', mixed_list[1])\n",
    "print('The 3rd item:', mixed_list[2])"
   ]
  },
  {
   "cell_type": "markdown",
   "metadata": {},
   "source": [
    "### 1.2.7 Accessing An Element with Negative Indexing\n",
    "\n",
    "▪ Python allows negative indexing for its sequences. \n",
    "\n",
    "<img src=\"indexing-neg.png\" width=\"650\">"
   ]
  },
  {
   "cell_type": "code",
   "execution_count": null,
   "metadata": {},
   "outputs": [],
   "source": [
    "print('The 3rd last item:', mixed_list[-3])\n",
    "print('The 2nd last item:', mixed_list[-2])\n",
    "print('The last item:', mixed_list[-1])"
   ]
  },
  {
   "cell_type": "markdown",
   "metadata": {},
   "source": [
    "### 1.2.8 Loop Through a List"
   ]
  },
  {
   "cell_type": "code",
   "execution_count": null,
   "metadata": {},
   "outputs": [],
   "source": [
    "mixed_list = [11, 'Eleven', 11.0, True]\n",
    "\n",
    "for item in mixed_list:\n",
    "    print(item)"
   ]
  },
  {
   "cell_type": "code",
   "execution_count": null,
   "metadata": {},
   "outputs": [],
   "source": [
    "for index in range(len(mixed_list)):\n",
    "    print(index, mixed_list[index])"
   ]
  },
  {
   "cell_type": "code",
   "execution_count": null,
   "metadata": {},
   "outputs": [],
   "source": [
    "fruit_list = ['apple','banana','mango']\n",
    "\n",
    "for fruit in fruit_list:\n",
    "    print(\"I like\", fruit)\n",
    "\n",
    "for index in range(len(fruit_list)):\n",
    "    print(\"I like\", fruit_list[index])"
   ]
  },
  {
   "cell_type": "markdown",
   "metadata": {},
   "source": [
    "### 1.2.9 List Slicing\n",
    "\n",
    "▪ In Python, **list slicing** is an operation that extracts a subset of elements from a list and packages them as another list.\n",
    "\n",
    "<img src=\"slicing.png\" width=\"650\">"
   ]
  },
  {
   "cell_type": "code",
   "execution_count": null,
   "metadata": {},
   "outputs": [],
   "source": [
    "numbers_list_1 = list((1, 2, 3, 4, 5, 6, 7))\n",
    "\n",
    "# Slice elements from index 2 to index 4\n",
    "print(numbers_list_1[2:5])"
   ]
  },
  {
   "cell_type": "code",
   "execution_count": null,
   "metadata": {},
   "outputs": [],
   "source": [
    "# Create a new list from the sliced elements\n",
    "new_list = numbers_list_1[2:5]\n",
    "print(new_list)"
   ]
  },
  {
   "cell_type": "code",
   "execution_count": null,
   "metadata": {},
   "outputs": [],
   "source": [
    "# Slice elements from beginning to index 4\n",
    "print(numbers_list_1[:5])"
   ]
  },
  {
   "cell_type": "code",
   "execution_count": null,
   "metadata": {},
   "outputs": [],
   "source": [
    "# Slice elements from index 5 to end\n",
    "print(numbers_list_1[5:])"
   ]
  },
  {
   "cell_type": "code",
   "execution_count": null,
   "metadata": {},
   "outputs": [],
   "source": [
    "# Slice elements beginning to end\n",
    "print(numbers_list_1[:])"
   ]
  },
  {
   "cell_type": "markdown",
   "metadata": {},
   "source": [
    "### 1.2.10 Modifying a List\n",
    "\n",
    "▪ Lists are mutable means that their elements can be changed."
   ]
  },
  {
   "cell_type": "code",
   "execution_count": null,
   "metadata": {},
   "outputs": [],
   "source": [
    "numbers_list_1 = [1, 2, 3, 4, 5, 6, 7]\n",
    "print(numbers_list_1) "
   ]
  },
  {
   "cell_type": "code",
   "execution_count": null,
   "metadata": {},
   "outputs": [],
   "source": [
    "# Modify item with index 2\n",
    "numbers_list_1[2] = 99 \n",
    "print(numbers_list_1) "
   ]
  },
  {
   "cell_type": "markdown",
   "metadata": {},
   "source": [
    "### 1.2.11 Modifying a List Using Pre-Defined  Functions\n",
    "\n",
    "Methods  | Descriptions\n",
    "---------| -------------------------\n",
    "append() | Adds an element to the end of the list\n",
    "extend() | Adds all elements of a list to another list\n",
    "insert() | Inserts an item at the defined index\n",
    "remove() | Removes an item from the list\n",
    "pop()    | Returns and removes an element at the given index\n",
    "clear()  | Removes all items from the list\n",
    "index()  | Returns the index of the first matched item\n",
    "count()  | Returns the count of the number of items passed as an argument\n",
    "sort()   | Sort items in a list in ascending order\n",
    "reverse()| Reverse the order of items in the list\n",
    "copy()   | Returns a shallow copy of the list"
   ]
  },
  {
   "cell_type": "code",
   "execution_count": null,
   "metadata": {},
   "outputs": [],
   "source": [
    "# Append a new value to last\n",
    "numbers_list_1.append(100) \n",
    "print(numbers_list_1)"
   ]
  },
  {
   "cell_type": "code",
   "execution_count": null,
   "metadata": {},
   "outputs": [],
   "source": [
    "# Insert a new value to index 1\n",
    "numbers_list_1.insert(1, 'C') \n",
    "print(numbers_list_1)"
   ]
  },
  {
   "cell_type": "code",
   "execution_count": null,
   "metadata": {},
   "outputs": [],
   "source": [
    "# Remove the item with value 1\n",
    "numbers_list_1.remove('C') \n",
    "print(numbers_list_1)"
   ]
  },
  {
   "cell_type": "markdown",
   "metadata": {},
   "source": [
    "### 1.2.12 Modifying a List with pop()\n",
    "\n",
    "▪ The pop() method removes and returns the last item if the index is not provided.\n",
    "\n",
    "▪ This helps us implement lists as stacks (first in, last out data structure)."
   ]
  },
  {
   "cell_type": "code",
   "execution_count": null,
   "metadata": {},
   "outputs": [],
   "source": [
    "# Remove the last item\n",
    "print(numbers_list_1.pop()) \n",
    "print(numbers_list_1)"
   ]
  },
  {
   "cell_type": "code",
   "execution_count": null,
   "metadata": {},
   "outputs": [],
   "source": [
    "# Remove an item with the index of 2\n",
    "print(numbers_list_1.pop(2))\n",
    "print(numbers_list_1)"
   ]
  },
  {
   "cell_type": "markdown",
   "metadata": {},
   "source": [
    "### 1.2.13 Emptying a List with clear()\n",
    "\n",
    "▪ The clear() method empty the whole list."
   ]
  },
  {
   "cell_type": "code",
   "execution_count": null,
   "metadata": {},
   "outputs": [],
   "source": [
    "numbers_list_1.clear()\n",
    "\n",
    "print(numbers_list_1)"
   ]
  },
  {
   "cell_type": "markdown",
   "metadata": {},
   "source": [
    "### 1.2.14 Modifying or Deleting a List Using del\n",
    "\n",
    "▪ Python del is a keyword used to delete any element, objects in a Python program. "
   ]
  },
  {
   "cell_type": "code",
   "execution_count": null,
   "metadata": {},
   "outputs": [],
   "source": [
    "numbers_list_1 = [1, 2, 3, 4, 5, 6, 7]\n",
    "\n",
    "# Delete the item with index 1\n",
    "del numbers_list_1[1] \n",
    "print(numbers_list_1)"
   ]
  },
  {
   "cell_type": "code",
   "execution_count": null,
   "metadata": {},
   "outputs": [],
   "source": [
    "# Delete multiple items\n",
    "del numbers_list_1[2:3] \n",
    "print(numbers_list_1)"
   ]
  },
  {
   "cell_type": "code",
   "execution_count": null,
   "metadata": {},
   "outputs": [],
   "source": [
    "# Delete the entire list\n",
    "del numbers_list_1"
   ]
  },
  {
   "cell_type": "code",
   "execution_count": null,
   "metadata": {},
   "outputs": [],
   "source": [
    "print(numbers_list_1)"
   ]
  },
  {
   "cell_type": "markdown",
   "metadata": {},
   "source": [
    "### 1.2.15 List Membership Test\n",
    "\n",
    "▪ We can test if an item exists in a list or not, using the keyword in."
   ]
  },
  {
   "cell_type": "code",
   "execution_count": null,
   "metadata": {},
   "outputs": [],
   "source": [
    "my_list = ['p', 'r', 'o', 'b', 'l', 'e', 'm']\n",
    "\n",
    "print('p' in my_list)"
   ]
  },
  {
   "cell_type": "code",
   "execution_count": null,
   "metadata": {},
   "outputs": [],
   "source": [
    "print('a' in my_list)"
   ]
  },
  {
   "cell_type": "code",
   "execution_count": null,
   "metadata": {},
   "outputs": [],
   "source": [
    "print('P' in my_list)"
   ]
  },
  {
   "cell_type": "code",
   "execution_count": null,
   "metadata": {},
   "outputs": [],
   "source": [
    "print('c' not in my_list)"
   ]
  },
  {
   "cell_type": "markdown",
   "metadata": {},
   "source": [
    "### 1.2.16 List Comprehension\n",
    "\n",
    "▪ List comprehension is an easy and compact syntax for creating a list from a string or another list.\n",
    "\n",
    "<img src=\"list-comprehension.png\" width=\"650\">"
   ]
  },
  {
   "cell_type": "code",
   "execution_count": null,
   "metadata": {},
   "outputs": [],
   "source": [
    "fruits_list = [\"apple\", \"banana\", \"cherry\", \"kiwi\", \"mango\"]\n",
    "\n",
    "new_list = [x for x in fruits_list if \"a\" in x] # If the fruit has the letter \"a\" in the name...\n",
    "\n",
    "print(new_list)"
   ]
  },
  {
   "cell_type": "code",
   "execution_count": null,
   "metadata": {},
   "outputs": [],
   "source": [
    "a = [1, 2, 3, 4, 5, 6, 7, 6, 5, 4, 3, 2, 1]\n",
    "b = [' ' * 2 * (7 - item) + 'look' * item for item in a]\n",
    "\n",
    "for line in b:\n",
    "    print(line)"
   ]
  },
  {
   "cell_type": "markdown",
   "metadata": {},
   "source": [
    "### 1.2.17 Sorting a List with sort() and sorted()\n",
    "\n",
    "<img src=\"sort-vs-sorted.png\">\n",
    "\n",
    "▪ The way to invoke the two functions is not the same: \n",
    "\n",
    "\\>>> **Syntax: List_name.sort(key, reverse=False)**\n",
    "\n",
    "\\>>> **Syntax: sorted(iteraable, key, reverse=False)**\n",
    "\n",
    "https://discuss.codecademy.com/t/what-is-the-difference-between-sort-and-sorted/349679"
   ]
  },
  {
   "cell_type": "code",
   "execution_count": null,
   "metadata": {},
   "outputs": [],
   "source": [
    "marks_list = [0.4, 0.5, 0.7, 0.6, 0.3]\n",
    "\n",
    "# Sort the list ascendingly\n",
    "new_marks_list = sorted(marks_list)\n",
    "\n",
    "print(\"marks_list =\", marks_list)\n",
    "print(\"new_marks_list =\", new_marks_list)"
   ]
  },
  {
   "cell_type": "code",
   "execution_count": null,
   "metadata": {},
   "outputs": [],
   "source": [
    "# list comprehension\n",
    "new_marks_list = [m * 100 for m in marks_list if m > 0.5] \n",
    "\n",
    "print(\"new_marks_list =\", new_marks_list)"
   ]
  },
  {
   "cell_type": "code",
   "execution_count": null,
   "metadata": {},
   "outputs": [],
   "source": [
    "# Sort the list in descending order\n",
    "new_marks_list.sort(reverse = False) \n",
    "\n",
    "print(\"new_marks_list =\",  new_marks_list)"
   ]
  },
  {
   "cell_type": "markdown",
   "metadata": {},
   "source": [
    "### 1.2.18 Unpacking a List\n",
    "\n",
    "▪ In Python, elements of lists can be assigned to multiple variables. \n",
    "\n",
    "https://note.nkmk.me/en/python-tuple-list-unpack/"
   ]
  },
  {
   "cell_type": "code",
   "execution_count": null,
   "metadata": {},
   "outputs": [],
   "source": [
    "numbers_list = [0, 1, 2]\n",
    "\n",
    "num_1, num_2, num_3 = numbers_list\n",
    "\n",
    "print(num_1)\n",
    "print(num_2)\n",
    "print(num_3)"
   ]
  },
  {
   "cell_type": "code",
   "execution_count": null,
   "metadata": {},
   "outputs": [],
   "source": [
    "numbers_list = [[0, 'A'], [1, 'B'], [2, 'C']]\n",
    "index = 0\n",
    "\n",
    "for item in numbers_list:\n",
    "    number, letter = numbers_list[index]    \n",
    "    print(number, letter)\n",
    "    index += 1"
   ]
  },
  {
   "cell_type": "markdown",
   "metadata": {},
   "source": [
    "### 1.2.19 Comparing Two Lists\n",
    "\n",
    "▪ The == operator is used to compare two lists item by item to find out whether they have equal data items at equal positions. "
   ]
  },
  {
   "cell_type": "code",
   "execution_count": null,
   "metadata": {},
   "outputs": [],
   "source": [
    "list_1 = [1, 2, 3, 4]\n",
    "list_2 = [1, 2, 3, 4]\n",
    "\n",
    "print(list_1 == list_2)"
   ]
  },
  {
   "cell_type": "code",
   "execution_count": null,
   "metadata": {
    "scrolled": true
   },
   "outputs": [],
   "source": [
    "list_3 = [2, 3, 4, 5]\n",
    "\n",
    "print(list_2 == list_3)"
   ]
  },
  {
   "cell_type": "code",
   "execution_count": null,
   "metadata": {},
   "outputs": [],
   "source": [
    "list_4 = [4, 3, 2, 1]\n",
    "\n",
    "print(list_2 == list_4)"
   ]
  },
  {
   "cell_type": "markdown",
   "metadata": {},
   "source": [
    "## 1.3 Tuple\n",
    "\n",
    "### 1.3.1 Introduction\n",
    "\n",
    "▪ Tuple is similar to list where it has **iterable**, **ordered**, (can contain) **repetitive data**. \n",
    "\n",
    "▪ But unlike lists, tuples are enclosed within parentheses (); and tuples are **immutable**, i.e. we cannot add, delete or make assignments to items.\n",
    "\n",
    "https://www.makeuseof.com/how-to-create-and-use-tuples-in-python/"
   ]
  },
  {
   "cell_type": "markdown",
   "metadata": {},
   "source": [
    "### 1.3.2 Creating Tuples"
   ]
  },
  {
   "cell_type": "code",
   "execution_count": null,
   "metadata": {},
   "outputs": [],
   "source": [
    "# Create a tuple of numbers\n",
    "coordinate_tuple = (3.12345, 101.23423)\n",
    "print(coordinate_tuple)"
   ]
  },
  {
   "cell_type": "code",
   "execution_count": null,
   "metadata": {},
   "outputs": [],
   "source": [
    "# Create a tuple with tuple() from a tuple\n",
    "message_tuple = tuple((\"hi\", \"hello\", \"bye\"))\n",
    "print(message_tuple)"
   ]
  },
  {
   "cell_type": "code",
   "execution_count": null,
   "metadata": {},
   "outputs": [],
   "source": [
    "# Create a tuple with tuple() from a list\n",
    "message_tuple = tuple([\"hi\", \"hello\", \"bye\"])\n",
    "print(message_tuple)"
   ]
  },
  {
   "cell_type": "markdown",
   "metadata": {},
   "source": [
    "### 1.3.3 Creating An Empty Tuple"
   ]
  },
  {
   "cell_type": "code",
   "execution_count": null,
   "metadata": {},
   "outputs": [],
   "source": [
    "# Create an empty tuple\n",
    "empty_tuple = ()\n",
    "print(empty_tuple)"
   ]
  },
  {
   "cell_type": "markdown",
   "metadata": {},
   "source": [
    "### 1.3.4 Tuple is an Ordered Collection that can Contain Duplicated Data"
   ]
  },
  {
   "cell_type": "code",
   "execution_count": null,
   "metadata": {},
   "outputs": [],
   "source": [
    "# Create a tuple of duplicated grades with list()\n",
    "letters_tuple = tuple(('A', 'B', 'C', 'C'))\n",
    "print(letters_tuple)"
   ]
  },
  {
   "cell_type": "markdown",
   "metadata": {},
   "source": [
    "### 1.3.5 Creating a Tuple with a Single Item"
   ]
  },
  {
   "cell_type": "code",
   "execution_count": null,
   "metadata": {},
   "outputs": [],
   "source": [
    "single_item_tuple_1 = (11)\n",
    "print(single_item_tuple_1)"
   ]
  },
  {
   "cell_type": "code",
   "execution_count": null,
   "metadata": {},
   "outputs": [],
   "source": [
    "print(type(single_item_tuple_1))"
   ]
  },
  {
   "cell_type": "code",
   "execution_count": null,
   "metadata": {},
   "outputs": [],
   "source": [
    "single_item_tuple_2 = (11,)\n",
    "print(single_item_tuple_2)\n",
    "print(type(single_item_tuple_2))"
   ]
  },
  {
   "cell_type": "markdown",
   "metadata": {},
   "source": [
    "### 1.3.6 Creating a Tuple with Mixed Data Types"
   ]
  },
  {
   "cell_type": "code",
   "execution_count": null,
   "metadata": {},
   "outputs": [],
   "source": [
    "# Create a tuple with mixed data types like boolean, string, integer, etc.\n",
    "mixed_tuple = (11, 'Eleven', True)\n",
    "print(mixed_tuple)"
   ]
  },
  {
   "cell_type": "code",
   "execution_count": null,
   "metadata": {},
   "outputs": [],
   "source": [
    "# Create a multi-dimensional tuple that contains list(s)\n",
    "student_tuple = ('Kevin', 18, 3.85, ['BACS2003', 'BACS2063'])\n",
    "print(student_tuple)"
   ]
  },
  {
   "cell_type": "code",
   "execution_count": null,
   "metadata": {},
   "outputs": [],
   "source": [
    "# Create a multi-dimensional tuple that contains tuple(s)\n",
    "mixed_tuple = (message_tuple, letters_tuple)\n",
    "print(mixed_tuple)"
   ]
  },
  {
   "cell_type": "markdown",
   "metadata": {},
   "source": [
    "### 1.3.7 Accessing an Element with Positive Indexing"
   ]
  },
  {
   "cell_type": "code",
   "execution_count": null,
   "metadata": {},
   "outputs": [],
   "source": [
    "coordinate_tuple = (3.12345, 101.23423)\n",
    "\n",
    "print(coordinate_tuple[0])"
   ]
  },
  {
   "cell_type": "code",
   "execution_count": null,
   "metadata": {},
   "outputs": [],
   "source": [
    "print(mixed_tuple)"
   ]
  },
  {
   "cell_type": "code",
   "execution_count": null,
   "metadata": {},
   "outputs": [],
   "source": [
    "print(mixed_tuple[1])"
   ]
  },
  {
   "cell_type": "code",
   "execution_count": null,
   "metadata": {},
   "outputs": [],
   "source": [
    "print(mixed_tuple[0][0])"
   ]
  },
  {
   "cell_type": "markdown",
   "metadata": {},
   "source": [
    "### 1.3.8 Accessing an Element with Negative Indexing"
   ]
  },
  {
   "cell_type": "code",
   "execution_count": null,
   "metadata": {},
   "outputs": [],
   "source": [
    "letters_tuple = tuple(('A', 'B', 'C', 'C'))\n",
    "\n",
    "print(letters_tuple[-1])\n",
    "print(letters_tuple[-2])\n",
    "print(letters_tuple[-3])\n",
    "print(letters_tuple[-4])"
   ]
  },
  {
   "cell_type": "markdown",
   "metadata": {},
   "source": [
    "### 1.3.9 Loop Through a Tuple"
   ]
  },
  {
   "cell_type": "code",
   "execution_count": null,
   "metadata": {},
   "outputs": [],
   "source": [
    "for fruit_tuple_1 in ('apple','banana','mango'):\n",
    "    print(\"I like\", fruit_tuple_1)"
   ]
  },
  {
   "cell_type": "code",
   "execution_count": null,
   "metadata": {},
   "outputs": [],
   "source": [
    "fruit_tuple_2 = ('orange','papaya','durian')\n",
    "\n",
    "for index in range(len(fruit_tuple_2)):\n",
    "    print(\"I like\", fruit_tuple_2[index])"
   ]
  },
  {
   "cell_type": "markdown",
   "metadata": {},
   "source": [
    "### 1.3.10 Tuple Slicing"
   ]
  },
  {
   "cell_type": "code",
   "execution_count": null,
   "metadata": {},
   "outputs": [],
   "source": [
    "numbers_tuple = (1, 2, 3, 4, 5, 6, 7)\n",
    "\n",
    "# Slice elements from index 2 to index 4\n",
    "print(numbers_tuple[2:5])\n",
    "\n",
    "# Slice elements from index 5 to end\n",
    "print(numbers_tuple[5:])\n",
    "\n",
    "# Slice elements beginning to end\n",
    "print(numbers_tuple[:])"
   ]
  },
  {
   "cell_type": "code",
   "execution_count": null,
   "metadata": {},
   "outputs": [],
   "source": [
    "# Slice elements from index 2 to index 4\n",
    "numbers_list = list(numbers_tuple[2:5])\n",
    "print(numbers_list)"
   ]
  },
  {
   "cell_type": "markdown",
   "metadata": {},
   "source": [
    "### 1.3.11 Tuple Membership Test"
   ]
  },
  {
   "cell_type": "code",
   "execution_count": null,
   "metadata": {},
   "outputs": [],
   "source": [
    "my_tuple = ('p', 'r', 'o', 'b', 'l', 'e', 'm')\n",
    "\n",
    "# Output: True\n",
    "print('p' in my_tuple)\n",
    "\n",
    "# Output: False\n",
    "print('a' in my_tuple)\n",
    "\n",
    "# Output: True\n",
    "print('c' not in my_tuple)"
   ]
  },
  {
   "cell_type": "markdown",
   "metadata": {},
   "source": [
    "### 1.3.12 Unpacking a Tuple"
   ]
  },
  {
   "cell_type": "code",
   "execution_count": null,
   "metadata": {},
   "outputs": [],
   "source": [
    "coordinate_tuple = (3.12345, 101.23423)\n",
    "x, y = coordinate_tuple\n",
    "print('x =', x, 'y =', y)"
   ]
  },
  {
   "cell_type": "markdown",
   "metadata": {},
   "source": [
    "### 1.3.13 Tuple Packing\n",
    "\n",
    "▪ A tuple can also be created without using parentheses, which is known as **tuple packing**."
   ]
  },
  {
   "cell_type": "code",
   "execution_count": null,
   "metadata": {},
   "outputs": [],
   "source": [
    "new_coordinate_1 = x, y\n",
    "print(new_coordinate_1)"
   ]
  },
  {
   "cell_type": "markdown",
   "metadata": {},
   "source": [
    "### 1.3.14 - Modifying Immutable Tuple (Part 1)\n",
    "\n",
    "▪ Tuples is **immutable**. "
   ]
  },
  {
   "cell_type": "code",
   "execution_count": null,
   "metadata": {},
   "outputs": [],
   "source": [
    "coordinate_tuple = (3.12345, 101.23423)\n",
    "\n",
    "coordinate_tuple[0] = 0"
   ]
  },
  {
   "cell_type": "markdown",
   "metadata": {},
   "source": [
    "### 1.3.15 - Modifying Immutable Tuple (Part 2)\n",
    "\n",
    "▪ Convert a tuple to a list. Then modify the list. Finally, convert the list back to a tuple.\n",
    "\n",
    "https://beginnersbook.com/2018/02/python-tuple/"
   ]
  },
  {
   "cell_type": "code",
   "execution_count": null,
   "metadata": {},
   "outputs": [],
   "source": [
    "tuple_1 = (1, 2, 3)\n",
    "print(\"This is the original Tuple:\", tuple_1)"
   ]
  },
  {
   "cell_type": "code",
   "execution_count": null,
   "metadata": {},
   "outputs": [],
   "source": [
    "temp_list = list(tuple_1)\n",
    "temp_list.append(4)\n",
    "tuple_1 = tuple(temp_list)\n",
    "\n",
    "print(\"This is the updated Tuple:\", tuple_1)"
   ]
  },
  {
   "cell_type": "markdown",
   "metadata": {},
   "source": [
    "### 1.3.16 - Modifying Immutable Tuple (Part 3)\n",
    "\n",
    "▪ We can change the elements of nested items that are mutable, for instance, a list inside a tuple. \n",
    "\n",
    "https://www.makeuseof.com/how-to-create-and-use-tuples-in-python/"
   ]
  },
  {
   "cell_type": "code",
   "execution_count": null,
   "metadata": {},
   "outputs": [],
   "source": [
    "tuple_2 = (1, [9, 8, 7], \"World\")"
   ]
  },
  {
   "cell_type": "code",
   "execution_count": null,
   "metadata": {},
   "outputs": [],
   "source": [
    "tuple_2[0] = 0"
   ]
  },
  {
   "cell_type": "code",
   "execution_count": null,
   "metadata": {},
   "outputs": [],
   "source": [
    "tuple_2[1][2] = 99\n",
    "print(tuple_2)"
   ]
  },
  {
   "cell_type": "markdown",
   "metadata": {},
   "source": [
    "### 1.3.17 Comparing Two Tuples"
   ]
  },
  {
   "cell_type": "code",
   "execution_count": null,
   "metadata": {},
   "outputs": [],
   "source": [
    "tuple_1 = (1, 2, 3, 4)\n",
    "tuple_2 = (1, 2, 3, 4)\n",
    "\n",
    "print(tuple_1 == tuple_2)"
   ]
  },
  {
   "cell_type": "code",
   "execution_count": null,
   "metadata": {},
   "outputs": [],
   "source": [
    "tuple_3 = (2, 3, 4, 5)\n",
    "\n",
    "print(tuple_2 == tuple_3)"
   ]
  },
  {
   "cell_type": "code",
   "execution_count": null,
   "metadata": {},
   "outputs": [],
   "source": [
    "tuple_4 = (4, 3, 2, 1)\n",
    "\n",
    "print(tuple_2 == tuple_4)"
   ]
  },
  {
   "cell_type": "markdown",
   "metadata": {},
   "source": [
    "## 1.4 Set\n",
    "\n",
    "▪ A set is an **unordered** collection data type that is **iterable**, **mutable**, but it **doesn't have duplicate** elements.\n",
    "\n",
    "### 1.4.1 Creating Sets"
   ]
  },
  {
   "cell_type": "code",
   "execution_count": null,
   "metadata": {},
   "outputs": [],
   "source": [
    "# Creating a set of numbers\n",
    "numbers_set_1 = {1, 2, 3, 4, 5, 6, 7}\n",
    "print(numbers_set_1)"
   ]
  },
  {
   "cell_type": "code",
   "execution_count": null,
   "metadata": {},
   "outputs": [],
   "source": [
    "# Creating a set from a list\n",
    "numbers_set_2 = set([3, 4, 5, 6, 2, 1]) \n",
    "print(numbers_set_2)"
   ]
  },
  {
   "cell_type": "code",
   "execution_count": null,
   "metadata": {},
   "outputs": [],
   "source": [
    "# Creating a set from a tuple\n",
    "coordinate_tuple = (3.12345, 101.23423)\n",
    "coordinate_set = set(coordinate_tuple)\n",
    "print(coordinate_set)"
   ]
  },
  {
   "cell_type": "markdown",
   "metadata": {},
   "source": [
    "### 1.4.2 Creating Empty Sets\n",
    "\n",
    "▪ In Python, both sets and dictionaries are enclosed in curly braces."
   ]
  },
  {
   "cell_type": "code",
   "execution_count": null,
   "metadata": {},
   "outputs": [],
   "source": [
    "# Create an empty dictionary\n",
    "empty_set_1 = {}\n",
    "print(empty_set_1)"
   ]
  },
  {
   "cell_type": "code",
   "execution_count": null,
   "metadata": {},
   "outputs": [],
   "source": [
    "print(type(empty_set_1))"
   ]
  },
  {
   "cell_type": "code",
   "execution_count": null,
   "metadata": {},
   "outputs": [],
   "source": [
    "# Create an empty set\n",
    "empty_set_2 = set()\n",
    "print(empty_set_2)"
   ]
  },
  {
   "cell_type": "code",
   "execution_count": null,
   "metadata": {},
   "outputs": [],
   "source": [
    "print(type(empty_set_2))"
   ]
  },
  {
   "cell_type": "markdown",
   "metadata": {},
   "source": [
    "### 1.4.3 Sets Do Not Have Duplicate Elements"
   ]
  },
  {
   "cell_type": "code",
   "execution_count": null,
   "metadata": {},
   "outputs": [],
   "source": [
    "# Create a set of duplicated numbers\n",
    "numbers_set_1 = {1, 2, 3, 4, 5, 6, 6}\n",
    "print(numbers_set_1)"
   ]
  },
  {
   "cell_type": "markdown",
   "metadata": {},
   "source": [
    "### 1.4.4 Sets are Unordered"
   ]
  },
  {
   "cell_type": "code",
   "execution_count": null,
   "metadata": {},
   "outputs": [],
   "source": [
    "letters_set_1 = {'a', 'f', 'e', 'b', 'd', 'c'}\n",
    "print(letters_set_1)"
   ]
  },
  {
   "cell_type": "code",
   "execution_count": null,
   "metadata": {},
   "outputs": [],
   "source": [
    "words_set_1 = {\"subtraction\", \"addition\", \"multiplication\", \"division\"}\n",
    "print(words_set_1)"
   ]
  },
  {
   "cell_type": "markdown",
   "metadata": {},
   "source": [
    "### 1.4.5 Creating a Set with Mixed Data Types"
   ]
  },
  {
   "cell_type": "code",
   "execution_count": null,
   "metadata": {},
   "outputs": [],
   "source": [
    "mixed_set = {2022, 'BACS2023', True, None, 'A'}\n",
    "print(mixed_set)"
   ]
  },
  {
   "cell_type": "markdown",
   "metadata": {},
   "source": [
    "### 1.4.6 Accessing an element in set with Index\n",
    "\n",
    "▪ Since sets are unordered, indexing has no meaning. Thus, we cannot access set member through indexing or slicing."
   ]
  },
  {
   "cell_type": "code",
   "execution_count": null,
   "metadata": {},
   "outputs": [],
   "source": [
    "print(mixed_set[0])"
   ]
  },
  {
   "cell_type": "markdown",
   "metadata": {},
   "source": [
    "### 1.4.7 Modifying a Set (Part 1)\n",
    "\n",
    "▪ Sets are mutable. \n",
    "\n",
    "▪ We can add a new element to a set using **add()** or mutiple elements using **update()**.\n",
    "\n",
    "https://www.programiz.com/python-programming/set"
   ]
  },
  {
   "cell_type": "code",
   "execution_count": null,
   "metadata": {},
   "outputs": [],
   "source": [
    "numbers_set_3 = {1, 2, 3, 4, 5, 6}\n",
    "print(numbers_set_3)"
   ]
  },
  {
   "cell_type": "code",
   "execution_count": null,
   "metadata": {},
   "outputs": [],
   "source": [
    "numbers_set_3.add(2)\n",
    "print(numbers_set_3)"
   ]
  },
  {
   "cell_type": "code",
   "execution_count": null,
   "metadata": {},
   "outputs": [],
   "source": [
    "numbers_set_3.add(7)\n",
    "print(numbers_set_3)"
   ]
  },
  {
   "cell_type": "code",
   "execution_count": null,
   "metadata": {},
   "outputs": [],
   "source": [
    "numbers_set_3.update('A', 'Z')\n",
    "print(numbers_set_3)"
   ]
  },
  {
   "cell_type": "markdown",
   "metadata": {},
   "source": [
    "### 1.4.8 Modifying a Set (Part 2)\n",
    "\n",
    "▪ We remove an element from a set using **remove()** and **discard()**."
   ]
  },
  {
   "cell_type": "code",
   "execution_count": null,
   "metadata": {},
   "outputs": [],
   "source": [
    "numbers_set_3.discard(0)\n",
    "print(numbers_set_3)"
   ]
  },
  {
   "cell_type": "code",
   "execution_count": null,
   "metadata": {},
   "outputs": [],
   "source": [
    "numbers_set_3.discard(99)\n",
    "print(numbers_set_3)"
   ]
  },
  {
   "cell_type": "code",
   "execution_count": null,
   "metadata": {},
   "outputs": [],
   "source": [
    "numbers_set_3.remove(1)\n",
    "print(numbers_set_3)"
   ]
  },
  {
   "cell_type": "code",
   "execution_count": null,
   "metadata": {},
   "outputs": [],
   "source": [
    "numbers_set_3.remove(99)\n",
    "print(numbers_set_3)"
   ]
  },
  {
   "cell_type": "markdown",
   "metadata": {},
   "source": [
    "### 1.4.9 Loop Through a Set\n",
    "\n",
    "▪ Since sets are unordered, indexing has no meaning, we cannot access an element of a set using indexing or slicing. "
   ]
  },
  {
   "cell_type": "code",
   "execution_count": null,
   "metadata": {},
   "outputs": [],
   "source": [
    "letters_set_1 = {'a', 'f', 'e', 'b', 'd', 'c'}\n",
    "print(letters_set_1)"
   ]
  },
  {
   "cell_type": "code",
   "execution_count": null,
   "metadata": {},
   "outputs": [],
   "source": [
    "for letter in letters_set_1:\n",
    "    print(\"Letter\", letter)"
   ]
  },
  {
   "cell_type": "code",
   "execution_count": null,
   "metadata": {},
   "outputs": [],
   "source": [
    "for letter in set(\"Letter\"):\n",
    "    print(letter)"
   ]
  },
  {
   "cell_type": "code",
   "execution_count": null,
   "metadata": {},
   "outputs": [],
   "source": [
    "for index in range(len(letters_set_1)):\n",
    "    print(\"Letter\", letters_set_1[index])"
   ]
  },
  {
   "cell_type": "markdown",
   "metadata": {},
   "source": [
    "### 1.4.10 Set Membership Test"
   ]
  },
  {
   "cell_type": "code",
   "execution_count": null,
   "metadata": {},
   "outputs": [],
   "source": [
    "letters_set_1 = {'a', 'f', 'e', 'b', 'd', 'c'}\n",
    "\n",
    "print('a' in letters_set_1)\n",
    "print('z' in letters_set_1)"
   ]
  },
  {
   "cell_type": "markdown",
   "metadata": {},
   "source": [
    "### 1.4.11 Unpacking a Set"
   ]
  },
  {
   "cell_type": "code",
   "execution_count": null,
   "metadata": {},
   "outputs": [],
   "source": [
    "coordinate_set = {3.12345, 101.23423}\n",
    "x, y = coordinate_set\n",
    "print('x =', x, 'y =', y)"
   ]
  },
  {
   "cell_type": "markdown",
   "metadata": {},
   "source": [
    "### 1.4.12 Comparing Two Sets"
   ]
  },
  {
   "cell_type": "code",
   "execution_count": null,
   "metadata": {},
   "outputs": [],
   "source": [
    "set_1 = {1, 2, 3, 4}\n",
    "set_2 = {1, 2, 3, 4}\n",
    "\n",
    "print(set_1 == set_2)"
   ]
  },
  {
   "cell_type": "code",
   "execution_count": null,
   "metadata": {},
   "outputs": [],
   "source": [
    "set_3 = {2, 3, 4, 5}\n",
    "\n",
    "print(set_1 == set_3)"
   ]
  },
  {
   "cell_type": "code",
   "execution_count": null,
   "metadata": {},
   "outputs": [],
   "source": [
    "set_4 = {4, 3, 2, 1}\n",
    "\n",
    "print(set_1 == set_4)"
   ]
  },
  {
   "cell_type": "markdown",
   "metadata": {},
   "source": [
    "### 1.4.13 Python Set Operations\n",
    "\n",
    "▪ Sets can be used to carry out mathematical set operations like **union (|)**, **intersection (&)**, **difference (-)** and **symmetric difference (^)**. \n",
    "\n",
    "Methods                      | Descriptions\n",
    "-----------------------------| -------------------------\n",
    "difference()                 | Returns the difference of two or more sets as a new set\n",
    "intersection()               | Returns the intersection of two sets as a new set\n",
    "symmetric_difference()       | Returns the symmetric difference of two sets as a new set\n",
    "union()                      | Returns the union of sets in a new set\n",
    "\n",
    "https://www.programiz.com/python-programming/set"
   ]
  },
  {
   "cell_type": "markdown",
   "metadata": {},
   "source": [
    "### 1.4.14 Set Union\n",
    "\n",
    "▪ Union of A and B is a set of all elements from both sets.\n",
    "\n",
    "▪ Union is performed using the **|** operator. \n",
    "\n",
    "▪ The same outcome can be accomplished using the **union()** method.\n",
    "\n",
    "![set-union.webp](set-union.webp)"
   ]
  },
  {
   "cell_type": "code",
   "execution_count": null,
   "metadata": {},
   "outputs": [],
   "source": [
    "A = {1, 2, 3, 4, 5}\n",
    "B = {4, 5, 6, 7, 8}\n",
    "\n",
    "print(A | B)"
   ]
  },
  {
   "cell_type": "code",
   "execution_count": null,
   "metadata": {},
   "outputs": [],
   "source": [
    "print(B | A)"
   ]
  },
  {
   "cell_type": "code",
   "execution_count": null,
   "metadata": {},
   "outputs": [],
   "source": [
    "print(A.union(B))"
   ]
  },
  {
   "cell_type": "code",
   "execution_count": null,
   "metadata": {},
   "outputs": [],
   "source": [
    "print(B.union(A))"
   ]
  },
  {
   "cell_type": "markdown",
   "metadata": {},
   "source": [
    "### 1.4.15 Set Intersection\n",
    "\n",
    "▪ Intersection of A and B is a set of elements that are common in both the sets.\n",
    "\n",
    "▪ Intersection is performed using the **&** operator. \n",
    "\n",
    "▪ The same outcome can be accomplished using the **intersection()** method.\n",
    "\n",
    "![set-intersection.webp](set-intersection.webp)"
   ]
  },
  {
   "cell_type": "code",
   "execution_count": null,
   "metadata": {},
   "outputs": [],
   "source": [
    "A = {1, 2, 3, 4, 5}\n",
    "B = {4, 5, 6, 7, 8}\n",
    "\n",
    "print(A & B)"
   ]
  },
  {
   "cell_type": "code",
   "execution_count": null,
   "metadata": {},
   "outputs": [],
   "source": [
    "print(B & A)"
   ]
  },
  {
   "cell_type": "code",
   "execution_count": null,
   "metadata": {},
   "outputs": [],
   "source": [
    "print(A.intersection(B))"
   ]
  },
  {
   "cell_type": "code",
   "execution_count": null,
   "metadata": {},
   "outputs": [],
   "source": [
    "print(B.intersection(A))"
   ]
  },
  {
   "cell_type": "markdown",
   "metadata": {},
   "source": [
    "### 1.4.16 Set Difference\n",
    "\n",
    "▪ Difference of the set B from set A or difference of the set A from set B\n",
    "\n",
    "▪ **A - B** is a set of elements that are only in A but not in B. \n",
    "\n",
    "▪ Similarly, **B - A** is a set of elements in B but not in A.\n",
    "\n",
    "▪ Difference is performed using the **-** operator. \n",
    "\n",
    "▪ The same outcome can be accomplished using the **difference()** method.\n",
    "\n",
    "![set-difference.webp](set-difference.webp)"
   ]
  },
  {
   "cell_type": "code",
   "execution_count": null,
   "metadata": {},
   "outputs": [],
   "source": [
    "A = {1, 2, 3, 4, 5}\n",
    "B = {4, 5, 6, 7, 8}\n",
    "\n",
    "print(A - B)"
   ]
  },
  {
   "cell_type": "code",
   "execution_count": null,
   "metadata": {},
   "outputs": [],
   "source": [
    "print(B - A)"
   ]
  },
  {
   "cell_type": "code",
   "execution_count": null,
   "metadata": {},
   "outputs": [],
   "source": [
    "print(A.difference(B))"
   ]
  },
  {
   "cell_type": "code",
   "execution_count": null,
   "metadata": {},
   "outputs": [],
   "source": [
    "print(B.difference(A))"
   ]
  },
  {
   "cell_type": "markdown",
   "metadata": {},
   "source": [
    "### 1.4.17 Set Symmetric Difference\n",
    "\n",
    "▪ Symmetric Difference of A and B is a set of elements in A and B but not in both (excluding the intersection).\n",
    "\n",
    "▪ Symmetric difference is performed using the **^** operator. \n",
    "\n",
    "▪ The same outcome can be accomplished using the method **symmetric_difference()**.\n",
    "\n",
    "![set-symmetric-difference.webp](set-symmetric-difference.webp)"
   ]
  },
  {
   "cell_type": "code",
   "execution_count": null,
   "metadata": {},
   "outputs": [],
   "source": [
    "A = {1, 2, 3, 4, 5}\n",
    "B = {4, 5, 6, 7, 8}\n",
    "\n",
    "print(A ^ B)"
   ]
  },
  {
   "cell_type": "code",
   "execution_count": null,
   "metadata": {},
   "outputs": [],
   "source": [
    "print(B ^ A)"
   ]
  },
  {
   "cell_type": "code",
   "execution_count": null,
   "metadata": {},
   "outputs": [],
   "source": [
    "print(A.symmetric_difference(B))"
   ]
  },
  {
   "cell_type": "code",
   "execution_count": null,
   "metadata": {},
   "outputs": [],
   "source": [
    "print(B.symmetric_difference(A))"
   ]
  },
  {
   "cell_type": "markdown",
   "metadata": {},
   "source": [
    "### 1.4.18 Example: Set Manipulation\n",
    "\n",
    "▪ Suppose **DSA** stands for **Data Structure and Algorithm**, **AI** stands for **Artificial Intelligence** and **WEB** stands for **Web Programming or Web Development**, we can check their union, intersection, difference and etc. as follows:"
   ]
  },
  {
   "cell_type": "code",
   "execution_count": null,
   "metadata": {},
   "outputs": [],
   "source": [
    "dsa = set([\"Tom\", \"Jake\", \"John\", \"Eric\"])\n",
    "web = set([\"Tom\", \"Jake\", \"Jill\", \"Mac\"])\n",
    "ai = set([\"William\", \"Andy\"])"
   ]
  },
  {
   "cell_type": "markdown",
   "metadata": {},
   "source": [
    "#### 1.4.18.1 Union\n",
    "\n",
    "▪ Find all people who have **registered for either dsa or web**."
   ]
  },
  {
   "cell_type": "code",
   "execution_count": null,
   "metadata": {},
   "outputs": [],
   "source": [
    "print('dsa.union(web) =', dsa.union(web))\n",
    "print('dsa | web =', dsa | web)"
   ]
  },
  {
   "cell_type": "markdown",
   "metadata": {},
   "source": [
    "#### 1.4.18.2 Intersection\n",
    "\n",
    "▪ Find all people who have **registered for both dsa or web**."
   ]
  },
  {
   "cell_type": "code",
   "execution_count": null,
   "metadata": {},
   "outputs": [],
   "source": [
    "print('dsa.intersection(web) =', dsa.intersection(web))\n",
    "print('dsa & web =', dsa & web)"
   ]
  },
  {
   "cell_type": "markdown",
   "metadata": {},
   "source": [
    "▪ Find all people who have **registered for both dsa and ai**."
   ]
  },
  {
   "cell_type": "code",
   "execution_count": null,
   "metadata": {},
   "outputs": [],
   "source": [
    "print('dsa.intersection(ai) =', dsa.intersection(ai))\n",
    "print('dsa & ai =', dsa & ai)"
   ]
  },
  {
   "cell_type": "markdown",
   "metadata": {},
   "source": [
    "#### 1.4.18.3 Difference\n",
    "\n",
    "▪ Find all people who have **registered for dsa but not web**."
   ]
  },
  {
   "cell_type": "code",
   "execution_count": null,
   "metadata": {},
   "outputs": [],
   "source": [
    "print('dsa.difference(web) =', dsa.difference(web))\n",
    "print('dsa - web =', dsa - web)"
   ]
  },
  {
   "cell_type": "markdown",
   "metadata": {},
   "source": [
    "#### 1.4.18.4 Symmetric Difference\n",
    "\n",
    "▪ Find all people who have registered only for dsa or web."
   ]
  },
  {
   "cell_type": "code",
   "execution_count": null,
   "metadata": {},
   "outputs": [],
   "source": [
    "print('dsa.symmetric_difference(web) =', dsa.symmetric_difference(web))\n",
    "print('dsa ^ web =', dsa ^ web)"
   ]
  },
  {
   "cell_type": "markdown",
   "metadata": {},
   "source": [
    "### 1.4.19 Example\n",
    "\n",
    "#### 1.4.19.1 issuperset()\n",
    "\n",
    "▪ The **issuperset()** method returns True if a set has every elements of another set (passed as an argument). If not, it returns False.\n",
    "\n",
    "▪ Here, set B is a superset of set A and A is a subset of set B.\n",
    "\n",
    "<img src=\"issuperset.png\">\n",
    "\n",
    "https://www.programiz.com/python-programming/methods/set/issuperset\n",
    "\n",
    "https://www.programiz.com/python-programming/methods/set/isdisjoint"
   ]
  },
  {
   "cell_type": "code",
   "execution_count": null,
   "metadata": {},
   "outputs": [],
   "source": [
    "dsa = set([\"Tom\", \"Jake\", \"John\", \"Eric\"])\n",
    "web = set([\"Tom\", \"Jake\", \"Jill\", \"Mac\"])\n",
    "ai = set([\"William\", \"Andy\"])"
   ]
  },
  {
   "cell_type": "code",
   "execution_count": null,
   "metadata": {
    "scrolled": true
   },
   "outputs": [],
   "source": [
    "if dsa.issuperset(ai): \n",
    "    print(\"All students registered for AI also registered for DSA\")\n",
    "else:\n",
    "    print(\"Not all students registered for AI registered for DSA\")"
   ]
  },
  {
   "cell_type": "markdown",
   "metadata": {},
   "source": [
    "#### 1.4.19.2 issubset()\n",
    "\n",
    "▪ Similarly, the **issubset()** method returns True if set A is the subset of B, i.e. if all the elements of set A are present in set B. Else, it returns False."
   ]
  },
  {
   "cell_type": "code",
   "execution_count": null,
   "metadata": {},
   "outputs": [],
   "source": [
    "if ai.issubset(dsa): \n",
    "    print(\"All students registered for AI also registered for DSA\")\n",
    "else:\n",
    "    print(\"Not all students registered for AI registered for DSA\")"
   ]
  },
  {
   "cell_type": "markdown",
   "metadata": {},
   "source": [
    "#### 1.4.19.3 isdisjoint()\n",
    "\n",
    "▪ The **isdisjoint()** method returns True if two sets don't have any common items between them. Else, it returns False."
   ]
  },
  {
   "cell_type": "code",
   "execution_count": null,
   "metadata": {},
   "outputs": [],
   "source": [
    "if dsa.isdisjoint(ai):\n",
    "    print(\"No one registered for both of DSA and AI\")\n",
    "else:\n",
    "    print(\"Someones registered for both of DSA and AI\")"
   ]
  },
  {
   "cell_type": "markdown",
   "metadata": {},
   "source": [
    "### 1.4.20 Set Methods\n",
    "\n",
    "Methods                      | Descriptions\n",
    "-----------------------------| -------------------------\n",
    "add()                        | Adds an element to the set\n",
    "clear()                      | Removes all elements from the set\n",
    "copy()                       | Returns a copy of the set\n",
    "difference()                 | Returns the difference of two or more sets as a new set\n",
    "difference_update()          | Removes all elements of another set from this set\n",
    "discard()                    | Removes an element from the set if it is a member. (Do nothing if the element is not in set)\n",
    "intersection()               | Returns the intersection of two sets as a new set\n",
    "intersection_update()        | Updates the set with the intersection of itself and another\n",
    "isdisjoint()                 | Returns True if two sets have a null intersection\n",
    "issubset()                   | Returns True if another set contains this set\n",
    "issuperset()                 | Returns True if this set contains another set\n",
    "pop()                        | Removes and returns an arbitrary set element. Raises KeyError if the set is empty\n",
    "remove()                     | Removes an element from the set. If the element is not a member, raises a KeyError\n",
    "symmetric_difference()       | Returns the symmetric difference of two sets as a new set\n",
    "symmetric_difference_update()| Updates a set with the symmetric difference of itself and another\n",
    "union()                      | Returns the union of sets in a new set\n",
    "update()                     | Updates the set with the union of itself and others\n",
    "\n",
    "Methods    | Descriptions\n",
    "-----------| -------------------------\n",
    "all()      | Returns True if all elements of the set are true (or if the set is empty).\n",
    "any()      | Returns True if any element of the set is true. If the set is empty, returns False.\n",
    "enumerate()| Returns an enumerate object. It contains the index and value for all the items of the set as a pair.\n",
    "len()      | Returns the length (the number of items) in the set.\n",
    "max()      | Returns the largest item in the set.\n",
    "min()      | Returns the smallest item in the set.\n",
    "sorted()   | Returns a new sorted list from elements in the set (does not sort the set itself).\n",
    "sum()      | Returns the sum of all elements in the set."
   ]
  },
  {
   "cell_type": "markdown",
   "metadata": {},
   "source": [
    "## 1.5 Dictionaries\n",
    "\n",
    "### 1.5.1 Introduction\n",
    "\n",
    "▪ Dictionaries  are a collection of **mutable**, **ordered** and **iterable** data, which can contain **heterogeneous** but **not duplicate data**.\n",
    "\n",
    "▪ As of Python version 3.7, dictionaries are ordered. In Python 3.6 and earlier, dictionaries are unordered.\n",
    "\n",
    "▪ A dictionary stores items in **key/value pairs**, where keys are unique identifiers that are associated with each value.\n",
    "\n",
    "![dictionary.png](dictionary.png)\n",
    "\n",
    "https://www.programiz.com/python-programming/dictionary"
   ]
  },
  {
   "cell_type": "markdown",
   "metadata": {},
   "source": [
    "### 1.5.2 Creating Dictionaries\n",
    "\n",
    "▪ Every item in a dictionary has a key and its corresponding value (key: value)."
   ]
  },
  {
   "cell_type": "code",
   "execution_count": null,
   "metadata": {},
   "outputs": [],
   "source": [
    "student_id_name = {2210821: \"John\", 2210847: \"Michelle\", 2210905: \"Alice\"}\n",
    "print(student_id_name)"
   ]
  },
  {
   "cell_type": "code",
   "execution_count": null,
   "metadata": {},
   "outputs": [],
   "source": [
    "state_capital = {\"Johor\": \"Johor Bahru\", \"Selangor\": \"Shah Alam\", \"Sabah\": \"Kota Kinabalu\"}\n",
    "print(state_capital)"
   ]
  },
  {
   "cell_type": "code",
   "execution_count": null,
   "metadata": {},
   "outputs": [],
   "source": [
    "word_frequency_1 = {\"Hello\" : 7, \"hi\" : 10, \"there\" : 45, \"at\" : 23, \"this\" : 77}\n",
    "print(word_frequency_1)"
   ]
  },
  {
   "cell_type": "markdown",
   "metadata": {},
   "source": [
    "### 1.5.3 Dictionaries Do Not Have Duplicate Data"
   ]
  },
  {
   "cell_type": "code",
   "execution_count": null,
   "metadata": {},
   "outputs": [],
   "source": [
    "student_id_name = {2210821: \"John\", 2210847: \"Michelle\", 2210905: \"Alice\", 2210821: \"John\"}\n",
    "print(student_id_name)"
   ]
  },
  {
   "cell_type": "markdown",
   "metadata": {},
   "source": [
    "### 1.5.4 Dictionaries are Ordered Collection"
   ]
  },
  {
   "cell_type": "code",
   "execution_count": null,
   "metadata": {},
   "outputs": [],
   "source": [
    "number_digit = {2: \"Two\", 1: \"One\", 4: \"Four\", 3: \"Three\"}\n",
    "print(number_digit)"
   ]
  },
  {
   "cell_type": "markdown",
   "metadata": {},
   "source": [
    "### 1.5.5 Creating Dictionaries with dict()"
   ]
  },
  {
   "cell_type": "code",
   "execution_count": null,
   "metadata": {},
   "outputs": [],
   "source": [
    "state_capital = dict(Johor = \"Johor Bahru\", Selangor = \"Shah Alam\", Sabah = \"Kota Kinabalu\")\n",
    "print(state_capital)"
   ]
  },
  {
   "cell_type": "markdown",
   "metadata": {},
   "source": [
    "### 1.5.6 Creating an Empty Dictionary"
   ]
  },
  {
   "cell_type": "code",
   "execution_count": null,
   "metadata": {},
   "outputs": [],
   "source": [
    "dictionary_1 = {}\n",
    "\n",
    "print(dictionary_1)"
   ]
  },
  {
   "cell_type": "code",
   "execution_count": null,
   "metadata": {},
   "outputs": [],
   "source": [
    "print(type(dictionary_1))"
   ]
  },
  {
   "cell_type": "code",
   "execution_count": null,
   "metadata": {},
   "outputs": [],
   "source": [
    "dictionary_1 = dict()\n",
    "print(dictionary_1)"
   ]
  },
  {
   "cell_type": "markdown",
   "metadata": {},
   "source": [
    "### 1.5.7 Creating a Dictionary with Mixed Data Types"
   ]
  },
  {
   "cell_type": "code",
   "execution_count": null,
   "metadata": {},
   "outputs": [],
   "source": [
    "student_info = {'name': 'John', 'year': 2, 'courses': ['BACS2003', 'BACS2023', 'BACS2040']}\n",
    "\n",
    "print(student_info)"
   ]
  },
  {
   "cell_type": "markdown",
   "metadata": {},
   "source": [
    "### 1.5.8 Creating a Dictionary from a List Using fromkeys()"
   ]
  },
  {
   "cell_type": "code",
   "execution_count": null,
   "metadata": {},
   "outputs": [],
   "source": [
    "word_list = [\"Hello\", \"hi\", \"there\", \"at\", \"this\"]\n",
    "\n",
    "word_frequency_2 = dict.fromkeys(word_list, 0)\n",
    "print(word_frequency_2)"
   ]
  },
  {
   "cell_type": "markdown",
   "metadata": {},
   "source": [
    "### 1.5.9 Creating a Dictionary from Two Lists Using zip()"
   ]
  },
  {
   "cell_type": "code",
   "execution_count": null,
   "metadata": {},
   "outputs": [],
   "source": [
    "word_list = [\"Hello\", \"hi\", \"there\", \"at\", \"this\"]\n",
    "frequency_list = [7, 10, 45, 23, 77]\n",
    "\n",
    "word_frequency_2 = dict(zip(word_list, frequency_list))\n",
    "print(word_frequency_2)"
   ]
  },
  {
   "cell_type": "markdown",
   "metadata": {},
   "source": [
    "### 1.5.10 Creating a Dictionary from a List of Tuples"
   ]
  },
  {
   "cell_type": "code",
   "execution_count": null,
   "metadata": {},
   "outputs": [],
   "source": [
    "# Creating a list of binary tuples\n",
    "word_frequency_tuple = [(\"Hello\", 7), (\"hi\", 10), (\"there\", 45), (\"at\", 23), (\"this\", 77)]\n",
    "\n",
    "# Creating and initializing a dict using a list of binary tuple\n",
    "word_frequency_dict = dict(word_frequency_tuple)\n",
    "print(word_frequency_dict)"
   ]
  },
  {
   "cell_type": "code",
   "execution_count": null,
   "metadata": {},
   "outputs": [],
   "source": [
    "student_info = dict([('name', ['Tomy', 'Hillfigure']), ('age', '19'), ('level', 'BSc'), ('programme', 'ST'), ('year', 2),\n",
    "                 ('registration_id', '16WAD5678'), ('tel', '0191111000')])\n",
    "print(student_info)"
   ]
  },
  {
   "cell_type": "markdown",
   "metadata": {},
   "source": [
    "### 1.5.11 Accessing an Element of Dictionary"
   ]
  },
  {
   "cell_type": "code",
   "execution_count": null,
   "metadata": {},
   "outputs": [],
   "source": [
    "print('Name:', student_info[0])"
   ]
  },
  {
   "cell_type": "code",
   "execution_count": null,
   "metadata": {},
   "outputs": [],
   "source": [
    "# Retrieving individual value associated with the key 'name'\n",
    "print('Name:', student_info['name'])"
   ]
  },
  {
   "cell_type": "code",
   "execution_count": null,
   "metadata": {},
   "outputs": [],
   "source": [
    "if student_info['level'] == 'BSc':\n",
    "    print('Programme R' + student_info['programme'] + str(student_info['year']))"
   ]
  },
  {
   "cell_type": "markdown",
   "metadata": {},
   "source": [
    "### 1.5.12 Accessing an Element of Dictionary with get()\n",
    "\n",
    "▪ The **get()** method returns the value of the item with the specified key."
   ]
  },
  {
   "cell_type": "code",
   "execution_count": null,
   "metadata": {},
   "outputs": [],
   "source": [
    "print('Registration ID:', student_info.get('registration_id'))"
   ]
  },
  {
   "cell_type": "code",
   "execution_count": null,
   "metadata": {},
   "outputs": [],
   "source": [
    "print('Gender:', student_info.get('gender'))"
   ]
  },
  {
   "cell_type": "code",
   "execution_count": null,
   "metadata": {},
   "outputs": [],
   "source": [
    "print('Gender:', student_info.get('gender', 'This item doesn\\'t exist'))"
   ]
  },
  {
   "cell_type": "markdown",
   "metadata": {},
   "source": [
    "### 1.5.13 Accessing All Keys and Values Separately Using keys() and values()\n",
    "\n",
    "▪ The **keys()** method returns a list that contains only the keys that are inside the dictionary.\n",
    "\n",
    "▪ The **values()** method returns a list that contains only the values that are inside the dictionary."
   ]
  },
  {
   "cell_type": "code",
   "execution_count": null,
   "metadata": {},
   "outputs": [],
   "source": [
    "print(student_info.keys())"
   ]
  },
  {
   "cell_type": "code",
   "execution_count": null,
   "metadata": {},
   "outputs": [],
   "source": [
    "print(student_info.values())"
   ]
  },
  {
   "cell_type": "markdown",
   "metadata": {},
   "source": [
    "### 1.5.14 Accessing All Key-Value Pairs Using items()\n",
    "\n",
    "▪ The **items()** method returns a list of tuples that contains the key-value pairs that are inside the dictionary."
   ]
  },
  {
   "cell_type": "code",
   "execution_count": null,
   "metadata": {},
   "outputs": [],
   "source": [
    "# Retrieve a list of key-value pairs as tuples\n",
    "print(student_info.items())"
   ]
  },
  {
   "cell_type": "markdown",
   "metadata": {},
   "source": [
    "### 1.5.15 Loop Through a Dictionary"
   ]
  },
  {
   "cell_type": "code",
   "execution_count": null,
   "metadata": {},
   "outputs": [],
   "source": [
    "# Iterate through all keys in a dictionary\n",
    "for value in student_info:\n",
    "    print(value)"
   ]
  },
  {
   "cell_type": "code",
   "execution_count": null,
   "metadata": {},
   "outputs": [],
   "source": [
    "# Iterate through all values in a dictionary via values()\n",
    "for value in student_info.values():\n",
    "    print(value)"
   ]
  },
  {
   "cell_type": "code",
   "execution_count": null,
   "metadata": {},
   "outputs": [],
   "source": [
    "# Iterate through all keys and values in a dictionary via items\n",
    "for key, value in student_info.items():\n",
    "    print(key, \":\", value)"
   ]
  },
  {
   "cell_type": "code",
   "execution_count": null,
   "metadata": {},
   "outputs": [],
   "source": [
    "# Iterate through all keys and values in a dictionary via items\n",
    "for x, y in student_info.items():\n",
    "    print(x, \":\", y)"
   ]
  },
  {
   "cell_type": "markdown",
   "metadata": {},
   "source": [
    "### 1.5.16 Dictionary Membership Test"
   ]
  },
  {
   "cell_type": "code",
   "execution_count": null,
   "metadata": {},
   "outputs": [],
   "source": [
    "print('name' in student_info)\n",
    "print('gender' in student_info)"
   ]
  },
  {
   "cell_type": "markdown",
   "metadata": {},
   "source": [
    "### 1.5.17 Modifying Dictionaries: Updating One Item\n",
    "\n",
    "▪ A dictionary's keys are immutable but their corresponding values are mutable."
   ]
  },
  {
   "cell_type": "code",
   "execution_count": null,
   "metadata": {},
   "outputs": [],
   "source": [
    "word_frequency_1 = {\"Hello\" : 7, \"hi\" : 10, \"there\" : 45, \"at\" : 23, \"this\" : 77}\n",
    "print(word_frequency_1[\"hi\"])"
   ]
  },
  {
   "cell_type": "code",
   "execution_count": null,
   "metadata": {},
   "outputs": [],
   "source": [
    "word_frequency_1[\"hi\"] = 20\n",
    "print(word_frequency_1[\"hi\"])"
   ]
  },
  {
   "cell_type": "markdown",
   "metadata": {},
   "source": [
    "### 1.5.18 Modifying Dictionaries: Updating More than One Item\n",
    "\n",
    "▪ The **update()** method can be used to update more than one value inside a dictionary at the same time."
   ]
  },
  {
   "cell_type": "code",
   "execution_count": null,
   "metadata": {},
   "outputs": [],
   "source": [
    "word_frequency_1 = {\"Hello\" : 7, \"hi\" : 10, \"there\" : 45, \"at\" : 23, \"this\" : 77}\n",
    "\n",
    "word_frequency_1.update(there = 100, at = 200, bye = 55)\n",
    "print(word_frequency_1)"
   ]
  },
  {
   "cell_type": "code",
   "execution_count": null,
   "metadata": {},
   "outputs": [],
   "source": [
    "word_frequency_2 = {\"house\" : 15, \"town\" : 22}\n",
    "word_frequency_2.update(word_frequency_1)\n",
    "\n",
    "print(word_frequency_2)"
   ]
  },
  {
   "cell_type": "markdown",
   "metadata": {},
   "source": [
    "### 1.5.19 Removing Elements from Dictionary with pop()\n",
    "\n",
    "▪ The **pop()** method removes an item with the provided key and returns the value.\n",
    "\n",
    "https://www.programiz.com/python-programming/dictionary"
   ]
  },
  {
   "cell_type": "code",
   "execution_count": null,
   "metadata": {},
   "outputs": [],
   "source": [
    "squares_1 = {1: 1, 2: 4, 3: 9, 4: 16, 5: 25}\n",
    "\n",
    "# Use pop() to remove a particular item and returns its value\n",
    "print(squares_1.pop(4))"
   ]
  },
  {
   "cell_type": "code",
   "execution_count": null,
   "metadata": {},
   "outputs": [],
   "source": [
    "print(squares_1)"
   ]
  },
  {
   "cell_type": "code",
   "execution_count": null,
   "metadata": {},
   "outputs": [],
   "source": [
    "word_frequency_1 = {\"Hello\" : 7, \"hi\" : 10, \"there\" : 45, \"at\" : 23, \"this\" : 77}\n",
    "print(word_frequency_1.pop(\"there\"))"
   ]
  },
  {
   "cell_type": "code",
   "execution_count": null,
   "metadata": {},
   "outputs": [],
   "source": [
    "print(word_frequency_1)"
   ]
  },
  {
   "cell_type": "markdown",
   "metadata": {},
   "source": [
    "### 1.5.20 Removing Elements from Dictionary with popitem()\n",
    "\n",
    "▪ The **popitem()** method can be used to remove and return an arbitrary (key, value) item pair from the dictionary."
   ]
  },
  {
   "cell_type": "code",
   "execution_count": null,
   "metadata": {},
   "outputs": [],
   "source": [
    "# Use popitem() to remove the last item, return (key,value)\n",
    "print(squares_1.popitem())"
   ]
  },
  {
   "cell_type": "code",
   "execution_count": null,
   "metadata": {},
   "outputs": [],
   "source": [
    "print(squares_1)"
   ]
  },
  {
   "cell_type": "code",
   "execution_count": null,
   "metadata": {},
   "outputs": [],
   "source": [
    "print(word_frequency_1.popitem())"
   ]
  },
  {
   "cell_type": "code",
   "execution_count": null,
   "metadata": {},
   "outputs": [],
   "source": [
    "print(word_frequency_1)"
   ]
  },
  {
   "cell_type": "markdown",
   "metadata": {},
   "source": [
    "### 1.5.21 Removing Elements from Dictionary with clear()"
   ]
  },
  {
   "cell_type": "code",
   "execution_count": null,
   "metadata": {},
   "outputs": [],
   "source": [
    "# Remove all items with clear()\n",
    "squares_1.clear()"
   ]
  },
  {
   "cell_type": "code",
   "execution_count": null,
   "metadata": {},
   "outputs": [],
   "source": [
    "print(squares_1)"
   ]
  },
  {
   "cell_type": "markdown",
   "metadata": {},
   "source": [
    "### 1.5.22 Removing Elements from Dictionary with del Keyword"
   ]
  },
  {
   "cell_type": "code",
   "execution_count": null,
   "metadata": {},
   "outputs": [],
   "source": [
    "# Delete the dictionary itself with the del keyword\n",
    "del squares_1"
   ]
  },
  {
   "cell_type": "code",
   "execution_count": null,
   "metadata": {},
   "outputs": [],
   "source": [
    "print(squares_1)"
   ]
  },
  {
   "cell_type": "markdown",
   "metadata": {},
   "source": [
    "### 1.5.23 Example: Creating a Graph Using List and Dictionary\n",
    "\n",
    "▪ Suppose we have the following map as our problem state space, create a graph to represent the map using dictionaries where the **key** represents the **parent node** and the **value** represents the **child nodes**.\n",
    "\n",
    "▪ For instance, 'A' is the parent of 'B' and 'C'. Therefore, 'A' is the key and both 'B' and 'C' are the values represented using a list.\n",
    "\n",
    "![graph.jpg](graph.jpg)"
   ]
  },
  {
   "cell_type": "code",
   "execution_count": null,
   "metadata": {},
   "outputs": [],
   "source": [
    "graph_1 = {'A':['B',\"C\"],\n",
    "           'B':['A','D','E'],\n",
    "           'C':['A','F'],\n",
    "           'D':['B'],\n",
    "           'E':['B','F'],\n",
    "           'F':['C','E']}\n",
    "\n",
    "print(graph_1)"
   ]
  },
  {
   "cell_type": "code",
   "execution_count": null,
   "metadata": {},
   "outputs": [],
   "source": [
    "graph_2 = {'A': set(['B','C']),\n",
    "           'B': set(['A','D','E']),\n",
    "           'C': set(['A','F']),\n",
    "           'D': set(['B']),\n",
    "           'E': set(['B','F']),\n",
    "           'F': set(['C','E'])}\n",
    "\n",
    "print(graph_2)"
   ]
  }
 ],
 "metadata": {
  "kernelspec": {
   "display_name": "Python 3 (ipykernel)",
   "language": "python",
   "name": "python3"
  },
  "language_info": {
   "codemirror_mode": {
    "name": "ipython",
    "version": 3
   },
   "file_extension": ".py",
   "mimetype": "text/x-python",
   "name": "python",
   "nbconvert_exporter": "python",
   "pygments_lexer": "ipython3",
   "version": "3.9.12"
  }
 },
 "nbformat": 4,
 "nbformat_minor": 4
}
