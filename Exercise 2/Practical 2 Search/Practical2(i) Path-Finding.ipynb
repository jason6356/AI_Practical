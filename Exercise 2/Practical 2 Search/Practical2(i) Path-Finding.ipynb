{
 "cells": [
  {
   "cell_type": "markdown",
   "metadata": {},
   "source": [
    "# Introduction\n",
    "\n",
    "Graphs are networks consisting of nodes connected by edges or arc. There are two type of graphs: directed graph and undirected graph.\n",
    "\n",
    "**_Directed graph:_** the connections, or arcs, between nodes have a direction and can only navigate according to the direction.\n",
    "\n",
    "**_Undirected graph:_** the connections, or edges, have no direction.\n",
    "\n",
    "Search algorithms in graphs include **finding a path between two nodes, finding the shortest path between two nodes, determining cycles in the graph** (a cycle is a non-empty path from a node to itself), **finding a path that reaches all nodes**, etc.\n",
    "\n",
    "For example: in informed search, the nodes or arcs of a graph usually have weights or costs associated with them, and it is important to find the cheapest or most optimal path.\n",
    "\n",
    "# Instruction\n",
    "\n",
    "## Section A: Dictionary\n",
    "\n",
    "**1. Dictionary:** Dictionaries are a collection of items in the form of a (key, value) pair. Each item is identified by a key. Unlike lists, dictionaries are unordered sets, which are accessed via keys but not via their position.\n"
   ]
  },
  {
   "cell_type": "code",
   "execution_count": 11,
   "metadata": {},
   "outputs": [
    {
     "name": "stdout",
     "output_type": "stream",
     "text": [
      "{'name': ['James', 'Bond'], 'age': 20, 'level': 'BSc', 'programme': 'SF', 'year': 2, 'registration_id': '16WAD1234', 'tel': '0110101010'}\n",
      "{'name': ['Tomy', 'Hillfigure'], 'age': '19', 'level': 'BSc', 'programme': 'ST', 'year': 2, 'registration_id': '16WAD5678', 'tel': '0191111000'}\n"
     ]
    }
   ],
   "source": [
    "#list\n",
    "\n",
    "list1 = [12.3, 3.4, \"Amy\", \"012-22223333\"]\n",
    "name = list1[2]\n",
    "\n",
    "# First way to declare a dictionary\n",
    "student1 = {'name':['James','Bond'],'age':20,'level':'BSc', 'programme':'SF','year':2,'registration_id':'16WAD1234',\n",
    "           'tel':'0110101010'}\n",
    "\n",
    "name = student1['name']\n",
    "\n",
    "#tuple\n",
    "dict1 = dict([('key', 5.6),('key1', 'Amy')]) #immutable\n",
    "\n",
    "\n",
    "#Second way to declare a dictionary, as a list of binary tuples\n",
    "student2 = dict([('name',['Tomy','Hillfigure']),('age','19'),('level','BSc'),('programme','ST'),('year',2),\n",
    "                 ('registration_id','16WAD5678'),('tel','0191111000')])\n",
    "\n",
    "\n",
    "#Finish this -----> Display outputs of both the students\n",
    "print(student1)\n",
    "print(student2)\n"
   ]
  },
  {
   "cell_type": "markdown",
   "metadata": {},
   "source": [
    "**2. Accessing an element of dictionary:** You can use assigned keys to retrieve a value from a dictionary. With **.items()**, you can also create a list of binary tuples of the items in the dictionary."
   ]
  },
  {
   "cell_type": "code",
   "execution_count": 12,
   "metadata": {},
   "outputs": [
    {
     "name": "stdout",
     "output_type": "stream",
     "text": [
      "4\n",
      "Name: ['James', 'Bond']\n",
      "Registration ID 16WAD1234\n",
      "Programme RSF2\n"
     ]
    },
    {
     "data": {
      "text/plain": [
       "dict_items([('name', ['James', 'Bond']), ('age', 20), ('level', 'BSc'), ('programme', 'SF'), ('year', 2), ('registration_id', '16WAD1234'), ('tel', '0110101010')])"
      ]
     },
     "execution_count": 12,
     "metadata": {},
     "output_type": "execute_result"
    }
   ],
   "source": [
    "# list\n",
    "list1 = [0,1,2,3,4]\n",
    "print(list1[4])\n",
    "\n",
    "#retrieving individual element based on a key\n",
    "print ('Name:', student1['name'])\n",
    "print ('Registration ID', student1['registration_id'])\n",
    "if student1['level'] == 'BSc':\n",
    "    print ('Programme R' + student1['programme'] + str(student1['year']))\n",
    "    \n",
    "#To retrieve individual element into a list of tuples\n",
    "student1.items()\n",
    "#----->Finish this "
   ]
  },
  {
   "cell_type": "markdown",
   "metadata": {},
   "source": [
    "**3. Traversing a dictionary:** You can traverse through a dictionary by using a for loop. Remember that with .items(), you would have a list of binary tuples, hence you can unpack them into 2 elements - attribute and value"
   ]
  },
  {
   "cell_type": "code",
   "execution_count": 17,
   "metadata": {},
   "outputs": [
    {
     "name": "stdout",
     "output_type": "stream",
     "text": [
      "name : ['James', 'Bond']\n",
      "age : 20\n",
      "level : BSc\n",
      "programme : SF\n",
      "year : 2\n",
      "registration_id : 16WAD1234\n",
      "tel : 0110101010\n"
     ]
    }
   ],
   "source": [
    "# for value in  student1:\n",
    "#     print (value)\n",
    "\n",
    "for key,value in student1.items():\n",
    "    print(key, \":\", value)\n",
    "    \n",
    "# for attribute, value in student1.items():\n",
    "#     print (attribute, ':\\t', value)"
   ]
  },
  {
   "attachments": {
    "image.png": {
     "image/png": "[encoded data removed]"
    }
   },
   "cell_type": "markdown",
   "metadata": {},
   "source": [
    "# Section B: Creating a graph using List and Dictionary\n",
    "\n",
    "Assume that we have the following graph as our problem state space: \n",
    "![image.png](attachment:image.png)\n",
    "\n",
    "**1. Defining a graph:** Graphs are easily built out of list (or sets) and dictionaries in Python.\n"
   ]
  },
  {
   "cell_type": "code",
   "execution_count": 18,
   "metadata": {},
   "outputs": [
    {
     "name": "stdout",
     "output_type": "stream",
     "text": [
      "{'A': ['B', 'C'], 'B': ['A', 'D', 'E'], 'C': ['A', 'F'], 'D': ['B'], 'E': ['B', 'F'], 'F': ['C', 'E']}\n",
      "{'A': {'C', 'B'}, 'B': {'E', 'D', 'A'}, 'C': {'F', 'A'}, 'D': {'B'}, 'E': {'F', 'B'}, 'F': {'E', 'C'}}\n"
     ]
    }
   ],
   "source": [
    "\"\"\"\n",
    "Defining a problem state space\n",
    "The graph is defined with dictionary whose keys are the nodes of the graph.\n",
    "Graph 1 is defined with List, while graph 2 is defined with sets.\n",
    "\"\"\"\n",
    "\n",
    "graph1 = {'A': ['B',\"C\"],\n",
    "         'B':['A','D','E'],\n",
    "         'C':['A','F'],\n",
    "         'D':['B'],\n",
    "         'E':['B','F'],\n",
    "         'F':['C','E']}\n",
    "graph2 = {'A': set(['B','C']),\n",
    "         'B': set(['A','D','E']),\n",
    "         'C': set(['A','F']),\n",
    "         'D': set(['B']),\n",
    "         'E': set(['B','F']),\n",
    "         'F': set(['C','E'])}\n",
    "\n",
    "#----->Finish this \n",
    "print(graph1)\n",
    "print(graph2)"
   ]
  },
  {
   "cell_type": "markdown",
   "metadata": {},
   "source": [
    "**2. Finding a path:** To determine a path between two nodes, write a function that:\n",
    "\n",
    "\n",
    "a) Takes a graph and the start and end nodes as arguments\n",
    "\n",
    "b) Returns a list of nodes comprising the path\n",
    "\n",
    "c) When no path can be found, it returns None.\n",
    "\n",
    "d) The same node will not occur more than once on the path returned.\n",
    "\n",
    "e) Tries each possibility in turn until it finds a solution, also known as backtracking.\n"
   ]
  },
  {
   "cell_type": "code",
   "execution_count": 20,
   "metadata": {
    "scrolled": true
   },
   "outputs": [
    {
     "name": "stdout",
     "output_type": "stream",
     "text": [
      "Path from B to C =  ['B', 'E', 'F', 'C']\n"
     ]
    }
   ],
   "source": [
    "#the first arg takes a graph, the last arg is needed to form the path\n",
    "def find_path(graph, start, end,path=[]):\n",
    "    #print(\"start = \",start)\n",
    "    path = path + [start] # combining two list\n",
    "    #print(\"path = \",path)\n",
    "    \n",
    "    if start == end:\n",
    "        return path\n",
    "    if start not in graph: # if the start node is not found in the graph\n",
    "        return None\n",
    "    \n",
    "    #print(\"graph[start] = \",graph[start])\n",
    "    for node in graph[start]: #retrieve the child nodes    \n",
    "        #print(\"---------------------------------\")\n",
    "        #print(\"node = \", node)\n",
    "        if node not in path: # to avoid repeated state\n",
    "            #recursion is useful in backtracking algorithm\n",
    "            newpath = find_path(graph,node, end, path)\n",
    "            if newpath:\n",
    "                return newpath\n",
    "    return None\n",
    "\n",
    "print(\"Path from B to C = \", find_path(graph2, 'B', 'C'))\n"
   ]
  },
  {
   "cell_type": "markdown",
   "metadata": {},
   "source": [
    "Try finding a path that start = A, end = E"
   ]
  },
  {
   "cell_type": "code",
   "execution_count": 22,
   "metadata": {},
   "outputs": [
    {
     "name": "stdout",
     "output_type": "stream",
     "text": [
      "Path from A to E =  ['A', 'B', 'E']\n",
      "Path from A to E =  ['A', 'C', 'F', 'E']\n"
     ]
    }
   ],
   "source": [
    "#--> find a path and print\n",
    "print(\"Path from A to E = \", find_path(graph1, 'A', 'E'))\n",
    "print(\"Path from A to E = \", find_path(graph2, 'A', 'E'))"
   ]
  },
  {
   "attachments": {
    "find_path%20recursion.png": {
     "image/png": "[encoded data removed]"
    }
   },
   "cell_type": "markdown",
   "metadata": {},
   "source": [
    "### How it works?\n",
    "![find_path%20recursion.png](attachment:find_path%20recursion.png)"
   ]
  },
  {
   "cell_type": "markdown",
   "metadata": {},
   "source": [
    "**3. Find all paths:** Sometimes we want to see all the **_alternative_** solutions instead of only the first one we obtain, so that we can also determine the **_shortest_** or **_longest_** path.\n"
   ]
  },
  {
   "cell_type": "code",
   "execution_count": 23,
   "metadata": {},
   "outputs": [
    {
     "data": {
      "text/plain": [
       "[['B', 'A', 'C'], ['B', 'E', 'F', 'C']]"
      ]
     },
     "execution_count": 23,
     "metadata": {},
     "output_type": "execute_result"
    }
   ],
   "source": [
    "def find_all_paths(graph, start, end, path=[]):\n",
    "    path = path + [start]\n",
    "    if start == end:\n",
    "        return [path]\n",
    "    if start not in graph:\n",
    "        return []\n",
    "    paths = []\n",
    "    for node in graph[start]:\n",
    "        if node not in path:\n",
    "            newpaths = find_all_paths(graph,node, end, path)\n",
    "            #this time the newpath is appended into a list\n",
    "            for newpath in newpaths:\n",
    "                paths.append(newpath)\n",
    "    return paths\n",
    "\n",
    "find_all_paths(graph1,'B','C')\n"
   ]
  },
  {
   "cell_type": "markdown",
   "metadata": {},
   "source": [
    "Try start = A, end = C"
   ]
  },
  {
   "cell_type": "code",
   "execution_count": null,
   "metadata": {},
   "outputs": [],
   "source": [
    "#--> find a path and print"
   ]
  },
  {
   "cell_type": "markdown",
   "metadata": {},
   "source": [
    "# Section C: Uninformed Search on a Problem State Space¶\n",
    "\n",
    "Uninformed search includes **_depth-first search_** and **_breadth-first search_**. Both search algorithms can be used to solve the river crossing problems, The Missionaries and Cannibals with Python. Here are the rules.\n",
    "\n",
    "Three missionaries and three cannibals must cross a river using a boat which can carry at most **_two_** people, under the constraint that:\n",
    "\n",
    "a) for both banks, if there are missionaries present on the bank, they cannot be outnumbered by cannibals. If they were, the cannibals would eat the missionaries.\n",
    "\n",
    "b) The boat cannot cross the river by itself with no people on board.\n",
    "\n",
    "c) In some variations, one of the cannibals has only one arm and cannow row.\n"
   ]
  },
  {
   "cell_type": "code",
   "execution_count": 24,
   "metadata": {},
   "outputs": [
    {
     "name": "stdout",
     "output_type": "stream",
     "text": [
      "=== BFS ===\n",
      "Missionaries and Cannibals solution:\n",
      "cannibalLeft,missionaryLeft,boat,cannibalRight,missionaryRight\n",
      "( 3 , 3 , left , 0 , 0 )\n",
      "( 1 , 3 , right , 2 , 0 )\n",
      "( 2 , 3 , left , 1 , 0 )\n",
      "( 0 , 3 , right , 3 , 0 )\n",
      "( 1 , 3 , left , 2 , 0 )\n",
      "( 1 , 1 , right , 2 , 2 )\n",
      "( 2 , 2 , left , 1 , 1 )\n",
      "( 2 , 0 , right , 1 , 3 )\n",
      "( 3 , 0 , left , 0 , 3 )\n",
      "( 1 , 0 , right , 2 , 3 )\n",
      "( 1 , 1 , left , 2 , 2 )\n",
      "( 0 , 0 , right , 3 , 3 )\n",
      "=== DFS ===\n",
      "( 3 , 3 , left , 0 , 0 )\n",
      "( 2 , 2 , right , 1 , 1 )\n",
      "( 2 , 3 , left , 1 , 0 )\n",
      "( 0 , 3 , right , 3 , 0 )\n",
      "( 1 , 3 , left , 2 , 0 )\n",
      "( 1 , 1 , right , 2 , 2 )\n",
      "( 2 , 2 , left , 1 , 1 )\n",
      "( 2 , 0 , right , 1 , 3 )\n",
      "( 3 , 0 , left , 0 , 3 )\n",
      "( 1 , 0 , right , 2 , 3 )\n",
      "( 2 , 0 , left , 1 , 3 )\n",
      "( 0 , 0 , right , 3 , 3 )\n"
     ]
    }
   ],
   "source": [
    "\"\"\"\n",
    "Missionary and Cannibal source code\n",
    "\"\"\"\n",
    "\n",
    "import math\n",
    "\n",
    "#______________________________________________________________________________\n",
    "# Missionaries and Cannibals Problem\n",
    "\n",
    "# problem definition\n",
    "class State():\n",
    "    # States: (cannibalLeft, missionaryLeft, boat, cannibalRight, missionaryRight)\n",
    "    def __init__(self, cannibalLeft, missionaryLeft, boat, cannibalRight, missionaryRight):\n",
    "        self.cannibalLeft = cannibalLeft\n",
    "        self.missionaryLeft = missionaryLeft\n",
    "        self.boat = boat\n",
    "        self.cannibalRight = cannibalRight\n",
    "        self.missionaryRight = missionaryRight\n",
    "        self.parent = None\n",
    "\n",
    "    def is_goal(self): # to check whether goal state is reached\n",
    "        if self.cannibalLeft == 0 and self.missionaryLeft == 0:\n",
    "            return True\n",
    "        else:\n",
    "            return False\n",
    "\n",
    "    def is_valid(self):\n",
    "        if self.missionaryLeft >= 0 and self.missionaryRight >= 0 \\\n",
    "                   and self.cannibalLeft >= 0 and self.cannibalRight >= 0 \\\n",
    "                   and (self.missionaryLeft == 0 or self.missionaryLeft >= self.cannibalLeft) \\\n",
    "                   and (self.missionaryRight == 0 or self.missionaryRight >= self.cannibalRight):\n",
    "            return True\n",
    "        else:\n",
    "            return False\n",
    "\n",
    "    def __eq__(self, other):\n",
    "        return self.cannibalLeft == other.cannibalLeft and self.missionaryLeft == other.missionaryLeft \\\n",
    "                   and self.boat == other.boat and self.cannibalRight == other.cannibalRight \\\n",
    "                   and self.missionaryRight == other.missionaryRight\n",
    "\n",
    "    def __hash__(self):\n",
    "        return hash((self.cannibalLeft, self.missionaryLeft, self.boat, self.cannibalRight, self.missionaryRight))\n",
    "\n",
    "# Successor function: define the possible movements so that the state is changed.\n",
    "# Only valid moves will be considered, which is validated by the is_valid() function\n",
    "def successors(cur_state):\n",
    "    children = [];\n",
    "    if cur_state.boat == 'left':\n",
    "        new_state = State(cur_state.cannibalLeft, cur_state.missionaryLeft - 2, 'right',\n",
    "                                  cur_state.cannibalRight, cur_state.missionaryRight + 2)\n",
    "        ## Two missionaries cross left to right.\n",
    "        if new_state.is_valid():\n",
    "            new_state.parent = cur_state\n",
    "            children.append(new_state)\n",
    "        new_state = State(cur_state.cannibalLeft - 2, cur_state.missionaryLeft, 'right',\n",
    "                                  cur_state.cannibalRight + 2, cur_state.missionaryRight)\n",
    "        ## Two cannibals cross left to right.\n",
    "        if new_state.is_valid():\n",
    "            new_state.parent = cur_state\n",
    "            children.append(new_state)\n",
    "        new_state = State(cur_state.cannibalLeft - 1, cur_state.missionaryLeft - 1, 'right',\n",
    "                                  cur_state.cannibalRight + 1, cur_state.missionaryRight + 1)\n",
    "        ## One missionary and one cannibal cross left to right.\n",
    "        if new_state.is_valid():\n",
    "            new_state.parent = cur_state\n",
    "            children.append(new_state)\n",
    "        new_state = State(cur_state.cannibalLeft, cur_state.missionaryLeft - 1, 'right',\n",
    "                                  cur_state.cannibalRight, cur_state.missionaryRight + 1)\n",
    "        ## One missionary crosses left to right.\n",
    "        if new_state.is_valid():\n",
    "            new_state.parent = cur_state\n",
    "            children.append(new_state)\n",
    "        new_state = State(cur_state.cannibalLeft - 1, cur_state.missionaryLeft, 'right',\n",
    "                                  cur_state.cannibalRight + 1, cur_state.missionaryRight)\n",
    "        ## One cannibal crosses left to right.\n",
    "        if new_state.is_valid():\n",
    "            new_state.parent = cur_state\n",
    "            children.append(new_state)\n",
    "    else:\n",
    "        new_state = State(cur_state.cannibalLeft, cur_state.missionaryLeft + 2, 'left',\n",
    "                                  cur_state.cannibalRight, cur_state.missionaryRight - 2)\n",
    "        ## Two missionaries cross right to left.\n",
    "        if new_state.is_valid():\n",
    "            new_state.parent = cur_state\n",
    "            children.append(new_state)\n",
    "        new_state = State(cur_state.cannibalLeft + 2, cur_state.missionaryLeft, 'left',\n",
    "                                  cur_state.cannibalRight - 2, cur_state.missionaryRight)\n",
    "        ## Two cannibals cross right to left.\n",
    "        if new_state.is_valid():\n",
    "            new_state.parent = cur_state\n",
    "            children.append(new_state)\n",
    "        new_state = State(cur_state.cannibalLeft + 1, cur_state.missionaryLeft + 1, 'left',\n",
    "                                  cur_state.cannibalRight - 1, cur_state.missionaryRight - 1)\n",
    "        ## One missionary and one cannibal cross right to left.\n",
    "        if new_state.is_valid():\n",
    "            new_state.parent = cur_state\n",
    "            children.append(new_state)\n",
    "        new_state = State(cur_state.cannibalLeft, cur_state.missionaryLeft + 1, 'left',\n",
    "                                  cur_state.cannibalRight, cur_state.missionaryRight - 1)\n",
    "        ## One missionary crosses right to left.\n",
    "        if new_state.is_valid():\n",
    "            new_state.parent = cur_state\n",
    "            children.append(new_state)\n",
    "        new_state = State(cur_state.cannibalLeft + 1, cur_state.missionaryLeft, 'left',\n",
    "                                  cur_state.cannibalRight - 1, cur_state.missionaryRight)\n",
    "        ## One cannibal crosses right to left.\n",
    "        if new_state.is_valid():\n",
    "            new_state.parent = cur_state\n",
    "            children.append(new_state)\n",
    "    return children\n",
    "\n",
    "def breadth_first_search():\n",
    "    print (\"=== BFS ===\")\n",
    "    initial_state = State(3,3,'left',0,0) # initial state: 3 cannibals and 3 missionaries on the left bank\n",
    "    if initial_state.is_goal():\n",
    "        return initial_state\n",
    "    frontier = list()\n",
    "    explored = set()\n",
    "    frontier.append(initial_state)\n",
    "    while frontier:\n",
    "        state = frontier.pop(0)\n",
    "        if state.is_goal():\n",
    "            return state\n",
    "        explored.add(state)\n",
    "        children = successors(state)\n",
    "        for child in children:\n",
    "            if (child not in explored) or (child not in frontier):\n",
    "                frontier.append(child)\n",
    "    return None\n",
    "\n",
    "#==============================================================================\n",
    "def depth_first_search():\n",
    "    print (\"=== DFS ===\")\n",
    "    initial_state = State(3,3,'left',0,0)\n",
    "    if initial_state.is_goal():\n",
    "        return initial_state\n",
    "    frontier = list()\n",
    "    explored = set()\n",
    "    frontier.insert(0, initial_state)\n",
    "    explored.add(initial_state)  #<------------\n",
    "    while frontier:\n",
    "        state = frontier.pop(0)\n",
    "        if state.is_goal():\n",
    "            return state\n",
    "        explored.add(state)\n",
    "            #print \"state:\", state.cannibalLeft, state.missionaryLeft, state.boat,state.cannibalRight, state.missionaryRight\n",
    "        children = successors(state)\n",
    "        for child in children:\n",
    "            #print \"child:\", child.cannibalLeft, child.missionaryLeft, child.boat, child.cannibalRight, child.missionaryRight\n",
    "            if (child not in explored) and (child not in frontier):\n",
    "                frontier.insert(0,child)\n",
    "    return None\n",
    "#==============================================================================\n",
    "\n",
    "\n",
    "def print_solution(solution): # display the solution path\n",
    "        path = []\n",
    "        path.append(solution)\n",
    "        parent = solution.parent\n",
    "        while parent:\n",
    "            path.append(parent)\n",
    "            parent = parent.parent\n",
    "\n",
    "        for t in range(len(path)):\n",
    "            state = path[len(path) - t - 1]\n",
    "            print ('(',(state.cannibalLeft),\",\" ,(state.missionaryLeft) \\\n",
    "                              , \",\" , state.boat , \",\" ,(state.cannibalRight) , \",\" , \\\n",
    "                              (state.missionaryRight) , \")\")\n",
    "\n",
    " \n",
    "def main():\n",
    "   \n",
    "    solution1 = breadth_first_search()\n",
    "    \n",
    "    print (\"Missionaries and Cannibals solution:\")\n",
    "    print (\"cannibalLeft,missionaryLeft,boat,cannibalRight,missionaryRight\")\n",
    "    print_solution(solution1)\n",
    "    solution2 = depth_first_search()\n",
    "    print_solution(solution2)\n",
    "    \n",
    "\n",
    "# if called from the command line, call main()\n",
    "if __name__ == \"__main__\":\n",
    "    main()\n"
   ]
  }
 ],
 "metadata": {
  "kernelspec": {
   "display_name": "Python 3",
   "language": "python",
   "name": "python3"
  },
  "language_info": {
   "codemirror_mode": {
    "name": "ipython",
    "version": 3
   },
   "file_extension": ".py",
   "mimetype": "text/x-python",
   "name": "python",
   "nbconvert_exporter": "python",
   "pygments_lexer": "ipython3",
   "version": "3.7.7"
  }
 },
 "nbformat": 4,
 "nbformat_minor": 2
}
